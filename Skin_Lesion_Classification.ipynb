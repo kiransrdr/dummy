{
  "metadata": {
    "kernelspec": {
      "language": "python",
      "display_name": "Python 3",
      "name": "python3"
    },
    "language_info": {
      "name": "python",
      "version": "3.7.12",
      "mimetype": "text/x-python",
      "codemirror_mode": {
        "name": "ipython",
        "version": 3
      },
      "pygments_lexer": "ipython3",
      "nbconvert_exporter": "python",
      "file_extension": ".py"
    },
    "colab": {
      "name": "Skin_Lesion_Classification.ipynb",
      "provenance": [],
      "collapsed_sections": [],
      "toc_visible": true
    }
  },
  "nbformat_minor": 0,
  "nbformat": 4,
  "cells": [
    {
      "cell_type": "code",
      "source": [
        "from google.colab import drive\n",
        "drive.mount('/content/drive')"
      ],
      "metadata": {
        "colab": {
          "base_uri": "https://localhost:8080/"
        },
        "id": "1HzZNpgby88c",
        "outputId": "6eb5df70-9eb4-4a20-baa5-1d5c2c89466d"
      },
      "execution_count": 1,
      "outputs": [
        {
          "output_type": "stream",
          "name": "stdout",
          "text": [
            "Mounted at /content/drive\n"
          ]
        }
      ]
    },
    {
      "cell_type": "code",
      "source": [
        "import pandas as pd\n",
        "import seaborn as sns\n",
        "import numpy as np\n",
        "import matplotlib.pyplot as plt\n",
        "from sklearn.linear_model import LinearRegression\n",
        "from sklearn.ensemble import RandomForestClassifier, VotingClassifier\n",
        "from sklearn.ensemble import RandomForestClassifier\n",
        "from sklearn import metrics\n",
        "from sklearn.metrics import  accuracy_score\n",
        "from sklearn.metrics import classification_report\n",
        "from sklearn.naive_bayes import GaussianNB\n",
        "from sklearn import tree\n",
        "from sklearn.metrics import confusion_matrix\n",
        "from sklearn.metrics import plot_confusion_matrix\n",
        "from sklearn.svm import SVC\n",
        "from sklearn import metrics as ms\n",
        "import pandas as pd\n"
      ],
      "metadata": {
        "execution": {
          "iopub.status.busy": "2022-06-05T06:54:21.506418Z",
          "iopub.execute_input": "2022-06-05T06:54:21.506883Z",
          "iopub.status.idle": "2022-06-05T06:54:21.512554Z",
          "shell.execute_reply.started": "2022-06-05T06:54:21.506848Z",
          "shell.execute_reply": "2022-06-05T06:54:21.511888Z"
        },
        "trusted": true,
        "id": "eLg-vqjrM30H"
      },
      "execution_count": 10,
      "outputs": []
    },
    {
      "cell_type": "markdown",
      "source": [
        "# **Imbalanced**"
      ],
      "metadata": {
        "id": "pl-8fybPM30w"
      }
    },
    {
      "cell_type": "markdown",
      "source": [
        "## **UNET**"
      ],
      "metadata": {
        "id": "2OrQQOZ3M30y"
      }
    },
    {
      "cell_type": "code",
      "source": [
        "df=pd.read_csv('/content/drive/MyDrive/Fiverr/2016_final/Classification/imbalanced_unet.csv')\n",
        "df=df.drop(columns=df.columns[0],axis=1)\n",
        "df"
      ],
      "metadata": {
        "colab": {
          "base_uri": "https://localhost:8080/",
          "height": 488
        },
        "id": "Pwt0ISZIyhqZ",
        "outputId": "8ef4e3a3-b842-4e4d-c7c3-587fdb4d5e45"
      },
      "execution_count": null,
      "outputs": [
        {
          "output_type": "execute_result",
          "data": {
            "text/plain": [
              "      Feature_1  Feature_2  Feature_3  Feature_4  Feature_5  Feature_6  \\\n",
              "0      1.618240   0.092853   1.708813  -0.300145  -0.293024  -0.391979   \n",
              "1      0.983427   0.220914   0.929119  -0.370344   1.907411  -0.899602   \n",
              "2     -0.603606   2.675414  -1.318233   1.138934   0.108642  -0.899602   \n",
              "3      0.983427  -0.504764   0.608069  -0.791537   0.946903   2.044612   \n",
              "4     -0.127496   1.971079  -1.226505   0.542243  -0.118387  -0.798077   \n",
              "...         ...        ...        ...        ...        ...        ...   \n",
              "1185  -0.709408  -0.974321   0.195290  -0.651139  -0.520053  -1.102651   \n",
              "1186  -0.709408  -0.760886   0.103561  -0.440543  -0.607372   0.115644   \n",
              "1187  -0.603606  -0.846260   0.057697  -0.580940  -0.293024   0.318693   \n",
              "1188  -0.339100  -0.888947   0.791526   0.682640  -0.223169   0.115644   \n",
              "1189   0.930526  -1.017008   0.745662   2.648211  -0.310488  -0.899602   \n",
              "\n",
              "      Feature_7  Feature_8  Feature_9  Feature_10  Feature_11  label  \n",
              "0      0.160921   1.964600  -0.376930   -0.552599   -1.269133      0  \n",
              "1     -0.804028   1.260925  -0.912188   -0.249863   -1.772300      0  \n",
              "2     -0.866283  -0.146424   1.883049   -0.703966    0.156505      0  \n",
              "3      0.192048   0.718090   0.396221    0.910624   -0.514383      0  \n",
              "4     -0.959665   1.019665   0.990952   -0.956246    0.408089      0  \n",
              "...         ...        ...        ...         ...         ...    ...  \n",
              "1185  -0.897410  -0.447999  -0.495876    2.121566   -0.430522      5  \n",
              "1186  -0.399372  -1.091359  -0.495876    0.406064    0.659672      5  \n",
              "1187  -0.555009  -1.357750  -0.436403    0.103329    0.743533      5  \n",
              "1188  -0.150353   0.205413   0.217802    0.910624    1.917589      5  \n",
              "1189  -0.897410   0.356201  -0.495876    0.708800    1.749867      5  \n",
              "\n",
              "[1190 rows x 12 columns]"
            ],
            "text/html": [
              "\n",
              "  <div id=\"df-e8cb2a92-5cb3-423e-b16b-9fa495d54a62\">\n",
              "    <div class=\"colab-df-container\">\n",
              "      <div>\n",
              "<style scoped>\n",
              "    .dataframe tbody tr th:only-of-type {\n",
              "        vertical-align: middle;\n",
              "    }\n",
              "\n",
              "    .dataframe tbody tr th {\n",
              "        vertical-align: top;\n",
              "    }\n",
              "\n",
              "    .dataframe thead th {\n",
              "        text-align: right;\n",
              "    }\n",
              "</style>\n",
              "<table border=\"1\" class=\"dataframe\">\n",
              "  <thead>\n",
              "    <tr style=\"text-align: right;\">\n",
              "      <th></th>\n",
              "      <th>Feature_1</th>\n",
              "      <th>Feature_2</th>\n",
              "      <th>Feature_3</th>\n",
              "      <th>Feature_4</th>\n",
              "      <th>Feature_5</th>\n",
              "      <th>Feature_6</th>\n",
              "      <th>Feature_7</th>\n",
              "      <th>Feature_8</th>\n",
              "      <th>Feature_9</th>\n",
              "      <th>Feature_10</th>\n",
              "      <th>Feature_11</th>\n",
              "      <th>label</th>\n",
              "    </tr>\n",
              "  </thead>\n",
              "  <tbody>\n",
              "    <tr>\n",
              "      <th>0</th>\n",
              "      <td>1.618240</td>\n",
              "      <td>0.092853</td>\n",
              "      <td>1.708813</td>\n",
              "      <td>-0.300145</td>\n",
              "      <td>-0.293024</td>\n",
              "      <td>-0.391979</td>\n",
              "      <td>0.160921</td>\n",
              "      <td>1.964600</td>\n",
              "      <td>-0.376930</td>\n",
              "      <td>-0.552599</td>\n",
              "      <td>-1.269133</td>\n",
              "      <td>0</td>\n",
              "    </tr>\n",
              "    <tr>\n",
              "      <th>1</th>\n",
              "      <td>0.983427</td>\n",
              "      <td>0.220914</td>\n",
              "      <td>0.929119</td>\n",
              "      <td>-0.370344</td>\n",
              "      <td>1.907411</td>\n",
              "      <td>-0.899602</td>\n",
              "      <td>-0.804028</td>\n",
              "      <td>1.260925</td>\n",
              "      <td>-0.912188</td>\n",
              "      <td>-0.249863</td>\n",
              "      <td>-1.772300</td>\n",
              "      <td>0</td>\n",
              "    </tr>\n",
              "    <tr>\n",
              "      <th>2</th>\n",
              "      <td>-0.603606</td>\n",
              "      <td>2.675414</td>\n",
              "      <td>-1.318233</td>\n",
              "      <td>1.138934</td>\n",
              "      <td>0.108642</td>\n",
              "      <td>-0.899602</td>\n",
              "      <td>-0.866283</td>\n",
              "      <td>-0.146424</td>\n",
              "      <td>1.883049</td>\n",
              "      <td>-0.703966</td>\n",
              "      <td>0.156505</td>\n",
              "      <td>0</td>\n",
              "    </tr>\n",
              "    <tr>\n",
              "      <th>3</th>\n",
              "      <td>0.983427</td>\n",
              "      <td>-0.504764</td>\n",
              "      <td>0.608069</td>\n",
              "      <td>-0.791537</td>\n",
              "      <td>0.946903</td>\n",
              "      <td>2.044612</td>\n",
              "      <td>0.192048</td>\n",
              "      <td>0.718090</td>\n",
              "      <td>0.396221</td>\n",
              "      <td>0.910624</td>\n",
              "      <td>-0.514383</td>\n",
              "      <td>0</td>\n",
              "    </tr>\n",
              "    <tr>\n",
              "      <th>4</th>\n",
              "      <td>-0.127496</td>\n",
              "      <td>1.971079</td>\n",
              "      <td>-1.226505</td>\n",
              "      <td>0.542243</td>\n",
              "      <td>-0.118387</td>\n",
              "      <td>-0.798077</td>\n",
              "      <td>-0.959665</td>\n",
              "      <td>1.019665</td>\n",
              "      <td>0.990952</td>\n",
              "      <td>-0.956246</td>\n",
              "      <td>0.408089</td>\n",
              "      <td>0</td>\n",
              "    </tr>\n",
              "    <tr>\n",
              "      <th>...</th>\n",
              "      <td>...</td>\n",
              "      <td>...</td>\n",
              "      <td>...</td>\n",
              "      <td>...</td>\n",
              "      <td>...</td>\n",
              "      <td>...</td>\n",
              "      <td>...</td>\n",
              "      <td>...</td>\n",
              "      <td>...</td>\n",
              "      <td>...</td>\n",
              "      <td>...</td>\n",
              "      <td>...</td>\n",
              "    </tr>\n",
              "    <tr>\n",
              "      <th>1185</th>\n",
              "      <td>-0.709408</td>\n",
              "      <td>-0.974321</td>\n",
              "      <td>0.195290</td>\n",
              "      <td>-0.651139</td>\n",
              "      <td>-0.520053</td>\n",
              "      <td>-1.102651</td>\n",
              "      <td>-0.897410</td>\n",
              "      <td>-0.447999</td>\n",
              "      <td>-0.495876</td>\n",
              "      <td>2.121566</td>\n",
              "      <td>-0.430522</td>\n",
              "      <td>5</td>\n",
              "    </tr>\n",
              "    <tr>\n",
              "      <th>1186</th>\n",
              "      <td>-0.709408</td>\n",
              "      <td>-0.760886</td>\n",
              "      <td>0.103561</td>\n",
              "      <td>-0.440543</td>\n",
              "      <td>-0.607372</td>\n",
              "      <td>0.115644</td>\n",
              "      <td>-0.399372</td>\n",
              "      <td>-1.091359</td>\n",
              "      <td>-0.495876</td>\n",
              "      <td>0.406064</td>\n",
              "      <td>0.659672</td>\n",
              "      <td>5</td>\n",
              "    </tr>\n",
              "    <tr>\n",
              "      <th>1187</th>\n",
              "      <td>-0.603606</td>\n",
              "      <td>-0.846260</td>\n",
              "      <td>0.057697</td>\n",
              "      <td>-0.580940</td>\n",
              "      <td>-0.293024</td>\n",
              "      <td>0.318693</td>\n",
              "      <td>-0.555009</td>\n",
              "      <td>-1.357750</td>\n",
              "      <td>-0.436403</td>\n",
              "      <td>0.103329</td>\n",
              "      <td>0.743533</td>\n",
              "      <td>5</td>\n",
              "    </tr>\n",
              "    <tr>\n",
              "      <th>1188</th>\n",
              "      <td>-0.339100</td>\n",
              "      <td>-0.888947</td>\n",
              "      <td>0.791526</td>\n",
              "      <td>0.682640</td>\n",
              "      <td>-0.223169</td>\n",
              "      <td>0.115644</td>\n",
              "      <td>-0.150353</td>\n",
              "      <td>0.205413</td>\n",
              "      <td>0.217802</td>\n",
              "      <td>0.910624</td>\n",
              "      <td>1.917589</td>\n",
              "      <td>5</td>\n",
              "    </tr>\n",
              "    <tr>\n",
              "      <th>1189</th>\n",
              "      <td>0.930526</td>\n",
              "      <td>-1.017008</td>\n",
              "      <td>0.745662</td>\n",
              "      <td>2.648211</td>\n",
              "      <td>-0.310488</td>\n",
              "      <td>-0.899602</td>\n",
              "      <td>-0.897410</td>\n",
              "      <td>0.356201</td>\n",
              "      <td>-0.495876</td>\n",
              "      <td>0.708800</td>\n",
              "      <td>1.749867</td>\n",
              "      <td>5</td>\n",
              "    </tr>\n",
              "  </tbody>\n",
              "</table>\n",
              "<p>1190 rows × 12 columns</p>\n",
              "</div>\n",
              "      <button class=\"colab-df-convert\" onclick=\"convertToInteractive('df-e8cb2a92-5cb3-423e-b16b-9fa495d54a62')\"\n",
              "              title=\"Convert this dataframe to an interactive table.\"\n",
              "              style=\"display:none;\">\n",
              "        \n",
              "  <svg xmlns=\"http://www.w3.org/2000/svg\" height=\"24px\"viewBox=\"0 0 24 24\"\n",
              "       width=\"24px\">\n",
              "    <path d=\"M0 0h24v24H0V0z\" fill=\"none\"/>\n",
              "    <path d=\"M18.56 5.44l.94 2.06.94-2.06 2.06-.94-2.06-.94-.94-2.06-.94 2.06-2.06.94zm-11 1L8.5 8.5l.94-2.06 2.06-.94-2.06-.94L8.5 2.5l-.94 2.06-2.06.94zm10 10l.94 2.06.94-2.06 2.06-.94-2.06-.94-.94-2.06-.94 2.06-2.06.94z\"/><path d=\"M17.41 7.96l-1.37-1.37c-.4-.4-.92-.59-1.43-.59-.52 0-1.04.2-1.43.59L10.3 9.45l-7.72 7.72c-.78.78-.78 2.05 0 2.83L4 21.41c.39.39.9.59 1.41.59.51 0 1.02-.2 1.41-.59l7.78-7.78 2.81-2.81c.8-.78.8-2.07 0-2.86zM5.41 20L4 18.59l7.72-7.72 1.47 1.35L5.41 20z\"/>\n",
              "  </svg>\n",
              "      </button>\n",
              "      \n",
              "  <style>\n",
              "    .colab-df-container {\n",
              "      display:flex;\n",
              "      flex-wrap:wrap;\n",
              "      gap: 12px;\n",
              "    }\n",
              "\n",
              "    .colab-df-convert {\n",
              "      background-color: #E8F0FE;\n",
              "      border: none;\n",
              "      border-radius: 50%;\n",
              "      cursor: pointer;\n",
              "      display: none;\n",
              "      fill: #1967D2;\n",
              "      height: 32px;\n",
              "      padding: 0 0 0 0;\n",
              "      width: 32px;\n",
              "    }\n",
              "\n",
              "    .colab-df-convert:hover {\n",
              "      background-color: #E2EBFA;\n",
              "      box-shadow: 0px 1px 2px rgba(60, 64, 67, 0.3), 0px 1px 3px 1px rgba(60, 64, 67, 0.15);\n",
              "      fill: #174EA6;\n",
              "    }\n",
              "\n",
              "    [theme=dark] .colab-df-convert {\n",
              "      background-color: #3B4455;\n",
              "      fill: #D2E3FC;\n",
              "    }\n",
              "\n",
              "    [theme=dark] .colab-df-convert:hover {\n",
              "      background-color: #434B5C;\n",
              "      box-shadow: 0px 1px 3px 1px rgba(0, 0, 0, 0.15);\n",
              "      filter: drop-shadow(0px 1px 2px rgba(0, 0, 0, 0.3));\n",
              "      fill: #FFFFFF;\n",
              "    }\n",
              "  </style>\n",
              "\n",
              "      <script>\n",
              "        const buttonEl =\n",
              "          document.querySelector('#df-e8cb2a92-5cb3-423e-b16b-9fa495d54a62 button.colab-df-convert');\n",
              "        buttonEl.style.display =\n",
              "          google.colab.kernel.accessAllowed ? 'block' : 'none';\n",
              "\n",
              "        async function convertToInteractive(key) {\n",
              "          const element = document.querySelector('#df-e8cb2a92-5cb3-423e-b16b-9fa495d54a62');\n",
              "          const dataTable =\n",
              "            await google.colab.kernel.invokeFunction('convertToInteractive',\n",
              "                                                     [key], {});\n",
              "          if (!dataTable) return;\n",
              "\n",
              "          const docLinkHtml = 'Like what you see? Visit the ' +\n",
              "            '<a target=\"_blank\" href=https://colab.research.google.com/notebooks/data_table.ipynb>data table notebook</a>'\n",
              "            + ' to learn more about interactive tables.';\n",
              "          element.innerHTML = '';\n",
              "          dataTable['output_type'] = 'display_data';\n",
              "          await google.colab.output.renderOutput(dataTable, element);\n",
              "          const docLink = document.createElement('div');\n",
              "          docLink.innerHTML = docLinkHtml;\n",
              "          element.appendChild(docLink);\n",
              "        }\n",
              "      </script>\n",
              "    </div>\n",
              "  </div>\n",
              "  "
            ]
          },
          "metadata": {},
          "execution_count": 215
        }
      ]
    },
    {
      "cell_type": "code",
      "source": [
        ""
      ],
      "metadata": {
        "id": "NaA0iuW80ONk"
      },
      "execution_count": null,
      "outputs": []
    },
    {
      "cell_type": "code",
      "source": [
        "import numpy as np\n",
        "import matplotlib.pyplot as plt\n",
        "# creating the dataset\n",
        "data = {'Nevocytic Nevus':df.groupby('quality').size()[0], 'Dermatofibroma':df.groupby('quality').size()[1], 'Pigmented Benign Keratosis':df.groupby('quality').size()[2],\n",
        "\t\t'Solar Lentigo':df.groupby('quality').size()[3],'Vascular Lesion':df.groupby('quality').size()[4],'Lentigo Nos':df.groupby('quality').size()[5]}\n",
        "courses = list(data.keys())\n",
        "values = list(data.values())\n",
        "\n",
        "fig = plt.figure(figsize = (6, 4))\n",
        "\n",
        "# creating the bar plot\n",
        "plt.bar(courses, values, color =['coral','gold','seagreen','lightcoral','dodgerblue','violet'],\n",
        "\t\twidth = 0.7)\n",
        "plt.xticks(rotation=75)\n",
        "plt.xlabel(\"Diseases\")\n",
        "plt.ylabel(\"No. of instances\")\n",
        "# plt.title(\"\")\n",
        "plt.yticks(  rotation='vertical')\n",
        "plt.show()\n"
      ],
      "metadata": {
        "colab": {
          "base_uri": "https://localhost:8080/",
          "height": 408
        },
        "outputId": "96837255-de88-4459-f42b-8923a22f3cd4",
        "id": "6CbCVcbP0Oyd"
      },
      "execution_count": null,
      "outputs": [
        {
          "output_type": "display_data",
          "data": {
            "text/plain": [
              "<Figure size 432x288 with 1 Axes>"
            ],
            "image/png": "[encoded data removed]"
          },
          "metadata": {
            "needs_background": "light"
          }
        }
      ]
    },
    {
      "cell_type": "code",
      "source": [
        "label_unet=df['label']\n",
        "df_unet_imbal_final = df.drop('label', axis = 1).values"
      ],
      "metadata": {
        "id": "stYDtKcI1TnB"
      },
      "execution_count": null,
      "outputs": []
    },
    {
      "cell_type": "code",
      "source": [
        "from sklearn.model_selection import train_test_split\n",
        "X_train, X_test, y_train, y_test = train_test_split(df_unet_imbal_final, label_unet ,\n",
        "                                                    test_size=0.225, random_state=44)\n",
        "\n",
        "print('Training on ',X_train.shape[0],' images')\n",
        "print('Testing on ',X_test.shape[0],' images')"
      ],
      "metadata": {
        "execution": {
          "iopub.status.busy": "2022-06-05T08:47:51.097363Z",
          "iopub.execute_input": "2022-06-05T08:47:51.097796Z",
          "iopub.status.idle": "2022-06-05T08:47:51.111857Z",
          "shell.execute_reply.started": "2022-06-05T08:47:51.097754Z",
          "shell.execute_reply": "2022-06-05T08:47:51.110945Z"
        },
        "trusted": true,
        "id": "HG91-sXsM301",
        "outputId": "1467ec50-99be-43b2-ede7-b3984c039df4"
      },
      "execution_count": null,
      "outputs": [
        {
          "name": "stdout",
          "text": "Training on  952  images\nTesting on  237  images\n",
          "output_type": "stream"
        }
      ]
    },
    {
      "cell_type": "markdown",
      "source": [
        "### Random Forest"
      ],
      "metadata": {
        "id": "EASy_mI2M307"
      }
    },
    {
      "cell_type": "code",
      "source": [
        "\n",
        "rf = RandomForestClassifier(n_estimators=2,random_state=644)\n",
        "rf.fit(X_train, y_train)\n",
        "predictions = rf.predict(X_test )\n",
        "predictions=np.round(predictions)\n",
        "\n",
        "target_names = ['Nevocytic Nevus', 'Dermatofibroma', 'Pigmented Benign Keratosis', 'Solar Lentigo','Vascular Lesion','Lentigo Nos']\n",
        "print (\"Accuracy:\", ms.accuracy_score(y_test,predictions))\n",
        "print(classification_report(y_test, predictions, target_names=target_names))\n",
        "cf_matrix=plot_confusion_matrix(rf, X_test, y_test)  \n",
        " "
      ],
      "metadata": {
        "colab": {
          "base_uri": "https://localhost:8080/",
          "height": 577
        },
        "id": "aFAwaDWbd62K",
        "outputId": "064845c6-271d-4012-c32f-568086537961"
      },
      "execution_count": 30,
      "outputs": [
        {
          "output_type": "stream",
          "name": "stdout",
          "text": [
            "Accuracy: 0.9029535864978903\n",
            "                            precision    recall  f1-score   support\n",
            "\n",
            "           Nevocytic Nevus       0.98      1.00      0.99        41\n",
            "            Dermatofibroma       0.90      1.00      0.95        44\n",
            "Pigmented Benign Keratosis       0.80      0.90      0.85        49\n",
            "             Solar Lentigo       0.85      0.68      0.76        41\n",
            "           Vascular Lesion       0.96      0.81      0.88        27\n",
            "               Lentigo Nos       1.00      1.00      1.00        35\n",
            "\n",
            "                  accuracy                           0.90       237\n",
            "                 macro avg       0.91      0.90      0.90       237\n",
            "              weighted avg       0.90      0.90      0.90       237\n",
            "\n"
          ]
        },
        {
          "output_type": "stream",
          "name": "stderr",
          "text": [
            "/usr/local/lib/python3.7/dist-packages/sklearn/utils/deprecation.py:87: FutureWarning: Function plot_confusion_matrix is deprecated; Function `plot_confusion_matrix` is deprecated in 1.0 and will be removed in 1.2. Use one of the class methods: ConfusionMatrixDisplay.from_predictions or ConfusionMatrixDisplay.from_estimator.\n",
            "  warnings.warn(msg, category=FutureWarning)\n"
          ]
        },
        {
          "output_type": "display_data",
          "data": {
            "text/plain": [
              "<Figure size 432x288 with 2 Axes>"
            ],
            "image/png": "[encoded data removed]"
          },
          "metadata": {
            "needs_background": "light"
          }
        }
      ]
    },
    {
      "cell_type": "markdown",
      "source": [
        "### SVC"
      ],
      "metadata": {
        "id": "FQqcOakhM31D"
      }
    },
    {
      "cell_type": "code",
      "source": [
        "\n",
        "svc= SVC(gamma='auto',C=3.0,degree=5,kernel='rbf')\n",
        " \n",
        "svc.fit(X_train, y_train)\n",
        "predictions = svc.predict(X_test )\n",
        "predictions=np.round(predictions)\n",
        "\n",
        "\n",
        "target_names = ['Nevocytic Nevus', 'Dermatofibroma', 'Pigmented Benign Keratosis', 'Solar Lentigo','Vascular Lesion','Lentigo Nos']\n",
        "print (\"Accuracy:\", ms.accuracy_score(y_test,predictions))\n",
        "print(classification_report(y_test, predictions, target_names=target_names))\n",
        "cf_matrix=plot_confusion_matrix(svc, X_test, y_test)  "
      ],
      "metadata": {
        "colab": {
          "base_uri": "https://localhost:8080/",
          "height": 577
        },
        "id": "WdqRziVIT6aI",
        "outputId": "0c8eac54-1eb4-4def-b46b-cd5fba021c1b"
      },
      "execution_count": 41,
      "outputs": [
        {
          "output_type": "stream",
          "name": "stdout",
          "text": [
            "Accuracy: 0.8481012658227848\n",
            "                            precision    recall  f1-score   support\n",
            "\n",
            "           Nevocytic Nevus       0.93      1.00      0.96        41\n",
            "            Dermatofibroma       0.89      0.93      0.91        44\n",
            "Pigmented Benign Keratosis       0.88      0.76      0.81        49\n",
            "             Solar Lentigo       0.74      0.71      0.72        41\n",
            "           Vascular Lesion       0.72      0.67      0.69        27\n",
            "               Lentigo Nos       0.85      1.00      0.92        35\n",
            "\n",
            "                  accuracy                           0.85       237\n",
            "                 macro avg       0.84      0.84      0.84       237\n",
            "              weighted avg       0.85      0.85      0.84       237\n",
            "\n"
          ]
        },
        {
          "output_type": "stream",
          "name": "stderr",
          "text": [
            "/usr/local/lib/python3.7/dist-packages/sklearn/utils/deprecation.py:87: FutureWarning: Function plot_confusion_matrix is deprecated; Function `plot_confusion_matrix` is deprecated in 1.0 and will be removed in 1.2. Use one of the class methods: ConfusionMatrixDisplay.from_predictions or ConfusionMatrixDisplay.from_estimator.\n",
            "  warnings.warn(msg, category=FutureWarning)\n"
          ]
        },
        {
          "output_type": "display_data",
          "data": {
            "text/plain": [
              "<Figure size 432x288 with 2 Axes>"
            ],
            "image/png": "[encoded data removed]"
          },
          "metadata": {
            "needs_background": "light"
          }
        }
      ]
    },
    {
      "cell_type": "markdown",
      "source": [
        "### Decision Tree"
      ],
      "metadata": {
        "id": "Lx4VN7LvM31J"
      }
    },
    {
      "cell_type": "code",
      "source": [
        "\n",
        "from sklearn import tree\n",
        "dt =  tree.DecisionTreeClassifier(random_state=0, max_depth=10)\n",
        "predictions = dt.fit(X_train, y_train).predict(X_test)\n",
        "predictions=np.round(predictions)\n",
        "\n",
        "target_names = ['Nevocytic Nevus', 'Dermatofibroma', 'Pigmented Benign Keratosis', 'Solar Lentigo','Vascular Lesion','Lentigo Nos']\n",
        "print (\"Accuracy:\", ms.accuracy_score(y_test,predictions))\n",
        "print(classification_report(y_test, predictions, target_names=target_names))\n",
        "cf_matrix=plot_confusion_matrix(dt, X_test, y_test)  "
      ],
      "metadata": {
        "colab": {
          "base_uri": "https://localhost:8080/",
          "height": 577
        },
        "id": "lBQ9JLLxUU74",
        "outputId": "bc25ab9d-a69b-4137-e89f-ad40f8977b3e"
      },
      "execution_count": null,
      "outputs": [
        {
          "output_type": "stream",
          "name": "stdout",
          "text": [
            "Accuracy: 0.8734177215189873\n",
            "                            precision    recall  f1-score   support\n",
            "\n",
            "           Nevocytic Nevus       0.95      1.00      0.98        41\n",
            "            Dermatofibroma       0.88      0.98      0.92        44\n",
            "Pigmented Benign Keratosis       0.90      0.78      0.84        49\n",
            "             Solar Lentigo       0.76      0.68      0.72        41\n",
            "           Vascular Lesion       0.79      0.81      0.80        27\n",
            "               Lentigo Nos       0.92      1.00      0.96        35\n",
            "\n",
            "                  accuracy                           0.87       237\n",
            "                 macro avg       0.87      0.88      0.87       237\n",
            "              weighted avg       0.87      0.87      0.87       237\n",
            "\n"
          ]
        },
        {
          "output_type": "stream",
          "name": "stderr",
          "text": [
            "/usr/local/lib/python3.7/dist-packages/sklearn/utils/deprecation.py:87: FutureWarning: Function plot_confusion_matrix is deprecated; Function `plot_confusion_matrix` is deprecated in 1.0 and will be removed in 1.2. Use one of the class methods: ConfusionMatrixDisplay.from_predictions or ConfusionMatrixDisplay.from_estimator.\n",
            "  warnings.warn(msg, category=FutureWarning)\n"
          ]
        },
        {
          "output_type": "display_data",
          "data": {
            "text/plain": [
              "<Figure size 432x288 with 2 Axes>"
            ],
            "image/png": "[encoded data removed]"
          },
          "metadata": {
            "needs_background": "light"
          }
        }
      ]
    },
    {
      "cell_type": "markdown",
      "source": [
        "### Naieve Bayes"
      ],
      "metadata": {
        "id": "YTeWw-CmM31O"
      }
    },
    {
      "cell_type": "code",
      "source": [
        "\n",
        "bounds = ([4.3, 2.0, 1.0, 0.1], [7.9, 4.4, 6.9, 2.5])\n",
        "\n",
        "gnb =   GaussianNB()\n",
        "predictions = gnb.fit(X_train, y_train).predict(X_test)\n",
        "predictions=np.round(predictions)\n",
        "\n",
        "target_names = ['Nevocytic Nevus', 'Dermatofibroma', 'Pigmented Benign Keratosis', 'Solar Lentigo','Vascular Lesion','Lentigo Nos']\n",
        "print (\"Accuracy:\", ms.accuracy_score(y_test,predictions))\n",
        "print(classification_report(y_test, predictions, target_names=target_names))\n",
        "cf_matrix=plot_confusion_matrix(gnb, X_test, y_test)  "
      ],
      "metadata": {
        "colab": {
          "base_uri": "https://localhost:8080/",
          "height": 577
        },
        "id": "9TO78oRaWhY4",
        "outputId": "7ebf8b7d-930b-4f06-934f-42b24f60b31b"
      },
      "execution_count": 62,
      "outputs": [
        {
          "output_type": "stream",
          "name": "stdout",
          "text": [
            "Accuracy: 0.6075949367088608\n",
            "                            precision    recall  f1-score   support\n",
            "\n",
            "           Nevocytic Nevus       0.59      0.93      0.72        41\n",
            "            Dermatofibroma       0.70      0.48      0.57        44\n",
            "Pigmented Benign Keratosis       0.64      0.59      0.62        49\n",
            "             Solar Lentigo       0.64      0.39      0.48        41\n",
            "           Vascular Lesion       0.45      0.33      0.38        27\n",
            "               Lentigo Nos       0.58      0.89      0.70        35\n",
            "\n",
            "                  accuracy                           0.61       237\n",
            "                 macro avg       0.60      0.60      0.58       237\n",
            "              weighted avg       0.61      0.61      0.59       237\n",
            "\n"
          ]
        },
        {
          "output_type": "stream",
          "name": "stderr",
          "text": [
            "/usr/local/lib/python3.7/dist-packages/sklearn/utils/deprecation.py:87: FutureWarning: Function plot_confusion_matrix is deprecated; Function `plot_confusion_matrix` is deprecated in 1.0 and will be removed in 1.2. Use one of the class methods: ConfusionMatrixDisplay.from_predictions or ConfusionMatrixDisplay.from_estimator.\n",
            "  warnings.warn(msg, category=FutureWarning)\n"
          ]
        },
        {
          "output_type": "display_data",
          "data": {
            "text/plain": [
              "<Figure size 432x288 with 2 Axes>"
            ],
            "image/png": "[encoded data removed]"
          },
          "metadata": {
            "needs_background": "light"
          }
        }
      ]
    },
    {
      "cell_type": "code",
      "source": [
        ""
      ],
      "metadata": {
        "id": "xdCRJa89W4Tx"
      },
      "execution_count": null,
      "outputs": []
    },
    {
      "cell_type": "markdown",
      "source": [
        "### Ensemble"
      ],
      "metadata": {
        "id": "MaaibDdxZINM"
      }
    },
    {
      "cell_type": "code",
      "source": [
        "\n",
        "clf1 = tree.DecisionTreeClassifier(random_state=30, max_depth=10)\n",
        "clf2 = RandomForestClassifier(n_estimators=30, random_state=77)\n",
        "clf3 = GaussianNB()\n",
        "clf4 = SVC(gamma='auto',C=5.0,degree=5,kernel='rbf')\n",
        "\n",
        "eclf1 = VotingClassifier(estimators=[\n",
        "        ('dt', clf1), ('rf', clf2), ('gnb', clf3),('svc', clf4)], voting='hard')\n",
        "predictions = eclf1.fit(X_train, y_train).predict(X_test)\n",
        "predictions=np.round(predictions)\n",
        "\n",
        "target_names = ['Nevocytic Nevus', 'Dermatofibroma', 'Pigmented Benign Keratosis', 'Solar Lentigo','Vascular Lesion','Lentigo Nos']\n",
        "print (\"Accuracy:\", ms.accuracy_score(y_test,predictions))\n",
        "print(classification_report(y_test, predictions, target_names=target_names))\n",
        "cf_matrix=plot_confusion_matrix(eclf1, X_test, y_test)  "
      ],
      "metadata": {
        "colab": {
          "base_uri": "https://localhost:8080/",
          "height": 581
        },
        "id": "nsKN6nnYXrgR",
        "outputId": "f79961e4-bb8c-42ff-8422-7878d86adebe"
      },
      "execution_count": 64,
      "outputs": [
        {
          "output_type": "stream",
          "name": "stdout",
          "text": [
            "Accuracy: 0.9240506329113924\n",
            "                            precision    recall  f1-score   support\n",
            "\n",
            "           Nevocytic Nevus       0.95      1.00      0.98        41\n",
            "            Dermatofibroma       0.94      1.00      0.97        44\n",
            "Pigmented Benign Keratosis       0.85      0.92      0.88        49\n",
            "             Solar Lentigo       0.88      0.71      0.78        41\n",
            "           Vascular Lesion       1.00      0.93      0.96        27\n",
            "               Lentigo Nos       0.97      1.00      0.99        35\n",
            "\n",
            "                  accuracy                           0.92       237\n",
            "                 macro avg       0.93      0.93      0.93       237\n",
            "              weighted avg       0.92      0.92      0.92       237\n",
            "\n"
          ]
        },
        {
          "output_type": "stream",
          "name": "stderr",
          "text": [
            "/usr/local/lib/python3.7/dist-packages/sklearn/utils/deprecation.py:87: FutureWarning: Function plot_confusion_matrix is deprecated; Function `plot_confusion_matrix` is deprecated in 1.0 and will be removed in 1.2. Use one of the class methods: ConfusionMatrixDisplay.from_predictions or ConfusionMatrixDisplay.from_estimator.\n",
            "  warnings.warn(msg, category=FutureWarning)\n"
          ]
        },
        {
          "output_type": "display_data",
          "data": {
            "text/plain": [
              "<Figure size 432x288 with 2 Axes>"
            ],
            "image/png": "[encoded data removed]"
          },
          "metadata": {
            "needs_background": "light"
          }
        }
      ]
    },
    {
      "cell_type": "markdown",
      "source": [
        "\n",
        "\n",
        "## **ResNet**"
      ],
      "metadata": {
        "id": "8LTyWhZ8M31S"
      }
    },
    {
      "cell_type": "code",
      "source": [
        "\n",
        "df=pd.read_csv('/content/drive/MyDrive/Fiverr/2016_final/Classification/imbalanced_resnet.csv')\n",
        "df=df.drop(columns=df.columns[0],axis=1)\n",
        "df=df.drop(columns=df.columns[0],axis=1)\n",
        "df"
      ],
      "metadata": {
        "colab": {
          "base_uri": "https://localhost:8080/",
          "height": 488
        },
        "id": "nFIjqbkSrlag",
        "outputId": "1532a9f0-054c-4eea-f3b8-ba27d7c17807"
      },
      "execution_count": null,
      "outputs": [
        {
          "output_type": "execute_result",
          "data": {
            "text/plain": [
              "      Feature_1  Feature_2  Feature_3  Feature_4  Feature_5  Feature_6  \\\n",
              "0     -0.127496   1.971079  -1.226505   0.542243  -0.118387  -0.798077   \n",
              "1      1.565339  -1.614625   1.020848   0.963436   0.230889  -1.001127   \n",
              "2     -0.550705   0.541066  -0.997183  -0.089548  -0.572445  -0.899602   \n",
              "3     -1.026815   0.220914  -1.318233  -0.721338  -0.380343  -1.001127   \n",
              "4      0.983427  -0.632825   1.204305   0.401845  -0.258097   0.826317   \n",
              "...         ...        ...        ...        ...        ...        ...   \n",
              "1185  -0.868111  -0.163269  -0.171625  -0.019349  -0.170778  -0.391979   \n",
              "1186   0.031207  -0.760886   0.332883   0.261447  -0.170778   1.638514   \n",
              "1187  -0.709408   0.306288  -1.318233  -0.510742   0.108642   0.014120   \n",
              "1188   0.877625  -0.931634   0.883255  -0.370344  -0.677227  -0.899602   \n",
              "1189  -0.921013   0.220914  -0.400947  -0.580940  -0.240633  -0.290454   \n",
              "\n",
              "      Feature_7  Feature_8  Feature_9  Feature_10  Feature_11  label  \n",
              "0     -0.959665   1.019665   0.990952   -0.956246    0.408089      0  \n",
              "1     -0.586136   1.361450  -0.198510    1.465639   -0.346661      3  \n",
              "2     -1.021920  -0.287159   0.396221   -0.653510    0.324228      1  \n",
              "3     -1.053047  -1.473354   0.098855   -1.561717   -0.095078      1  \n",
              "4      0.378812   1.361450  -0.971661    1.061991   -0.514383      3  \n",
              "...         ...        ...        ...         ...         ...    ...  \n",
              "1185  -0.150353  -0.020768   0.872006   -0.905790    0.408089      2  \n",
              "1186   2.402092   0.054626  -0.674295   -0.603054   -0.933689      2  \n",
              "1187  -0.119226  -0.071031   0.336748   -0.502143   -1.269133      3  \n",
              "1188  -1.021920  -1.161727  -0.674295    0.052873    1.330561      4  \n",
              "1189   0.721213   0.104888   1.347791   -0.502143   -1.017550      2  \n",
              "\n",
              "[1190 rows x 12 columns]"
            ],
            "text/html": [
              "\n",
              "  <div id=\"df-82b352f2-b4d0-4fe8-8228-0ab6d339769b\">\n",
              "    <div class=\"colab-df-container\">\n",
              "      <div>\n",
              "<style scoped>\n",
              "    .dataframe tbody tr th:only-of-type {\n",
              "        vertical-align: middle;\n",
              "    }\n",
              "\n",
              "    .dataframe tbody tr th {\n",
              "        vertical-align: top;\n",
              "    }\n",
              "\n",
              "    .dataframe thead th {\n",
              "        text-align: right;\n",
              "    }\n",
              "</style>\n",
              "<table border=\"1\" class=\"dataframe\">\n",
              "  <thead>\n",
              "    <tr style=\"text-align: right;\">\n",
              "      <th></th>\n",
              "      <th>Feature_1</th>\n",
              "      <th>Feature_2</th>\n",
              "      <th>Feature_3</th>\n",
              "      <th>Feature_4</th>\n",
              "      <th>Feature_5</th>\n",
              "      <th>Feature_6</th>\n",
              "      <th>Feature_7</th>\n",
              "      <th>Feature_8</th>\n",
              "      <th>Feature_9</th>\n",
              "      <th>Feature_10</th>\n",
              "      <th>Feature_11</th>\n",
              "      <th>label</th>\n",
              "    </tr>\n",
              "  </thead>\n",
              "  <tbody>\n",
              "    <tr>\n",
              "      <th>0</th>\n",
              "      <td>-0.127496</td>\n",
              "      <td>1.971079</td>\n",
              "      <td>-1.226505</td>\n",
              "      <td>0.542243</td>\n",
              "      <td>-0.118387</td>\n",
              "      <td>-0.798077</td>\n",
              "      <td>-0.959665</td>\n",
              "      <td>1.019665</td>\n",
              "      <td>0.990952</td>\n",
              "      <td>-0.956246</td>\n",
              "      <td>0.408089</td>\n",
              "      <td>0</td>\n",
              "    </tr>\n",
              "    <tr>\n",
              "      <th>1</th>\n",
              "      <td>1.565339</td>\n",
              "      <td>-1.614625</td>\n",
              "      <td>1.020848</td>\n",
              "      <td>0.963436</td>\n",
              "      <td>0.230889</td>\n",
              "      <td>-1.001127</td>\n",
              "      <td>-0.586136</td>\n",
              "      <td>1.361450</td>\n",
              "      <td>-0.198510</td>\n",
              "      <td>1.465639</td>\n",
              "      <td>-0.346661</td>\n",
              "      <td>3</td>\n",
              "    </tr>\n",
              "    <tr>\n",
              "      <th>2</th>\n",
              "      <td>-0.550705</td>\n",
              "      <td>0.541066</td>\n",
              "      <td>-0.997183</td>\n",
              "      <td>-0.089548</td>\n",
              "      <td>-0.572445</td>\n",
              "      <td>-0.899602</td>\n",
              "      <td>-1.021920</td>\n",
              "      <td>-0.287159</td>\n",
              "      <td>0.396221</td>\n",
              "      <td>-0.653510</td>\n",
              "      <td>0.324228</td>\n",
              "      <td>1</td>\n",
              "    </tr>\n",
              "    <tr>\n",
              "      <th>3</th>\n",
              "      <td>-1.026815</td>\n",
              "      <td>0.220914</td>\n",
              "      <td>-1.318233</td>\n",
              "      <td>-0.721338</td>\n",
              "      <td>-0.380343</td>\n",
              "      <td>-1.001127</td>\n",
              "      <td>-1.053047</td>\n",
              "      <td>-1.473354</td>\n",
              "      <td>0.098855</td>\n",
              "      <td>-1.561717</td>\n",
              "      <td>-0.095078</td>\n",
              "      <td>1</td>\n",
              "    </tr>\n",
              "    <tr>\n",
              "      <th>4</th>\n",
              "      <td>0.983427</td>\n",
              "      <td>-0.632825</td>\n",
              "      <td>1.204305</td>\n",
              "      <td>0.401845</td>\n",
              "      <td>-0.258097</td>\n",
              "      <td>0.826317</td>\n",
              "      <td>0.378812</td>\n",
              "      <td>1.361450</td>\n",
              "      <td>-0.971661</td>\n",
              "      <td>1.061991</td>\n",
              "      <td>-0.514383</td>\n",
              "      <td>3</td>\n",
              "    </tr>\n",
              "    <tr>\n",
              "      <th>...</th>\n",
              "      <td>...</td>\n",
              "      <td>...</td>\n",
              "      <td>...</td>\n",
              "      <td>...</td>\n",
              "      <td>...</td>\n",
              "      <td>...</td>\n",
              "      <td>...</td>\n",
              "      <td>...</td>\n",
              "      <td>...</td>\n",
              "      <td>...</td>\n",
              "      <td>...</td>\n",
              "      <td>...</td>\n",
              "    </tr>\n",
              "    <tr>\n",
              "      <th>1185</th>\n",
              "      <td>-0.868111</td>\n",
              "      <td>-0.163269</td>\n",
              "      <td>-0.171625</td>\n",
              "      <td>-0.019349</td>\n",
              "      <td>-0.170778</td>\n",
              "      <td>-0.391979</td>\n",
              "      <td>-0.150353</td>\n",
              "      <td>-0.020768</td>\n",
              "      <td>0.872006</td>\n",
              "      <td>-0.905790</td>\n",
              "      <td>0.408089</td>\n",
              "      <td>2</td>\n",
              "    </tr>\n",
              "    <tr>\n",
              "      <th>1186</th>\n",
              "      <td>0.031207</td>\n",
              "      <td>-0.760886</td>\n",
              "      <td>0.332883</td>\n",
              "      <td>0.261447</td>\n",
              "      <td>-0.170778</td>\n",
              "      <td>1.638514</td>\n",
              "      <td>2.402092</td>\n",
              "      <td>0.054626</td>\n",
              "      <td>-0.674295</td>\n",
              "      <td>-0.603054</td>\n",
              "      <td>-0.933689</td>\n",
              "      <td>2</td>\n",
              "    </tr>\n",
              "    <tr>\n",
              "      <th>1187</th>\n",
              "      <td>-0.709408</td>\n",
              "      <td>0.306288</td>\n",
              "      <td>-1.318233</td>\n",
              "      <td>-0.510742</td>\n",
              "      <td>0.108642</td>\n",
              "      <td>0.014120</td>\n",
              "      <td>-0.119226</td>\n",
              "      <td>-0.071031</td>\n",
              "      <td>0.336748</td>\n",
              "      <td>-0.502143</td>\n",
              "      <td>-1.269133</td>\n",
              "      <td>3</td>\n",
              "    </tr>\n",
              "    <tr>\n",
              "      <th>1188</th>\n",
              "      <td>0.877625</td>\n",
              "      <td>-0.931634</td>\n",
              "      <td>0.883255</td>\n",
              "      <td>-0.370344</td>\n",
              "      <td>-0.677227</td>\n",
              "      <td>-0.899602</td>\n",
              "      <td>-1.021920</td>\n",
              "      <td>-1.161727</td>\n",
              "      <td>-0.674295</td>\n",
              "      <td>0.052873</td>\n",
              "      <td>1.330561</td>\n",
              "      <td>4</td>\n",
              "    </tr>\n",
              "    <tr>\n",
              "      <th>1189</th>\n",
              "      <td>-0.921013</td>\n",
              "      <td>0.220914</td>\n",
              "      <td>-0.400947</td>\n",
              "      <td>-0.580940</td>\n",
              "      <td>-0.240633</td>\n",
              "      <td>-0.290454</td>\n",
              "      <td>0.721213</td>\n",
              "      <td>0.104888</td>\n",
              "      <td>1.347791</td>\n",
              "      <td>-0.502143</td>\n",
              "      <td>-1.017550</td>\n",
              "      <td>2</td>\n",
              "    </tr>\n",
              "  </tbody>\n",
              "</table>\n",
              "<p>1190 rows × 12 columns</p>\n",
              "</div>\n",
              "      <button class=\"colab-df-convert\" onclick=\"convertToInteractive('df-82b352f2-b4d0-4fe8-8228-0ab6d339769b')\"\n",
              "              title=\"Convert this dataframe to an interactive table.\"\n",
              "              style=\"display:none;\">\n",
              "        \n",
              "  <svg xmlns=\"http://www.w3.org/2000/svg\" height=\"24px\"viewBox=\"0 0 24 24\"\n",
              "       width=\"24px\">\n",
              "    <path d=\"M0 0h24v24H0V0z\" fill=\"none\"/>\n",
              "    <path d=\"M18.56 5.44l.94 2.06.94-2.06 2.06-.94-2.06-.94-.94-2.06-.94 2.06-2.06.94zm-11 1L8.5 8.5l.94-2.06 2.06-.94-2.06-.94L8.5 2.5l-.94 2.06-2.06.94zm10 10l.94 2.06.94-2.06 2.06-.94-2.06-.94-.94-2.06-.94 2.06-2.06.94z\"/><path d=\"M17.41 7.96l-1.37-1.37c-.4-.4-.92-.59-1.43-.59-.52 0-1.04.2-1.43.59L10.3 9.45l-7.72 7.72c-.78.78-.78 2.05 0 2.83L4 21.41c.39.39.9.59 1.41.59.51 0 1.02-.2 1.41-.59l7.78-7.78 2.81-2.81c.8-.78.8-2.07 0-2.86zM5.41 20L4 18.59l7.72-7.72 1.47 1.35L5.41 20z\"/>\n",
              "  </svg>\n",
              "      </button>\n",
              "      \n",
              "  <style>\n",
              "    .colab-df-container {\n",
              "      display:flex;\n",
              "      flex-wrap:wrap;\n",
              "      gap: 12px;\n",
              "    }\n",
              "\n",
              "    .colab-df-convert {\n",
              "      background-color: #E8F0FE;\n",
              "      border: none;\n",
              "      border-radius: 50%;\n",
              "      cursor: pointer;\n",
              "      display: none;\n",
              "      fill: #1967D2;\n",
              "      height: 32px;\n",
              "      padding: 0 0 0 0;\n",
              "      width: 32px;\n",
              "    }\n",
              "\n",
              "    .colab-df-convert:hover {\n",
              "      background-color: #E2EBFA;\n",
              "      box-shadow: 0px 1px 2px rgba(60, 64, 67, 0.3), 0px 1px 3px 1px rgba(60, 64, 67, 0.15);\n",
              "      fill: #174EA6;\n",
              "    }\n",
              "\n",
              "    [theme=dark] .colab-df-convert {\n",
              "      background-color: #3B4455;\n",
              "      fill: #D2E3FC;\n",
              "    }\n",
              "\n",
              "    [theme=dark] .colab-df-convert:hover {\n",
              "      background-color: #434B5C;\n",
              "      box-shadow: 0px 1px 3px 1px rgba(0, 0, 0, 0.15);\n",
              "      filter: drop-shadow(0px 1px 2px rgba(0, 0, 0, 0.3));\n",
              "      fill: #FFFFFF;\n",
              "    }\n",
              "  </style>\n",
              "\n",
              "      <script>\n",
              "        const buttonEl =\n",
              "          document.querySelector('#df-82b352f2-b4d0-4fe8-8228-0ab6d339769b button.colab-df-convert');\n",
              "        buttonEl.style.display =\n",
              "          google.colab.kernel.accessAllowed ? 'block' : 'none';\n",
              "\n",
              "        async function convertToInteractive(key) {\n",
              "          const element = document.querySelector('#df-82b352f2-b4d0-4fe8-8228-0ab6d339769b');\n",
              "          const dataTable =\n",
              "            await google.colab.kernel.invokeFunction('convertToInteractive',\n",
              "                                                     [key], {});\n",
              "          if (!dataTable) return;\n",
              "\n",
              "          const docLinkHtml = 'Like what you see? Visit the ' +\n",
              "            '<a target=\"_blank\" href=https://colab.research.google.com/notebooks/data_table.ipynb>data table notebook</a>'\n",
              "            + ' to learn more about interactive tables.';\n",
              "          element.innerHTML = '';\n",
              "          dataTable['output_type'] = 'display_data';\n",
              "          await google.colab.output.renderOutput(dataTable, element);\n",
              "          const docLink = document.createElement('div');\n",
              "          docLink.innerHTML = docLinkHtml;\n",
              "          element.appendChild(docLink);\n",
              "        }\n",
              "      </script>\n",
              "    </div>\n",
              "  </div>\n",
              "  "
            ]
          },
          "metadata": {},
          "execution_count": 214
        }
      ]
    },
    {
      "cell_type": "code",
      "source": [
        ""
      ],
      "metadata": {
        "id": "ZC6pmA2q0Q9A"
      },
      "execution_count": null,
      "outputs": []
    },
    {
      "cell_type": "code",
      "source": [
        "import numpy as np\n",
        "import matplotlib.pyplot as plt\n",
        "# creating the dataset\n",
        "data = {'Nevocytic Nevus':df.groupby('quality').size()[0], 'Dermatofibroma':df.groupby('quality').size()[1], 'Pigmented Benign Keratosis':df.groupby('quality').size()[2],\n",
        "\t\t'Solar Lentigo':df.groupby('quality').size()[3],'Vascular Lesion':df.groupby('quality').size()[4],'Lentigo Nos':df.groupby('quality').size()[5]}\n",
        "courses = list(data.keys())\n",
        "values = list(data.values())\n",
        "\n",
        "fig = plt.figure(figsize = (6, 4))\n",
        "\n",
        "# creating the bar plot\n",
        "plt.bar(courses, values, color =['coral','gold','seagreen','lightcoral','dodgerblue','violet'],\n",
        "\t\twidth = 0.7)\n",
        "plt.xticks(rotation=75)\n",
        "plt.xlabel(\"Diseases\")\n",
        "plt.ylabel(\"No. of instances\")\n",
        "# plt.title(\"\")\n",
        "plt.yticks(  rotation='vertical')\n",
        "plt.show()\n"
      ],
      "metadata": {
        "colab": {
          "base_uri": "https://localhost:8080/",
          "height": 408
        },
        "outputId": "96837255-de88-4459-f42b-8923a22f3cd4",
        "id": "KN7K68vr0RwY"
      },
      "execution_count": null,
      "outputs": [
        {
          "output_type": "display_data",
          "data": {
            "text/plain": [
              "<Figure size 432x288 with 1 Axes>"
            ],
            "image/png": "[encoded data removed]"
          },
          "metadata": {
            "needs_background": "light"
          }
        }
      ]
    },
    {
      "cell_type": "code",
      "source": [
        "label_segnet_imbal=df['label']\n",
        "df_segnet_imbal_final = df.drop('label', axis = 1).values"
      ],
      "metadata": {
        "id": "rdXczmg71gxd"
      },
      "execution_count": null,
      "outputs": []
    },
    {
      "cell_type": "code",
      "source": [
        "from sklearn.model_selection import train_test_split\n",
        "\n",
        "\n",
        "X_train, X_test, y_train, y_test = train_test_split(df_segnet_imbal_final, label_segnet_imbal ,\n",
        "                                                    test_size=0.225, random_state=44)\n",
        " \n",
        " \n",
        "print('Training on ',X_train.shape[0],' images')\n",
        "print('Testing on ',X_test.shape[0],' images')"
      ],
      "metadata": {
        "execution": {
          "iopub.status.busy": "2022-06-05T08:48:18.960572Z",
          "iopub.execute_input": "2022-06-05T08:48:18.960829Z",
          "iopub.status.idle": "2022-06-05T08:48:18.970499Z",
          "shell.execute_reply.started": "2022-06-05T08:48:18.960801Z",
          "shell.execute_reply": "2022-06-05T08:48:18.969662Z"
        },
        "trusted": true,
        "id": "wUPW4mZGM31U",
        "outputId": "e1a1243f-c7a2-431e-9c17-fb0515861cbf"
      },
      "execution_count": null,
      "outputs": [
        {
          "name": "stdout",
          "text": "Training on  952  images\nTesting on  237  images\n",
          "output_type": "stream"
        }
      ]
    },
    {
      "cell_type": "markdown",
      "source": [
        "### Random Forest\n"
      ],
      "metadata": {
        "id": "MVUaq1qcM31X"
      }
    },
    {
      "cell_type": "code",
      "source": [
        ""
      ],
      "metadata": {
        "id": "UwQY2fzogFEy"
      },
      "execution_count": null,
      "outputs": []
    },
    {
      "cell_type": "code",
      "source": [
        "\n",
        "rf = RandomForestClassifier(n_estimators=30,random_state=77)\n",
        "rf.fit(X_train, y_train)\n",
        "predictions = rf.predict(X_test )\n",
        "predictions=np.round(predictions)\n",
        "\n",
        "target_names = ['Dermatofibroma', 'Pigmented Benign Keratosis', 'Solar Lentigo','Vascular Lesion','Nevocytic Nevus','Lentigo Nos']\n",
        "print (\"Accuracy:\", ms.accuracy_score(y_test,predictions))\n",
        "print(classification_report(y_test, predictions, target_names=target_names))\n",
        "cf_matrix=plot_confusion_matrix(rf, X_test, y_test)  \n",
        " "
      ],
      "metadata": {
        "colab": {
          "base_uri": "https://localhost:8080/",
          "height": 577
        },
        "id": "Vc_5kXzvbTff",
        "outputId": "94d2962e-167b-4096-b254-bb27146cc63c"
      },
      "execution_count": null,
      "outputs": [
        {
          "output_type": "stream",
          "name": "stdout",
          "text": [
            "Accuracy: 0.8818565400843882\n",
            "                            precision    recall  f1-score   support\n",
            "\n",
            "            Dermatofibroma       1.00      1.00      1.00        41\n",
            "Pigmented Benign Keratosis       0.86      1.00      0.93        44\n",
            "             Solar Lentigo       0.90      0.78      0.84        49\n",
            "           Vascular Lesion       0.78      0.71      0.74        41\n",
            "           Nevocytic Nevus       0.79      0.81      0.80        27\n",
            "               Lentigo Nos       0.92      1.00      0.96        35\n",
            "\n",
            "                  accuracy                           0.88       237\n",
            "                 macro avg       0.88      0.88      0.88       237\n",
            "              weighted avg       0.88      0.88      0.88       237\n",
            "\n"
          ]
        },
        {
          "output_type": "stream",
          "name": "stderr",
          "text": [
            "/usr/local/lib/python3.7/dist-packages/sklearn/utils/deprecation.py:87: FutureWarning: Function plot_confusion_matrix is deprecated; Function `plot_confusion_matrix` is deprecated in 1.0 and will be removed in 1.2. Use one of the class methods: ConfusionMatrixDisplay.from_predictions or ConfusionMatrixDisplay.from_estimator.\n",
            "  warnings.warn(msg, category=FutureWarning)\n"
          ]
        },
        {
          "output_type": "display_data",
          "data": {
            "text/plain": [
              "<Figure size 432x288 with 2 Axes>"
            ],
            "image/png": "[encoded data removed]"
          },
          "metadata": {
            "needs_background": "light"
          }
        }
      ]
    },
    {
      "cell_type": "markdown",
      "source": [
        "### SVC"
      ],
      "metadata": {
        "id": "mxkxqGHDM31a"
      }
    },
    {
      "cell_type": "code",
      "source": [
        ""
      ],
      "metadata": {
        "id": "rAOCs3_Vf6DZ"
      },
      "execution_count": null,
      "outputs": []
    },
    {
      "cell_type": "code",
      "source": [
        "\n",
        "svc= SVC(gamma='auto',C=1.4,degree=5,kernel='rbf')\n",
        " \n",
        "svc.fit(X_train, y_train)\n",
        "predictions = svc.predict(X_test )\n",
        "predictions=np.round(predictions)\n",
        "\n",
        "\n",
        "target_names = ['Dermatofibroma', 'Pigmented Benign Keratosis', 'Solar Lentigo','Vascular Lesion','Nevocytic Nevus','Lentigo Nos']\n",
        "print (\"Accuracy:\", ms.accuracy_score(y_test,predictions))\n",
        "print(classification_report(y_test, predictions, target_names=target_names))\n",
        "cf_matrix=plot_confusion_matrix(svc, X_test, y_test)  "
      ],
      "metadata": {
        "colab": {
          "base_uri": "https://localhost:8080/",
          "height": 577
        },
        "outputId": "d4211fa0-8c60-4b5b-d0d1-f413eed171d9",
        "id": "8xyCV4tuf6s1"
      },
      "execution_count": null,
      "outputs": [
        {
          "output_type": "stream",
          "name": "stdout",
          "text": [
            "Accuracy: 0.8227848101265823\n",
            "                            precision    recall  f1-score   support\n",
            "\n",
            "            Dermatofibroma       0.85      1.00      0.92        41\n",
            "Pigmented Benign Keratosis       0.88      0.86      0.87        44\n",
            "             Solar Lentigo       0.84      0.76      0.80        49\n",
            "           Vascular Lesion       0.72      0.63      0.68        41\n",
            "           Nevocytic Nevus       0.72      0.67      0.69        27\n",
            "               Lentigo Nos       0.85      1.00      0.92        35\n",
            "\n",
            "                  accuracy                           0.82       237\n",
            "                 macro avg       0.81      0.82      0.81       237\n",
            "              weighted avg       0.82      0.82      0.82       237\n",
            "\n"
          ]
        },
        {
          "output_type": "stream",
          "name": "stderr",
          "text": [
            "/usr/local/lib/python3.7/dist-packages/sklearn/utils/deprecation.py:87: FutureWarning: Function plot_confusion_matrix is deprecated; Function `plot_confusion_matrix` is deprecated in 1.0 and will be removed in 1.2. Use one of the class methods: ConfusionMatrixDisplay.from_predictions or ConfusionMatrixDisplay.from_estimator.\n",
            "  warnings.warn(msg, category=FutureWarning)\n"
          ]
        },
        {
          "output_type": "display_data",
          "data": {
            "text/plain": [
              "<Figure size 432x288 with 2 Axes>"
            ],
            "image/png": "[encoded data removed]"
          },
          "metadata": {
            "needs_background": "light"
          }
        }
      ]
    },
    {
      "cell_type": "code",
      "source": [
        ""
      ],
      "metadata": {
        "id": "tQMNxQmtf55r"
      },
      "execution_count": null,
      "outputs": []
    },
    {
      "cell_type": "code",
      "source": [
        "\n",
        "svc= SVC(gamma='auto',C=1.2,degree=5,kernel='rbf')\n",
        " \n",
        "svc.fit(X_train, y_train)\n",
        "predictions = svc.predict(X_test )\n",
        "predictions=np.round(predictions)\n",
        "\n",
        "\n",
        "target_names = ['Dermatofibroma', 'Pigmented Benign Keratosis', 'Solar Lentigo','Vascular Lesion','Nevocytic Nevus','Lentigo Nos']\n",
        "print (\"Accuracy:\", ms.accuracy_score(y_test,predictions))\n",
        "print(classification_report(y_test, predictions, target_names=target_names))\n",
        "cf_matrix=plot_confusion_matrix(svc, X_test, y_test)  "
      ],
      "metadata": {
        "colab": {
          "base_uri": "https://localhost:8080/",
          "height": 577
        },
        "id": "sMX8P5tIbtPm",
        "outputId": "9a5415e1-6eaa-477c-97f9-9d4529551558"
      },
      "execution_count": 128,
      "outputs": [
        {
          "output_type": "stream",
          "name": "stdout",
          "text": [
            "Accuracy: 0.8143459915611815\n",
            "                            precision    recall  f1-score   support\n",
            "\n",
            "            Dermatofibroma       0.85      1.00      0.92        41\n",
            "Pigmented Benign Keratosis       0.86      0.86      0.86        44\n",
            "             Solar Lentigo       0.86      0.76      0.80        49\n",
            "           Vascular Lesion       0.69      0.61      0.65        41\n",
            "           Nevocytic Nevus       0.71      0.63      0.67        27\n",
            "               Lentigo Nos       0.83      1.00      0.91        35\n",
            "\n",
            "                  accuracy                           0.81       237\n",
            "                 macro avg       0.80      0.81      0.80       237\n",
            "              weighted avg       0.81      0.81      0.81       237\n",
            "\n"
          ]
        },
        {
          "output_type": "stream",
          "name": "stderr",
          "text": [
            "/usr/local/lib/python3.7/dist-packages/sklearn/utils/deprecation.py:87: FutureWarning: Function plot_confusion_matrix is deprecated; Function `plot_confusion_matrix` is deprecated in 1.0 and will be removed in 1.2. Use one of the class methods: ConfusionMatrixDisplay.from_predictions or ConfusionMatrixDisplay.from_estimator.\n",
            "  warnings.warn(msg, category=FutureWarning)\n"
          ]
        },
        {
          "output_type": "display_data",
          "data": {
            "text/plain": [
              "<Figure size 432x288 with 2 Axes>"
            ],
            "image/png": "[encoded data removed]"
          },
          "metadata": {
            "needs_background": "light"
          }
        }
      ]
    },
    {
      "cell_type": "markdown",
      "source": [
        "### Decision Tree"
      ],
      "metadata": {
        "id": "ZE6HrlpwM31f"
      }
    },
    {
      "cell_type": "code",
      "source": [
        ""
      ],
      "metadata": {
        "id": "Jxf0aKVscYBf"
      },
      "execution_count": null,
      "outputs": []
    },
    {
      "cell_type": "code",
      "source": [
        "\n",
        "from sklearn import tree\n",
        "dt =  tree.DecisionTreeClassifier(random_state=0, max_depth=10)\n",
        "predictions = dt.fit(X_train, y_train).predict(X_test)\n",
        "predictions=np.round(predictions)\n",
        "\n",
        " \n",
        "predictions = dt.predict(X_test )\n",
        "predictions=np.round(predictions)\n",
        "\n",
        "\n",
        "target_names = ['Dermatofibroma', 'Pigmented Benign Keratosis', 'Solar Lentigo','Vascular Lesion','Nevocytic Nevus','Lentigo Nos']\n",
        "print (\"Accuracy:\", ms.accuracy_score(y_test,predictions))\n",
        "print(classification_report(y_test, predictions, target_names=target_names))\n",
        "cf_matrix=plot_confusion_matrix(dt, X_test, y_test)  "
      ],
      "metadata": {
        "colab": {
          "base_uri": "https://localhost:8080/",
          "height": 577
        },
        "id": "k_5lymDUdHka",
        "outputId": "848323fb-4065-428d-d7e6-89d0aa592069"
      },
      "execution_count": 131,
      "outputs": [
        {
          "output_type": "stream",
          "name": "stdout",
          "text": [
            "Accuracy: 0.8438818565400844\n",
            "                            precision    recall  f1-score   support\n",
            "\n",
            "            Dermatofibroma       0.91      1.00      0.95        41\n",
            "Pigmented Benign Keratosis       0.89      0.91      0.90        44\n",
            "             Solar Lentigo       0.86      0.76      0.80        49\n",
            "           Vascular Lesion       0.74      0.71      0.72        41\n",
            "           Nevocytic Nevus       0.75      0.67      0.71        27\n",
            "               Lentigo Nos       0.85      1.00      0.92        35\n",
            "\n",
            "                  accuracy                           0.84       237\n",
            "                 macro avg       0.83      0.84      0.83       237\n",
            "              weighted avg       0.84      0.84      0.84       237\n",
            "\n"
          ]
        },
        {
          "output_type": "stream",
          "name": "stderr",
          "text": [
            "/usr/local/lib/python3.7/dist-packages/sklearn/utils/deprecation.py:87: FutureWarning: Function plot_confusion_matrix is deprecated; Function `plot_confusion_matrix` is deprecated in 1.0 and will be removed in 1.2. Use one of the class methods: ConfusionMatrixDisplay.from_predictions or ConfusionMatrixDisplay.from_estimator.\n",
            "  warnings.warn(msg, category=FutureWarning)\n"
          ]
        },
        {
          "output_type": "display_data",
          "data": {
            "text/plain": [
              "<Figure size 432x288 with 2 Axes>"
            ],
            "image/png": "[encoded data removed]"
          },
          "metadata": {
            "needs_background": "light"
          }
        }
      ]
    },
    {
      "cell_type": "markdown",
      "source": [
        "### Naieve Bayes"
      ],
      "metadata": {
        "id": "f3e8yMiZM31i"
      }
    },
    {
      "cell_type": "code",
      "source": [
        ""
      ],
      "metadata": {
        "id": "aI1ly6OKXQ0o"
      },
      "execution_count": null,
      "outputs": []
    },
    {
      "cell_type": "code",
      "source": [
        "from sklearn.naive_bayes import GaussianNB\n",
        "from sklearn import tree\n",
        "bounds = ([4.3, 2.0, 1.0, 0.1], [7.9, 4.4, 6.9, 2.5])\n",
        "\n",
        "gnb =   GaussianNB()\n",
        "predictions = gnb.fit(X_train, y_train).predict(X_test)\n",
        "predictions=np.round(predictions)\n",
        "# predictions=np.round(predictions)\n",
        "\n",
        "target_names =['Nevocytic Nevus', 'Dermatofibroma', 'Pigmented Benign Keratosis', 'Solar Lentigo','Vascular Lesion','Lentigo Nos']\n",
        "print (\"Accuracy:\", ms.accuracy_score(y_test,predictions))\n",
        "print(classification_report(y_test, predictions, target_names=target_names))\n",
        "cf_matrix=plot_confusion_matrix(gnb, X_test, y_test)  "
      ],
      "metadata": {
        "colab": {
          "base_uri": "https://localhost:8080/",
          "height": 581
        },
        "id": "mVVNWwuJWJfR",
        "outputId": "817eba1e-2492-427d-a77f-b99467c36a3f"
      },
      "execution_count": null,
      "outputs": [
        {
          "output_type": "stream",
          "name": "stdout",
          "text": [
            "Accuracy: 0.5949367088607594\n",
            "                            precision    recall  f1-score   support\n",
            "\n",
            "           Nevocytic Nevus       0.58      0.76      0.66        41\n",
            "            Dermatofibroma       0.64      0.52      0.57        44\n",
            "Pigmented Benign Keratosis       0.67      0.63      0.65        49\n",
            "             Solar Lentigo       0.54      0.34      0.42        41\n",
            "           Vascular Lesion       0.64      0.26      0.37        27\n",
            "               Lentigo Nos       0.54      1.00      0.70        35\n",
            "\n",
            "                  accuracy                           0.59       237\n",
            "                 macro avg       0.60      0.59      0.56       237\n",
            "              weighted avg       0.60      0.59      0.57       237\n",
            "\n"
          ]
        },
        {
          "output_type": "stream",
          "name": "stderr",
          "text": [
            "/usr/local/lib/python3.7/dist-packages/sklearn/utils/deprecation.py:87: FutureWarning: Function plot_confusion_matrix is deprecated; Function `plot_confusion_matrix` is deprecated in 1.0 and will be removed in 1.2. Use one of the class methods: ConfusionMatrixDisplay.from_predictions or ConfusionMatrixDisplay.from_estimator.\n",
            "  warnings.warn(msg, category=FutureWarning)\n"
          ]
        },
        {
          "output_type": "display_data",
          "data": {
            "text/plain": [
              "<Figure size 432x288 with 2 Axes>"
            ],
            "image/png": "[encoded data removed]"
          },
          "metadata": {
            "needs_background": "light"
          }
        }
      ]
    },
    {
      "cell_type": "markdown",
      "source": [
        "### Ensemble"
      ],
      "metadata": {
        "id": "JOTPu5cHfmZu"
      }
    },
    {
      "cell_type": "code",
      "source": [
        "\n",
        "\n",
        "clf1 = tree.DecisionTreeClassifier(random_state=0, max_depth=10)\n",
        "clf2 = RandomForestClassifier(n_estimators=30, random_state=77)\n",
        "clf3 = GaussianNB()\n",
        "clf4 = SVC(gamma='auto',C=5.0,degree=5,kernel='rbf')\n",
        "\n",
        "eclf1 = VotingClassifier(estimators=[\n",
        "        ('dt', clf1), ('rf', clf2), ('gnb', clf3),('svc', clf4)], voting='hard')\n",
        "predictions = eclf1.fit(X_train, y_train).predict(X_test)\n",
        "# predictions = eclf1.predict(X_test)\n",
        "predictions=np.round(predictions)\n",
        "\n",
        "target_names = ['Nevocytic Nevus', 'Dermatofibroma', 'Pigmented Benign Keratosis', 'Solar Lentigo','Vascular Lesion','Lentigo Nos']\n",
        "print (\"Accuracy:\", ms.accuracy_score(y_test,predictions))\n",
        "print(classification_report(y_test, predictions, target_names=target_names))\n",
        "cf_matrix=plot_confusion_matrix(eclf1, X_test, y_test)  "
      ],
      "metadata": {
        "colab": {
          "base_uri": "https://localhost:8080/",
          "height": 577
        },
        "id": "xR9ITeKiddzs",
        "outputId": "19d4ce38-5d72-4602-ed50-82359535911d"
      },
      "execution_count": 101,
      "outputs": [
        {
          "output_type": "stream",
          "name": "stdout",
          "text": [
            "Accuracy: 0.9029535864978903\n",
            "                            precision    recall  f1-score   support\n",
            "\n",
            "            Dermatofibroma       1.00      1.00      1.00        41\n",
            "Pigmented Benign Keratosis       0.92      1.00      0.96        44\n",
            "             Solar Lentigo       0.87      0.82      0.84        49\n",
            "           Vascular Lesion       0.81      0.73      0.77        41\n",
            "           Nevocytic Nevus       0.89      0.89      0.89        27\n",
            "               Lentigo Nos       0.92      1.00      0.96        35\n",
            "\n",
            "                  accuracy                           0.90       237\n",
            "                 macro avg       0.90      0.91      0.90       237\n",
            "              weighted avg       0.90      0.90      0.90       237\n",
            "\n"
          ]
        },
        {
          "output_type": "stream",
          "name": "stderr",
          "text": [
            "/usr/local/lib/python3.7/dist-packages/sklearn/utils/deprecation.py:87: FutureWarning: Function plot_confusion_matrix is deprecated; Function `plot_confusion_matrix` is deprecated in 1.0 and will be removed in 1.2. Use one of the class methods: ConfusionMatrixDisplay.from_predictions or ConfusionMatrixDisplay.from_estimator.\n",
            "  warnings.warn(msg, category=FutureWarning)\n"
          ]
        },
        {
          "output_type": "display_data",
          "data": {
            "text/plain": [
              "<Figure size 432x288 with 2 Axes>"
            ],
            "image/png": "[encoded data removed]"
          },
          "metadata": {
            "needs_background": "light"
          }
        }
      ]
    },
    {
      "cell_type": "markdown",
      "source": [
        "## **SegNet**"
      ],
      "metadata": {
        "id": "DGYvAtS-M31l"
      }
    },
    {
      "cell_type": "code",
      "source": [
        "\n",
        "df=pd.read_csv('/content/drive/MyDrive/Fiverr/2016_final/Classification/imbalanced_segnet.csv')\n",
        "df=df.drop(columns=df.columns[0],axis=1)\n",
        "df=df.drop(columns=df.columns[0],axis=1)\n",
        "df"
      ],
      "metadata": {
        "colab": {
          "base_uri": "https://localhost:8080/",
          "height": 488
        },
        "id": "heDQLlsRswav",
        "outputId": "90eef0d1-7d5f-4e45-bb9e-1c31ce95ec3f"
      },
      "execution_count": null,
      "outputs": [
        {
          "output_type": "execute_result",
          "data": {
            "text/plain": [
              "      Feature_1  Feature_2  Feature_3  Feature_4  Feature_5  Feature_6  \\\n",
              "0      0.983427  -0.504764   0.608069  -0.791537   0.946903   2.044612   \n",
              "1     -0.603606   0.135540  -0.951319   1.244232  -0.083459  -0.798077   \n",
              "2     -0.550705  -0.120582  -1.043047  -0.019349  -0.083459   0.623267   \n",
              "3     -1.555826   1.245401  -1.088912  -0.861736  -0.799474  -0.188930   \n",
              "4      0.189910   0.135540   0.974983  -0.440543   4.299947   1.333940   \n",
              "...         ...        ...        ...        ...        ...        ...   \n",
              "1185  -0.921013   1.095997  -1.318233  -1.002134   3.077483   0.217169   \n",
              "1186  -0.815210   1.053310  -1.318233  -0.089548  -0.397807  -0.696553   \n",
              "1187  -1.291320  -0.675512  -0.584404  -0.580940  -0.380343  -0.290454   \n",
              "1188  -0.392002   0.348975  -0.859590   2.367415   0.422990  -0.899602   \n",
              "1189   1.724042  -0.760886   1.204305  -0.370344  -0.345416  -0.899602   \n",
              "\n",
              "      Feature_7  Feature_8  Feature_9  Feature_10  Feature_11  label  \n",
              "0      0.192048   0.718090   0.396221    0.910624   -0.514383      0  \n",
              "1     -0.399372   0.255676   0.396221   -0.905790   -1.269133      1  \n",
              "2      0.067539  -0.196687   0.396221   -0.451687    0.156505      3  \n",
              "3      1.437143  -2.257449   1.466737    0.708800    2.001450      5  \n",
              "4      1.219251  -0.246949  -1.625866    4.694819   -0.849828      3  \n",
              "...         ...        ...        ...         ...         ...    ...  \n",
              "1185  -0.399372  -1.096385   0.039382   -0.855334   -0.598244      0  \n",
              "1186  -0.679518   0.004363   0.990952   -0.603054   -0.765967      2  \n",
              "1187  -0.523882  -0.699312   0.634114    0.305152   -0.346661      4  \n",
              "1188  -0.959665   0.758300   0.336748    0.052873   -0.346661      4  \n",
              "1189  -0.710646   0.858825  -1.209554   -0.300319    0.240367      3  \n",
              "\n",
              "[1190 rows x 12 columns]"
            ],
            "text/html": [
              "\n",
              "  <div id=\"df-343c195b-013c-4309-9b25-71e8461585b4\">\n",
              "    <div class=\"colab-df-container\">\n",
              "      <div>\n",
              "<style scoped>\n",
              "    .dataframe tbody tr th:only-of-type {\n",
              "        vertical-align: middle;\n",
              "    }\n",
              "\n",
              "    .dataframe tbody tr th {\n",
              "        vertical-align: top;\n",
              "    }\n",
              "\n",
              "    .dataframe thead th {\n",
              "        text-align: right;\n",
              "    }\n",
              "</style>\n",
              "<table border=\"1\" class=\"dataframe\">\n",
              "  <thead>\n",
              "    <tr style=\"text-align: right;\">\n",
              "      <th></th>\n",
              "      <th>Feature_1</th>\n",
              "      <th>Feature_2</th>\n",
              "      <th>Feature_3</th>\n",
              "      <th>Feature_4</th>\n",
              "      <th>Feature_5</th>\n",
              "      <th>Feature_6</th>\n",
              "      <th>Feature_7</th>\n",
              "      <th>Feature_8</th>\n",
              "      <th>Feature_9</th>\n",
              "      <th>Feature_10</th>\n",
              "      <th>Feature_11</th>\n",
              "      <th>label</th>\n",
              "    </tr>\n",
              "  </thead>\n",
              "  <tbody>\n",
              "    <tr>\n",
              "      <th>0</th>\n",
              "      <td>0.983427</td>\n",
              "      <td>-0.504764</td>\n",
              "      <td>0.608069</td>\n",
              "      <td>-0.791537</td>\n",
              "      <td>0.946903</td>\n",
              "      <td>2.044612</td>\n",
              "      <td>0.192048</td>\n",
              "      <td>0.718090</td>\n",
              "      <td>0.396221</td>\n",
              "      <td>0.910624</td>\n",
              "      <td>-0.514383</td>\n",
              "      <td>0</td>\n",
              "    </tr>\n",
              "    <tr>\n",
              "      <th>1</th>\n",
              "      <td>-0.603606</td>\n",
              "      <td>0.135540</td>\n",
              "      <td>-0.951319</td>\n",
              "      <td>1.244232</td>\n",
              "      <td>-0.083459</td>\n",
              "      <td>-0.798077</td>\n",
              "      <td>-0.399372</td>\n",
              "      <td>0.255676</td>\n",
              "      <td>0.396221</td>\n",
              "      <td>-0.905790</td>\n",
              "      <td>-1.269133</td>\n",
              "      <td>1</td>\n",
              "    </tr>\n",
              "    <tr>\n",
              "      <th>2</th>\n",
              "      <td>-0.550705</td>\n",
              "      <td>-0.120582</td>\n",
              "      <td>-1.043047</td>\n",
              "      <td>-0.019349</td>\n",
              "      <td>-0.083459</td>\n",
              "      <td>0.623267</td>\n",
              "      <td>0.067539</td>\n",
              "      <td>-0.196687</td>\n",
              "      <td>0.396221</td>\n",
              "      <td>-0.451687</td>\n",
              "      <td>0.156505</td>\n",
              "      <td>3</td>\n",
              "    </tr>\n",
              "    <tr>\n",
              "      <th>3</th>\n",
              "      <td>-1.555826</td>\n",
              "      <td>1.245401</td>\n",
              "      <td>-1.088912</td>\n",
              "      <td>-0.861736</td>\n",
              "      <td>-0.799474</td>\n",
              "      <td>-0.188930</td>\n",
              "      <td>1.437143</td>\n",
              "      <td>-2.257449</td>\n",
              "      <td>1.466737</td>\n",
              "      <td>0.708800</td>\n",
              "      <td>2.001450</td>\n",
              "      <td>5</td>\n",
              "    </tr>\n",
              "    <tr>\n",
              "      <th>4</th>\n",
              "      <td>0.189910</td>\n",
              "      <td>0.135540</td>\n",
              "      <td>0.974983</td>\n",
              "      <td>-0.440543</td>\n",
              "      <td>4.299947</td>\n",
              "      <td>1.333940</td>\n",
              "      <td>1.219251</td>\n",
              "      <td>-0.246949</td>\n",
              "      <td>-1.625866</td>\n",
              "      <td>4.694819</td>\n",
              "      <td>-0.849828</td>\n",
              "      <td>3</td>\n",
              "    </tr>\n",
              "    <tr>\n",
              "      <th>...</th>\n",
              "      <td>...</td>\n",
              "      <td>...</td>\n",
              "      <td>...</td>\n",
              "      <td>...</td>\n",
              "      <td>...</td>\n",
              "      <td>...</td>\n",
              "      <td>...</td>\n",
              "      <td>...</td>\n",
              "      <td>...</td>\n",
              "      <td>...</td>\n",
              "      <td>...</td>\n",
              "      <td>...</td>\n",
              "    </tr>\n",
              "    <tr>\n",
              "      <th>1185</th>\n",
              "      <td>-0.921013</td>\n",
              "      <td>1.095997</td>\n",
              "      <td>-1.318233</td>\n",
              "      <td>-1.002134</td>\n",
              "      <td>3.077483</td>\n",
              "      <td>0.217169</td>\n",
              "      <td>-0.399372</td>\n",
              "      <td>-1.096385</td>\n",
              "      <td>0.039382</td>\n",
              "      <td>-0.855334</td>\n",
              "      <td>-0.598244</td>\n",
              "      <td>0</td>\n",
              "    </tr>\n",
              "    <tr>\n",
              "      <th>1186</th>\n",
              "      <td>-0.815210</td>\n",
              "      <td>1.053310</td>\n",
              "      <td>-1.318233</td>\n",
              "      <td>-0.089548</td>\n",
              "      <td>-0.397807</td>\n",
              "      <td>-0.696553</td>\n",
              "      <td>-0.679518</td>\n",
              "      <td>0.004363</td>\n",
              "      <td>0.990952</td>\n",
              "      <td>-0.603054</td>\n",
              "      <td>-0.765967</td>\n",
              "      <td>2</td>\n",
              "    </tr>\n",
              "    <tr>\n",
              "      <th>1187</th>\n",
              "      <td>-1.291320</td>\n",
              "      <td>-0.675512</td>\n",
              "      <td>-0.584404</td>\n",
              "      <td>-0.580940</td>\n",
              "      <td>-0.380343</td>\n",
              "      <td>-0.290454</td>\n",
              "      <td>-0.523882</td>\n",
              "      <td>-0.699312</td>\n",
              "      <td>0.634114</td>\n",
              "      <td>0.305152</td>\n",
              "      <td>-0.346661</td>\n",
              "      <td>4</td>\n",
              "    </tr>\n",
              "    <tr>\n",
              "      <th>1188</th>\n",
              "      <td>-0.392002</td>\n",
              "      <td>0.348975</td>\n",
              "      <td>-0.859590</td>\n",
              "      <td>2.367415</td>\n",
              "      <td>0.422990</td>\n",
              "      <td>-0.899602</td>\n",
              "      <td>-0.959665</td>\n",
              "      <td>0.758300</td>\n",
              "      <td>0.336748</td>\n",
              "      <td>0.052873</td>\n",
              "      <td>-0.346661</td>\n",
              "      <td>4</td>\n",
              "    </tr>\n",
              "    <tr>\n",
              "      <th>1189</th>\n",
              "      <td>1.724042</td>\n",
              "      <td>-0.760886</td>\n",
              "      <td>1.204305</td>\n",
              "      <td>-0.370344</td>\n",
              "      <td>-0.345416</td>\n",
              "      <td>-0.899602</td>\n",
              "      <td>-0.710646</td>\n",
              "      <td>0.858825</td>\n",
              "      <td>-1.209554</td>\n",
              "      <td>-0.300319</td>\n",
              "      <td>0.240367</td>\n",
              "      <td>3</td>\n",
              "    </tr>\n",
              "  </tbody>\n",
              "</table>\n",
              "<p>1190 rows × 12 columns</p>\n",
              "</div>\n",
              "      <button class=\"colab-df-convert\" onclick=\"convertToInteractive('df-343c195b-013c-4309-9b25-71e8461585b4')\"\n",
              "              title=\"Convert this dataframe to an interactive table.\"\n",
              "              style=\"display:none;\">\n",
              "        \n",
              "  <svg xmlns=\"http://www.w3.org/2000/svg\" height=\"24px\"viewBox=\"0 0 24 24\"\n",
              "       width=\"24px\">\n",
              "    <path d=\"M0 0h24v24H0V0z\" fill=\"none\"/>\n",
              "    <path d=\"M18.56 5.44l.94 2.06.94-2.06 2.06-.94-2.06-.94-.94-2.06-.94 2.06-2.06.94zm-11 1L8.5 8.5l.94-2.06 2.06-.94-2.06-.94L8.5 2.5l-.94 2.06-2.06.94zm10 10l.94 2.06.94-2.06 2.06-.94-2.06-.94-.94-2.06-.94 2.06-2.06.94z\"/><path d=\"M17.41 7.96l-1.37-1.37c-.4-.4-.92-.59-1.43-.59-.52 0-1.04.2-1.43.59L10.3 9.45l-7.72 7.72c-.78.78-.78 2.05 0 2.83L4 21.41c.39.39.9.59 1.41.59.51 0 1.02-.2 1.41-.59l7.78-7.78 2.81-2.81c.8-.78.8-2.07 0-2.86zM5.41 20L4 18.59l7.72-7.72 1.47 1.35L5.41 20z\"/>\n",
              "  </svg>\n",
              "      </button>\n",
              "      \n",
              "  <style>\n",
              "    .colab-df-container {\n",
              "      display:flex;\n",
              "      flex-wrap:wrap;\n",
              "      gap: 12px;\n",
              "    }\n",
              "\n",
              "    .colab-df-convert {\n",
              "      background-color: #E8F0FE;\n",
              "      border: none;\n",
              "      border-radius: 50%;\n",
              "      cursor: pointer;\n",
              "      display: none;\n",
              "      fill: #1967D2;\n",
              "      height: 32px;\n",
              "      padding: 0 0 0 0;\n",
              "      width: 32px;\n",
              "    }\n",
              "\n",
              "    .colab-df-convert:hover {\n",
              "      background-color: #E2EBFA;\n",
              "      box-shadow: 0px 1px 2px rgba(60, 64, 67, 0.3), 0px 1px 3px 1px rgba(60, 64, 67, 0.15);\n",
              "      fill: #174EA6;\n",
              "    }\n",
              "\n",
              "    [theme=dark] .colab-df-convert {\n",
              "      background-color: #3B4455;\n",
              "      fill: #D2E3FC;\n",
              "    }\n",
              "\n",
              "    [theme=dark] .colab-df-convert:hover {\n",
              "      background-color: #434B5C;\n",
              "      box-shadow: 0px 1px 3px 1px rgba(0, 0, 0, 0.15);\n",
              "      filter: drop-shadow(0px 1px 2px rgba(0, 0, 0, 0.3));\n",
              "      fill: #FFFFFF;\n",
              "    }\n",
              "  </style>\n",
              "\n",
              "      <script>\n",
              "        const buttonEl =\n",
              "          document.querySelector('#df-343c195b-013c-4309-9b25-71e8461585b4 button.colab-df-convert');\n",
              "        buttonEl.style.display =\n",
              "          google.colab.kernel.accessAllowed ? 'block' : 'none';\n",
              "\n",
              "        async function convertToInteractive(key) {\n",
              "          const element = document.querySelector('#df-343c195b-013c-4309-9b25-71e8461585b4');\n",
              "          const dataTable =\n",
              "            await google.colab.kernel.invokeFunction('convertToInteractive',\n",
              "                                                     [key], {});\n",
              "          if (!dataTable) return;\n",
              "\n",
              "          const docLinkHtml = 'Like what you see? Visit the ' +\n",
              "            '<a target=\"_blank\" href=https://colab.research.google.com/notebooks/data_table.ipynb>data table notebook</a>'\n",
              "            + ' to learn more about interactive tables.';\n",
              "          element.innerHTML = '';\n",
              "          dataTable['output_type'] = 'display_data';\n",
              "          await google.colab.output.renderOutput(dataTable, element);\n",
              "          const docLink = document.createElement('div');\n",
              "          docLink.innerHTML = docLinkHtml;\n",
              "          element.appendChild(docLink);\n",
              "        }\n",
              "      </script>\n",
              "    </div>\n",
              "  </div>\n",
              "  "
            ]
          },
          "metadata": {},
          "execution_count": 212
        }
      ]
    },
    {
      "cell_type": "code",
      "source": [
        ""
      ],
      "metadata": {
        "id": "dkaCOWrE0WLm"
      },
      "execution_count": null,
      "outputs": []
    },
    {
      "cell_type": "code",
      "source": [
        "import numpy as np\n",
        "import matplotlib.pyplot as plt\n",
        "# creating the dataset\n",
        "data = {'Nevocytic Nevus':df.groupby('quality').size()[0], 'Dermatofibroma':df.groupby('quality').size()[1], 'Pigmented Benign Keratosis':df.groupby('quality').size()[2],\n",
        "\t\t'Solar Lentigo':df.groupby('quality').size()[3],'Vascular Lesion':df.groupby('quality').size()[4],'Lentigo Nos':df.groupby('quality').size()[5]}\n",
        "courses = list(data.keys())\n",
        "values = list(data.values())\n",
        "\n",
        "fig = plt.figure(figsize = (6, 4))\n",
        "\n",
        "# creating the bar plot\n",
        "plt.bar(courses, values, color =['coral','gold','seagreen','lightcoral','dodgerblue','violet'],\n",
        "\t\twidth = 0.7)\n",
        "plt.xticks(rotation=75)\n",
        "plt.xlabel(\"Diseases\")\n",
        "plt.ylabel(\"No. of instances\")\n",
        "# plt.title(\"\")\n",
        "plt.yticks(  rotation='vertical')\n",
        "plt.show()\n"
      ],
      "metadata": {
        "colab": {
          "base_uri": "https://localhost:8080/",
          "height": 408
        },
        "outputId": "96837255-de88-4459-f42b-8923a22f3cd4",
        "id": "eLSSu8tE0WyP"
      },
      "execution_count": null,
      "outputs": [
        {
          "output_type": "display_data",
          "data": {
            "text/plain": [
              "<Figure size 432x288 with 1 Axes>"
            ],
            "image/png": "[encoded data removed]"
          },
          "metadata": {
            "needs_background": "light"
          }
        }
      ]
    },
    {
      "cell_type": "code",
      "source": [
        "label_resnet=df['label']\n",
        "df_resnet_imbal_final = df.drop('label', axis = 1).values"
      ],
      "metadata": {
        "id": "Y806b-r71sgN"
      },
      "execution_count": null,
      "outputs": []
    },
    {
      "cell_type": "code",
      "source": [
        "from sklearn.model_selection import train_test_split\n",
        "\n",
        "\n",
        "X_train, X_test, y_train, y_test = train_test_split(df_resnet_imbal_final, label_resnet ,\n",
        "                                                    test_size=0.22, random_state=44)\n",
        " \n",
        "\n",
        "print('Training on ',X_train.shape[0],' images')\n",
        "print('Testing on ',X_test.shape[0],' images')"
      ],
      "metadata": {
        "execution": {
          "iopub.status.busy": "2022-06-05T08:49:06.220255Z",
          "iopub.execute_input": "2022-06-05T08:49:06.220536Z",
          "iopub.status.idle": "2022-06-05T08:49:06.232060Z",
          "shell.execute_reply.started": "2022-06-05T08:49:06.220505Z",
          "shell.execute_reply": "2022-06-05T08:49:06.231299Z"
        },
        "trusted": true,
        "id": "0FJdhdG5M31n",
        "outputId": "118291b0-9eb8-4910-cc1e-231a2038cb50"
      },
      "execution_count": null,
      "outputs": [
        {
          "name": "stdout",
          "text": "Training on  952  images\nTesting on  237  images\n",
          "output_type": "stream"
        }
      ]
    },
    {
      "cell_type": "markdown",
      "source": [
        "### Random Forest"
      ],
      "metadata": {
        "id": "Yt2mMSw8M31o"
      }
    },
    {
      "cell_type": "code",
      "source": [
        ""
      ],
      "metadata": {
        "id": "WV91FB2yfm8J"
      },
      "execution_count": null,
      "outputs": []
    },
    {
      "cell_type": "code",
      "source": [
        "\n",
        "rf = RandomForestClassifier(n_estimators=30,random_state=77)\n",
        "rf.fit(X_train, y_train)\n",
        "predictions = rf.predict(X_test )\n",
        "predictions=np.round(predictions)\n",
        "\n",
        "target_names = ['Dermatofibroma', 'Pigmented Benign Keratosis', 'Solar Lentigo','Vascular Lesion','Nevocytic Nevus','Lentigo Nos']\n",
        "print (\"Accuracy:\", ms.accuracy_score(y_test,predictions))\n",
        "print(classification_report(y_test, predictions, target_names=target_names))\n",
        "cf_matrix=plot_confusion_matrix(rf, X_test, y_test)  \n",
        " "
      ],
      "metadata": {
        "colab": {
          "base_uri": "https://localhost:8080/",
          "height": 577
        },
        "id": "H2sN0szygsJd",
        "outputId": "730c69d7-2dc5-4115-9482-c928fb8755d6"
      },
      "execution_count": 141,
      "outputs": [
        {
          "output_type": "stream",
          "name": "stdout",
          "text": [
            "Accuracy: 0.8523206751054853\n",
            "                            precision    recall  f1-score   support\n",
            "\n",
            "            Dermatofibroma       0.93      1.00      0.96        41\n",
            "Pigmented Benign Keratosis       0.87      0.93      0.90        44\n",
            "             Solar Lentigo       0.88      0.78      0.83        49\n",
            "           Vascular Lesion       0.75      0.66      0.70        41\n",
            "           Nevocytic Nevus       0.74      0.74      0.74        27\n",
            "               Lentigo Nos       0.88      1.00      0.93        35\n",
            "\n",
            "                  accuracy                           0.85       237\n",
            "                 macro avg       0.84      0.85      0.84       237\n",
            "              weighted avg       0.85      0.85      0.85       237\n",
            "\n"
          ]
        },
        {
          "output_type": "stream",
          "name": "stderr",
          "text": [
            "/usr/local/lib/python3.7/dist-packages/sklearn/utils/deprecation.py:87: FutureWarning: Function plot_confusion_matrix is deprecated; Function `plot_confusion_matrix` is deprecated in 1.0 and will be removed in 1.2. Use one of the class methods: ConfusionMatrixDisplay.from_predictions or ConfusionMatrixDisplay.from_estimator.\n",
            "  warnings.warn(msg, category=FutureWarning)\n"
          ]
        },
        {
          "output_type": "display_data",
          "data": {
            "text/plain": [
              "<Figure size 432x288 with 2 Axes>"
            ],
            "image/png": "[encoded data removed]"
          },
          "metadata": {
            "needs_background": "light"
          }
        }
      ]
    },
    {
      "cell_type": "markdown",
      "source": [
        "### SVC"
      ],
      "metadata": {
        "id": "5uR8EswwM31r"
      }
    },
    {
      "cell_type": "code",
      "source": [
        ""
      ],
      "metadata": {
        "id": "h2xKtK-afrYL"
      },
      "execution_count": null,
      "outputs": []
    },
    {
      "cell_type": "code",
      "source": [
        "\n",
        "svc= SVC(gamma='auto',C=4.0,degree=5,kernel='rbf')\n",
        " \n",
        "svc.fit(X_train, y_train)\n",
        "predictions = svc.predict(X_test )\n",
        "predictions=np.round(predictions)\n",
        "\n",
        "\n",
        "target_names = ['Dermatofibroma', 'Pigmented Benign Keratosis', 'Solar Lentigo','Vascular Lesion','Nevocytic Nevus','Lentigo Nos']\n",
        "print (\"Accuracy:\", ms.accuracy_score(y_test,predictions))\n",
        "print(classification_report(y_test, predictions, target_names=target_names))\n",
        "cf_matrix=plot_confusion_matrix(svc, X_test, y_test)  "
      ],
      "metadata": {
        "colab": {
          "base_uri": "https://localhost:8080/",
          "height": 577
        },
        "id": "98A0qOfxcBvj",
        "outputId": "364886be-90aa-4b31-c729-5d7227155ae3"
      },
      "execution_count": null,
      "outputs": [
        {
          "output_type": "stream",
          "name": "stdout",
          "text": [
            "Accuracy: 0.810126582278481\n",
            "                            precision    recall  f1-score   support\n",
            "\n",
            "            Dermatofibroma       0.85      1.00      0.92        41\n",
            "Pigmented Benign Keratosis       0.86      0.86      0.86        44\n",
            "             Solar Lentigo       0.84      0.76      0.80        49\n",
            "           Vascular Lesion       0.69      0.61      0.65        41\n",
            "           Nevocytic Nevus       0.73      0.59      0.65        27\n",
            "               Lentigo Nos       0.81      1.00      0.90        35\n",
            "\n",
            "                  accuracy                           0.81       237\n",
            "                 macro avg       0.80      0.80      0.80       237\n",
            "              weighted avg       0.81      0.81      0.80       237\n",
            "\n"
          ]
        },
        {
          "output_type": "stream",
          "name": "stderr",
          "text": [
            "/usr/local/lib/python3.7/dist-packages/sklearn/utils/deprecation.py:87: FutureWarning: Function plot_confusion_matrix is deprecated; Function `plot_confusion_matrix` is deprecated in 1.0 and will be removed in 1.2. Use one of the class methods: ConfusionMatrixDisplay.from_predictions or ConfusionMatrixDisplay.from_estimator.\n",
            "  warnings.warn(msg, category=FutureWarning)\n"
          ]
        },
        {
          "output_type": "display_data",
          "data": {
            "text/plain": [
              "<Figure size 432x288 with 2 Axes>"
            ],
            "image/png": "[encoded data removed]"
          },
          "metadata": {
            "needs_background": "light"
          }
        }
      ]
    },
    {
      "cell_type": "markdown",
      "source": [
        "### Decision Tree"
      ],
      "metadata": {
        "id": "vAJpxI_4M31t"
      }
    },
    {
      "cell_type": "code",
      "source": [
        ""
      ],
      "metadata": {
        "id": "hQHIep4EfXfO"
      },
      "execution_count": null,
      "outputs": []
    },
    {
      "cell_type": "code",
      "source": [
        "\n",
        "from sklearn import tree\n",
        "dt =  tree.DecisionTreeClassifier(random_state=0, max_depth=10)\n",
        "predictions = dt.fit(X_train, y_train).predict(X_test)\n",
        "predictions=np.round(predictions)\n",
        "\n",
        " \n",
        "predictions = dt.predict(X_test )\n",
        "predictions=np.round(predictions)\n",
        "\n",
        "\n",
        "target_names = ['Dermatofibroma', 'Pigmented Benign Keratosis', 'Solar Lentigo','Vascular Lesion','Nevocytic Nevus','Lentigo Nos']\n",
        "print (\"Accuracy:\", ms.accuracy_score(y_test,predictions))\n",
        "print(classification_report(y_test, predictions, target_names=target_names))\n",
        "cf_matrix=plot_confusion_matrix(dt, X_test, y_test)  "
      ],
      "metadata": {
        "execution": {
          "iopub.status.busy": "2022-06-05T06:41:47.997251Z",
          "iopub.execute_input": "2022-06-05T06:41:47.997530Z",
          "iopub.status.idle": "2022-06-05T06:41:48.320123Z",
          "shell.execute_reply.started": "2022-06-05T06:41:47.997499Z",
          "shell.execute_reply": "2022-06-05T06:41:48.319317Z"
        },
        "trusted": true,
        "id": "5ChHMavtM31g",
        "outputId": "a4859892-b207-41a0-f8da-ba0f4f42d6aa",
        "colab": {
          "base_uri": "https://localhost:8080/",
          "height": 577
        }
      },
      "execution_count": null,
      "outputs": [
        {
          "output_type": "stream",
          "name": "stdout",
          "text": [
            "Accuracy: 0.8270042194092827\n",
            "                            precision    recall  f1-score   support\n",
            "\n",
            "            Dermatofibroma       1.00      1.00      1.00        41\n",
            "Pigmented Benign Keratosis       0.78      0.89      0.83        44\n",
            "             Solar Lentigo       0.79      0.76      0.77        49\n",
            "           Vascular Lesion       0.62      0.59      0.60        41\n",
            "           Nevocytic Nevus       0.87      0.74      0.80        27\n",
            "               Lentigo Nos       0.95      1.00      0.97        35\n",
            "\n",
            "                  accuracy                           0.83       237\n",
            "                 macro avg       0.83      0.83      0.83       237\n",
            "              weighted avg       0.83      0.83      0.82       237\n",
            "\n"
          ]
        },
        {
          "output_type": "stream",
          "name": "stderr",
          "text": [
            "/usr/local/lib/python3.7/dist-packages/sklearn/utils/deprecation.py:87: FutureWarning: Function plot_confusion_matrix is deprecated; Function `plot_confusion_matrix` is deprecated in 1.0 and will be removed in 1.2. Use one of the class methods: ConfusionMatrixDisplay.from_predictions or ConfusionMatrixDisplay.from_estimator.\n",
            "  warnings.warn(msg, category=FutureWarning)\n"
          ]
        },
        {
          "output_type": "display_data",
          "data": {
            "text/plain": [
              "<Figure size 432x288 with 2 Axes>"
            ],
            "image/png": "[encoded data removed]"
          },
          "metadata": {
            "needs_background": "light"
          }
        }
      ]
    },
    {
      "cell_type": "markdown",
      "source": [
        "### Naieve Bayes"
      ],
      "metadata": {
        "id": "0IMfiaK_M31w"
      }
    },
    {
      "cell_type": "code",
      "source": [
        ""
      ],
      "metadata": {
        "id": "BjszcAHtVRzG"
      },
      "execution_count": null,
      "outputs": []
    },
    {
      "cell_type": "code",
      "source": [
        "from sklearn.naive_bayes import GaussianNB\n",
        "from sklearn import tree\n",
        "bounds = ([4.3, 2.0, 1.0, 0.1], [7.9, 4.4, 6.9, 2.5])\n",
        "\n",
        "gnb =   GaussianNB()\n",
        "predictions = gnb.fit(X_train, y_train).predict(X_test)\n",
        "predictions=np.round(predictions)\n",
        "\n",
        "target_names = ['Nevocytic Nevus', 'Dermatofibroma', 'Pigmented Benign Keratosis', 'Solar Lentigo','Vascular Lesion','Lentigo Nos']\n",
        "print (\"Accuracy:\", ms.accuracy_score(y_test,predictions))\n",
        "print(classification_report(y_test, predictions, target_names=target_names))\n",
        "cf_matrix=plot_confusion_matrix(gnb, X_test, y_test)  \n",
        "\n",
        " \n"
      ],
      "metadata": {
        "execution": {
          "iopub.status.busy": "2022-06-05T06:37:17.487139Z",
          "iopub.execute_input": "2022-06-05T06:37:17.487588Z",
          "iopub.status.idle": "2022-06-05T06:37:17.822016Z",
          "shell.execute_reply.started": "2022-06-05T06:37:17.487542Z",
          "shell.execute_reply": "2022-06-05T06:37:17.821336Z"
        },
        "trusted": true,
        "id": "FidLhlb7M31Q",
        "outputId": "7614bb97-7202-4f48-e87c-815ed4bb8c43",
        "colab": {
          "base_uri": "https://localhost:8080/",
          "height": 577
        }
      },
      "execution_count": null,
      "outputs": [
        {
          "output_type": "stream",
          "name": "stdout",
          "text": [
            "Accuracy: 0.5527426160337553\n",
            "                            precision    recall  f1-score   support\n",
            "\n",
            "           Nevocytic Nevus       0.52      0.80      0.63        41\n",
            "            Dermatofibroma       0.75      0.27      0.40        44\n",
            "Pigmented Benign Keratosis       0.57      0.59      0.58        49\n",
            "             Solar Lentigo       0.44      0.29      0.35        41\n",
            "           Vascular Lesion       0.57      0.44      0.50        27\n",
            "               Lentigo Nos       0.56      0.94      0.70        35\n",
            "\n",
            "                  accuracy                           0.55       237\n",
            "                 macro avg       0.57      0.56      0.53       237\n",
            "              weighted avg       0.57      0.55      0.53       237\n",
            "\n"
          ]
        },
        {
          "output_type": "stream",
          "name": "stderr",
          "text": [
            "/usr/local/lib/python3.7/dist-packages/sklearn/utils/deprecation.py:87: FutureWarning: Function plot_confusion_matrix is deprecated; Function `plot_confusion_matrix` is deprecated in 1.0 and will be removed in 1.2. Use one of the class methods: ConfusionMatrixDisplay.from_predictions or ConfusionMatrixDisplay.from_estimator.\n",
            "  warnings.warn(msg, category=FutureWarning)\n"
          ]
        },
        {
          "output_type": "display_data",
          "data": {
            "text/plain": [
              "<Figure size 432x288 with 2 Axes>"
            ],
            "image/png": "[encoded data removed]"
          },
          "metadata": {
            "needs_background": "light"
          }
        }
      ]
    },
    {
      "cell_type": "markdown",
      "source": [
        "### Ensemble"
      ],
      "metadata": {
        "id": "ak663SvPfNHi"
      }
    },
    {
      "cell_type": "code",
      "source": [
        "\n",
        "clf1 = tree.DecisionTreeClassifier(random_state=0, max_depth=10)\n",
        "clf2 = RandomForestClassifier(n_estimators=30, random_state=77)\n",
        "clf3 = GaussianNB()\n",
        "clf4 = SVC(gamma='auto',C=5.0,degree=5,kernel='rbf')\n",
        "\n",
        "eclf1 = VotingClassifier(estimators=[\n",
        "        ('dt', clf1), ('rf', clf2), ('gnb', clf3),('svc', clf4)], voting='hard')\n",
        "predictions = eclf1.fit(X_train, y_train).predict(X_test)\n",
        "predictions=np.round(predictions)\n",
        "\n",
        "target_names = ['Nevocytic Nevus', 'Dermatofibroma', 'Pigmented Benign Keratosis', 'Solar Lentigo','Vascular Lesion','Lentigo Nos']\n",
        "print (\"Accuracy:\", ms.accuracy_score(y_test,predictions))\n",
        "print(classification_report(y_test, predictions, target_names=target_names))\n",
        "cf_matrix=plot_confusion_matrix(eclf1, X_test, y_test)  "
      ],
      "metadata": {
        "colab": {
          "base_uri": "https://localhost:8080/",
          "height": 577
        },
        "id": "N3PmtHajhLcC",
        "outputId": "495bdf37-a00c-4bf7-9586-75355d1129a2"
      },
      "execution_count": 142,
      "outputs": [
        {
          "output_type": "stream",
          "name": "stdout",
          "text": [
            "Accuracy: 0.8734177215189873\n",
            "                            precision    recall  f1-score   support\n",
            "\n",
            "            Dermatofibroma       0.95      1.00      0.98        41\n",
            "Pigmented Benign Keratosis       0.88      0.98      0.92        44\n",
            "             Solar Lentigo       0.90      0.78      0.84        49\n",
            "           Vascular Lesion       0.76      0.68      0.72        41\n",
            "           Nevocytic Nevus       0.79      0.81      0.80        27\n",
            "               Lentigo Nos       0.92      1.00      0.96        35\n",
            "\n",
            "                  accuracy                           0.87       237\n",
            "                 macro avg       0.87      0.88      0.87       237\n",
            "              weighted avg       0.87      0.87      0.87       237\n",
            "\n"
          ]
        },
        {
          "output_type": "stream",
          "name": "stderr",
          "text": [
            "/usr/local/lib/python3.7/dist-packages/sklearn/utils/deprecation.py:87: FutureWarning: Function plot_confusion_matrix is deprecated; Function `plot_confusion_matrix` is deprecated in 1.0 and will be removed in 1.2. Use one of the class methods: ConfusionMatrixDisplay.from_predictions or ConfusionMatrixDisplay.from_estimator.\n",
            "  warnings.warn(msg, category=FutureWarning)\n"
          ]
        },
        {
          "output_type": "display_data",
          "data": {
            "text/plain": [
              "<Figure size 432x288 with 2 Axes>"
            ],
            "image/png": "[encoded data removed]"
          },
          "metadata": {
            "needs_background": "light"
          }
        }
      ]
    },
    {
      "cell_type": "markdown",
      "source": [
        "# **Balanced**"
      ],
      "metadata": {
        "id": "KyP3ayUyM31z"
      }
    },
    {
      "cell_type": "code",
      "source": [
        ""
      ],
      "metadata": {
        "id": "nljFuZZiM310"
      },
      "execution_count": null,
      "outputs": []
    },
    {
      "cell_type": "markdown",
      "source": [
        "## **UNet**"
      ],
      "metadata": {
        "id": "kvDFQ2l8M311"
      }
    },
    {
      "cell_type": "code",
      "source": [
        "\n",
        "df=pd.read_csv('/content/drive/MyDrive/Fiverr/2016_final/Classification/balanced_unet.csv')\n",
        "df=df.drop(columns=df.columns[0],axis=1)\n",
        "df\n"
      ],
      "metadata": {
        "colab": {
          "base_uri": "https://localhost:8080/",
          "height": 488
        },
        "id": "RExeaFR-vQfc",
        "outputId": "f820c5b0-c5f6-47e6-bf06-c6425675bc62"
      },
      "execution_count": null,
      "outputs": [
        {
          "output_type": "execute_result",
          "data": {
            "text/plain": [
              "      Feature_1  Feature_2  Feature_3  Feature_4  Feature_5  Feature_6  \\\n",
              "0      1.691917   0.012063   1.724320  -0.297655  -0.298154  -0.365587   \n",
              "1      1.045687   0.127153   0.953143  -0.370075   2.101425  -0.860468   \n",
              "2     -0.569888   2.333036  -1.269661   1.186953   0.139865  -0.860468   \n",
              "3      1.045687  -0.525021   0.635599  -0.804595   1.053990   2.009842   \n",
              "4     -0.085216   1.700044  -1.178935   0.571384  -0.107711  -0.761492   \n",
              "...         ...        ...        ...        ...        ...        ...   \n",
              "3005   0.507162  -1.062106   1.270686   0.136864  -0.183888  -0.761492   \n",
              "3006   1.207244  -0.870290   1.134596  -0.007976  -0.374331  -0.860468   \n",
              "3007   1.207244  -0.870290   1.134596  -0.007976  -0.374331  -0.860468   \n",
              "3008  -1.862348  -0.601748  -0.180941  -0.442495  -0.564774   0.525199   \n",
              "3009  -0.354478  -0.026300  -0.861391  -0.225236  -0.469552   2.009842   \n",
              "\n",
              "      Feature_7  Feature_8  Feature_9  Feature_10  Feature_11  label  \n",
              "0      0.300011   1.987654  -0.422459   -0.537124   -1.344391      0  \n",
              "1     -0.745674   1.321834  -0.951388   -0.199811   -1.816476      0  \n",
              "2     -0.813137  -0.009807   1.810794   -0.705781   -0.006818      0  \n",
              "3      0.333743   0.808201   0.341548    1.093224   -0.636264      0  \n",
              "4     -0.914333   1.093552   0.929247   -0.986875    0.229224      0  \n",
              "...         ...        ...        ...         ...         ...    ...  \n",
              "3005  -0.711942  -0.104924  -1.010158    1.430537    0.779989      5  \n",
              "3006  -0.745674   0.275544  -1.010158   -0.087373    0.229224      5  \n",
              "3007  -0.745674   0.275544  -1.010158   -0.087373    0.229224      5  \n",
              "3008   0.401206  -2.340179   2.339723    0.418597    2.589647      5  \n",
              "3009   0.232547  -1.165481   0.811707    0.418597    1.566797      5  \n",
              "\n",
              "[3010 rows x 12 columns]"
            ],
            "text/html": [
              "\n",
              "  <div id=\"df-6d3bd631-6073-481e-895a-33c2c539be25\">\n",
              "    <div class=\"colab-df-container\">\n",
              "      <div>\n",
              "<style scoped>\n",
              "    .dataframe tbody tr th:only-of-type {\n",
              "        vertical-align: middle;\n",
              "    }\n",
              "\n",
              "    .dataframe tbody tr th {\n",
              "        vertical-align: top;\n",
              "    }\n",
              "\n",
              "    .dataframe thead th {\n",
              "        text-align: right;\n",
              "    }\n",
              "</style>\n",
              "<table border=\"1\" class=\"dataframe\">\n",
              "  <thead>\n",
              "    <tr style=\"text-align: right;\">\n",
              "      <th></th>\n",
              "      <th>Feature_1</th>\n",
              "      <th>Feature_2</th>\n",
              "      <th>Feature_3</th>\n",
              "      <th>Feature_4</th>\n",
              "      <th>Feature_5</th>\n",
              "      <th>Feature_6</th>\n",
              "      <th>Feature_7</th>\n",
              "      <th>Feature_8</th>\n",
              "      <th>Feature_9</th>\n",
              "      <th>Feature_10</th>\n",
              "      <th>Feature_11</th>\n",
              "      <th>label</th>\n",
              "    </tr>\n",
              "  </thead>\n",
              "  <tbody>\n",
              "    <tr>\n",
              "      <th>0</th>\n",
              "      <td>1.691917</td>\n",
              "      <td>0.012063</td>\n",
              "      <td>1.724320</td>\n",
              "      <td>-0.297655</td>\n",
              "      <td>-0.298154</td>\n",
              "      <td>-0.365587</td>\n",
              "      <td>0.300011</td>\n",
              "      <td>1.987654</td>\n",
              "      <td>-0.422459</td>\n",
              "      <td>-0.537124</td>\n",
              "      <td>-1.344391</td>\n",
              "      <td>0</td>\n",
              "    </tr>\n",
              "    <tr>\n",
              "      <th>1</th>\n",
              "      <td>1.045687</td>\n",
              "      <td>0.127153</td>\n",
              "      <td>0.953143</td>\n",
              "      <td>-0.370075</td>\n",
              "      <td>2.101425</td>\n",
              "      <td>-0.860468</td>\n",
              "      <td>-0.745674</td>\n",
              "      <td>1.321834</td>\n",
              "      <td>-0.951388</td>\n",
              "      <td>-0.199811</td>\n",
              "      <td>-1.816476</td>\n",
              "      <td>0</td>\n",
              "    </tr>\n",
              "    <tr>\n",
              "      <th>2</th>\n",
              "      <td>-0.569888</td>\n",
              "      <td>2.333036</td>\n",
              "      <td>-1.269661</td>\n",
              "      <td>1.186953</td>\n",
              "      <td>0.139865</td>\n",
              "      <td>-0.860468</td>\n",
              "      <td>-0.813137</td>\n",
              "      <td>-0.009807</td>\n",
              "      <td>1.810794</td>\n",
              "      <td>-0.705781</td>\n",
              "      <td>-0.006818</td>\n",
              "      <td>0</td>\n",
              "    </tr>\n",
              "    <tr>\n",
              "      <th>3</th>\n",
              "      <td>1.045687</td>\n",
              "      <td>-0.525021</td>\n",
              "      <td>0.635599</td>\n",
              "      <td>-0.804595</td>\n",
              "      <td>1.053990</td>\n",
              "      <td>2.009842</td>\n",
              "      <td>0.333743</td>\n",
              "      <td>0.808201</td>\n",
              "      <td>0.341548</td>\n",
              "      <td>1.093224</td>\n",
              "      <td>-0.636264</td>\n",
              "      <td>0</td>\n",
              "    </tr>\n",
              "    <tr>\n",
              "      <th>4</th>\n",
              "      <td>-0.085216</td>\n",
              "      <td>1.700044</td>\n",
              "      <td>-1.178935</td>\n",
              "      <td>0.571384</td>\n",
              "      <td>-0.107711</td>\n",
              "      <td>-0.761492</td>\n",
              "      <td>-0.914333</td>\n",
              "      <td>1.093552</td>\n",
              "      <td>0.929247</td>\n",
              "      <td>-0.986875</td>\n",
              "      <td>0.229224</td>\n",
              "      <td>0</td>\n",
              "    </tr>\n",
              "    <tr>\n",
              "      <th>...</th>\n",
              "      <td>...</td>\n",
              "      <td>...</td>\n",
              "      <td>...</td>\n",
              "      <td>...</td>\n",
              "      <td>...</td>\n",
              "      <td>...</td>\n",
              "      <td>...</td>\n",
              "      <td>...</td>\n",
              "      <td>...</td>\n",
              "      <td>...</td>\n",
              "      <td>...</td>\n",
              "      <td>...</td>\n",
              "    </tr>\n",
              "    <tr>\n",
              "      <th>3005</th>\n",
              "      <td>0.507162</td>\n",
              "      <td>-1.062106</td>\n",
              "      <td>1.270686</td>\n",
              "      <td>0.136864</td>\n",
              "      <td>-0.183888</td>\n",
              "      <td>-0.761492</td>\n",
              "      <td>-0.711942</td>\n",
              "      <td>-0.104924</td>\n",
              "      <td>-1.010158</td>\n",
              "      <td>1.430537</td>\n",
              "      <td>0.779989</td>\n",
              "      <td>5</td>\n",
              "    </tr>\n",
              "    <tr>\n",
              "      <th>3006</th>\n",
              "      <td>1.207244</td>\n",
              "      <td>-0.870290</td>\n",
              "      <td>1.134596</td>\n",
              "      <td>-0.007976</td>\n",
              "      <td>-0.374331</td>\n",
              "      <td>-0.860468</td>\n",
              "      <td>-0.745674</td>\n",
              "      <td>0.275544</td>\n",
              "      <td>-1.010158</td>\n",
              "      <td>-0.087373</td>\n",
              "      <td>0.229224</td>\n",
              "      <td>5</td>\n",
              "    </tr>\n",
              "    <tr>\n",
              "      <th>3007</th>\n",
              "      <td>1.207244</td>\n",
              "      <td>-0.870290</td>\n",
              "      <td>1.134596</td>\n",
              "      <td>-0.007976</td>\n",
              "      <td>-0.374331</td>\n",
              "      <td>-0.860468</td>\n",
              "      <td>-0.745674</td>\n",
              "      <td>0.275544</td>\n",
              "      <td>-1.010158</td>\n",
              "      <td>-0.087373</td>\n",
              "      <td>0.229224</td>\n",
              "      <td>5</td>\n",
              "    </tr>\n",
              "    <tr>\n",
              "      <th>3008</th>\n",
              "      <td>-1.862348</td>\n",
              "      <td>-0.601748</td>\n",
              "      <td>-0.180941</td>\n",
              "      <td>-0.442495</td>\n",
              "      <td>-0.564774</td>\n",
              "      <td>0.525199</td>\n",
              "      <td>0.401206</td>\n",
              "      <td>-2.340179</td>\n",
              "      <td>2.339723</td>\n",
              "      <td>0.418597</td>\n",
              "      <td>2.589647</td>\n",
              "      <td>5</td>\n",
              "    </tr>\n",
              "    <tr>\n",
              "      <th>3009</th>\n",
              "      <td>-0.354478</td>\n",
              "      <td>-0.026300</td>\n",
              "      <td>-0.861391</td>\n",
              "      <td>-0.225236</td>\n",
              "      <td>-0.469552</td>\n",
              "      <td>2.009842</td>\n",
              "      <td>0.232547</td>\n",
              "      <td>-1.165481</td>\n",
              "      <td>0.811707</td>\n",
              "      <td>0.418597</td>\n",
              "      <td>1.566797</td>\n",
              "      <td>5</td>\n",
              "    </tr>\n",
              "  </tbody>\n",
              "</table>\n",
              "<p>3010 rows × 12 columns</p>\n",
              "</div>\n",
              "      <button class=\"colab-df-convert\" onclick=\"convertToInteractive('df-6d3bd631-6073-481e-895a-33c2c539be25')\"\n",
              "              title=\"Convert this dataframe to an interactive table.\"\n",
              "              style=\"display:none;\">\n",
              "        \n",
              "  <svg xmlns=\"http://www.w3.org/2000/svg\" height=\"24px\"viewBox=\"0 0 24 24\"\n",
              "       width=\"24px\">\n",
              "    <path d=\"M0 0h24v24H0V0z\" fill=\"none\"/>\n",
              "    <path d=\"M18.56 5.44l.94 2.06.94-2.06 2.06-.94-2.06-.94-.94-2.06-.94 2.06-2.06.94zm-11 1L8.5 8.5l.94-2.06 2.06-.94-2.06-.94L8.5 2.5l-.94 2.06-2.06.94zm10 10l.94 2.06.94-2.06 2.06-.94-2.06-.94-.94-2.06-.94 2.06-2.06.94z\"/><path d=\"M17.41 7.96l-1.37-1.37c-.4-.4-.92-.59-1.43-.59-.52 0-1.04.2-1.43.59L10.3 9.45l-7.72 7.72c-.78.78-.78 2.05 0 2.83L4 21.41c.39.39.9.59 1.41.59.51 0 1.02-.2 1.41-.59l7.78-7.78 2.81-2.81c.8-.78.8-2.07 0-2.86zM5.41 20L4 18.59l7.72-7.72 1.47 1.35L5.41 20z\"/>\n",
              "  </svg>\n",
              "      </button>\n",
              "      \n",
              "  <style>\n",
              "    .colab-df-container {\n",
              "      display:flex;\n",
              "      flex-wrap:wrap;\n",
              "      gap: 12px;\n",
              "    }\n",
              "\n",
              "    .colab-df-convert {\n",
              "      background-color: #E8F0FE;\n",
              "      border: none;\n",
              "      border-radius: 50%;\n",
              "      cursor: pointer;\n",
              "      display: none;\n",
              "      fill: #1967D2;\n",
              "      height: 32px;\n",
              "      padding: 0 0 0 0;\n",
              "      width: 32px;\n",
              "    }\n",
              "\n",
              "    .colab-df-convert:hover {\n",
              "      background-color: #E2EBFA;\n",
              "      box-shadow: 0px 1px 2px rgba(60, 64, 67, 0.3), 0px 1px 3px 1px rgba(60, 64, 67, 0.15);\n",
              "      fill: #174EA6;\n",
              "    }\n",
              "\n",
              "    [theme=dark] .colab-df-convert {\n",
              "      background-color: #3B4455;\n",
              "      fill: #D2E3FC;\n",
              "    }\n",
              "\n",
              "    [theme=dark] .colab-df-convert:hover {\n",
              "      background-color: #434B5C;\n",
              "      box-shadow: 0px 1px 3px 1px rgba(0, 0, 0, 0.15);\n",
              "      filter: drop-shadow(0px 1px 2px rgba(0, 0, 0, 0.3));\n",
              "      fill: #FFFFFF;\n",
              "    }\n",
              "  </style>\n",
              "\n",
              "      <script>\n",
              "        const buttonEl =\n",
              "          document.querySelector('#df-6d3bd631-6073-481e-895a-33c2c539be25 button.colab-df-convert');\n",
              "        buttonEl.style.display =\n",
              "          google.colab.kernel.accessAllowed ? 'block' : 'none';\n",
              "\n",
              "        async function convertToInteractive(key) {\n",
              "          const element = document.querySelector('#df-6d3bd631-6073-481e-895a-33c2c539be25');\n",
              "          const dataTable =\n",
              "            await google.colab.kernel.invokeFunction('convertToInteractive',\n",
              "                                                     [key], {});\n",
              "          if (!dataTable) return;\n",
              "\n",
              "          const docLinkHtml = 'Like what you see? Visit the ' +\n",
              "            '<a target=\"_blank\" href=https://colab.research.google.com/notebooks/data_table.ipynb>data table notebook</a>'\n",
              "            + ' to learn more about interactive tables.';\n",
              "          element.innerHTML = '';\n",
              "          dataTable['output_type'] = 'display_data';\n",
              "          await google.colab.output.renderOutput(dataTable, element);\n",
              "          const docLink = document.createElement('div');\n",
              "          docLink.innerHTML = docLinkHtml;\n",
              "          element.appendChild(docLink);\n",
              "        }\n",
              "      </script>\n",
              "    </div>\n",
              "  </div>\n",
              "  "
            ]
          },
          "metadata": {},
          "execution_count": 193
        }
      ]
    },
    {
      "cell_type": "code",
      "source": [
        ""
      ],
      "metadata": {
        "id": "72VpDQ-E0vjj"
      },
      "execution_count": null,
      "outputs": []
    },
    {
      "cell_type": "code",
      "source": [
        "import numpy as np\n",
        "import matplotlib.pyplot as plt\n",
        "# creating the dataset\n",
        "data = {'Nevocytic Nevus':df.groupby('quality').size()[0], 'Dermatofibroma':df.groupby('quality').size()[1], 'Pigmented Benign Keratosis':df.groupby('quality').size()[2],\n",
        "\t\t'Solar Lentigo':df.groupby('quality').size()[3],'Vascular Lesion':df.groupby('quality').size()[4],'Lentigo Nos':df.groupby('quality').size()[5]}\n",
        "courses = list(data.keys())\n",
        "values = list(data.values())\n",
        "\n",
        "fig = plt.figure(figsize = (6, 4))\n",
        "\n",
        "# creating the bar plot\n",
        "plt.bar(courses, values, color =['coral','gold','seagreen','lightcoral','dodgerblue','violet'],\n",
        "\t\twidth = 0.7)\n",
        "plt.xticks(rotation=75)\n",
        "plt.xlabel(\"Diseases\")\n",
        "plt.ylabel(\"No. of instances\")\n",
        "# plt.title(\"\")\n",
        "plt.yticks(  rotation='vertical')\n",
        "plt.show()\n"
      ],
      "metadata": {
        "colab": {
          "base_uri": "https://localhost:8080/",
          "height": 408
        },
        "outputId": "e2e48d7a-2f11-47ed-f84b-f1d09657fb6e",
        "id": "WytWry120wP5"
      },
      "execution_count": null,
      "outputs": [
        {
          "output_type": "display_data",
          "data": {
            "text/plain": [
              "<Figure size 432x288 with 1 Axes>"
            ],
            "image/png": "[encoded data removed]"
          },
          "metadata": {
            "needs_background": "light"
          }
        }
      ]
    },
    {
      "cell_type": "code",
      "source": [
        "label_unet=df['label']\n",
        "df_unet_final = df.drop('label', axis = 1).values"
      ],
      "metadata": {
        "id": "tMno-ank10Cp"
      },
      "execution_count": null,
      "outputs": []
    },
    {
      "cell_type": "code",
      "source": [
        "from sklearn.model_selection import train_test_split\n",
        "\n",
        "X_train, X_test, y_train, y_test = train_test_split(df_unet_final, label_unet ,\n",
        "                                                    test_size=0.225, random_state=44)\n",
        " \n",
        "print('Training on ',X_train.shape[0],' images')\n",
        "print('Testing on ',X_test.shape[0],' images')\n"
      ],
      "metadata": {
        "execution": {
          "iopub.status.busy": "2022-06-05T07:22:44.438117Z",
          "iopub.execute_input": "2022-06-05T07:22:44.438852Z",
          "iopub.status.idle": "2022-06-05T07:22:44.451583Z",
          "shell.execute_reply.started": "2022-06-05T07:22:44.438802Z",
          "shell.execute_reply": "2022-06-05T07:22:44.450451Z"
        },
        "trusted": true,
        "id": "Ej-xvANcM312",
        "outputId": "3fc3b968-5c89-482c-85cb-f30cc89015cb"
      },
      "execution_count": null,
      "outputs": [
        {
          "name": "stdout",
          "text": "Training on  2332  images\nTesting on  678  images\n",
          "output_type": "stream"
        }
      ]
    },
    {
      "cell_type": "markdown",
      "source": [
        "### Random Forest"
      ],
      "metadata": {
        "id": "1FzIrLtoM313"
      }
    },
    {
      "cell_type": "code",
      "source": [
        ""
      ],
      "metadata": {
        "id": "Zz_B4YfE4yGm"
      },
      "execution_count": null,
      "outputs": []
    },
    {
      "cell_type": "code",
      "source": [
        "\n",
        "rf = RandomForestClassifier(n_estimators=30,random_state=77)\n",
        "rf.fit(X_train, y_train)\n",
        "predictions = rf.predict(X_test )\n",
        "predictions=np.round(predictions)\n",
        "\n",
        "target_names =  ['Nevocytic Nevus', 'Dermatofibroma', 'Pigmented Benign Keratosis', 'Solar Lentigo','Vascular Lesion','Lentigo Nos']\n",
        "print (\"Accuracy:\", ms.accuracy_score(y_test,predictions))\n",
        "print(classification_report(y_test, predictions, target_names=target_names))\n",
        "cf_matrix=plot_confusion_matrix(rf, X_test, y_test)  \n",
        " "
      ],
      "metadata": {
        "colab": {
          "base_uri": "https://localhost:8080/",
          "height": 577
        },
        "id": "GUZ2WJmuiDdl",
        "outputId": "9180a62f-9316-4842-aa21-b8d0d8e51503"
      },
      "execution_count": null,
      "outputs": [
        {
          "output_type": "stream",
          "name": "stdout",
          "text": [
            "Accuracy: 0.9660766961651918\n",
            "                            precision    recall  f1-score   support\n",
            "\n",
            "           Nevocytic Nevus       0.98      1.00      0.99       103\n",
            "            Dermatofibroma       0.97      1.00      0.99       108\n",
            "Pigmented Benign Keratosis       0.98      0.97      0.98       112\n",
            "             Solar Lentigo       0.89      0.97      0.93       119\n",
            "           Vascular Lesion       1.00      0.86      0.92       121\n",
            "               Lentigo Nos       0.99      1.00      1.00       115\n",
            "\n",
            "                  accuracy                           0.97       678\n",
            "                 macro avg       0.97      0.97      0.97       678\n",
            "              weighted avg       0.97      0.97      0.97       678\n",
            "\n"
          ]
        },
        {
          "output_type": "stream",
          "name": "stderr",
          "text": [
            "/usr/local/lib/python3.7/dist-packages/sklearn/utils/deprecation.py:87: FutureWarning: Function plot_confusion_matrix is deprecated; Function `plot_confusion_matrix` is deprecated in 1.0 and will be removed in 1.2. Use one of the class methods: ConfusionMatrixDisplay.from_predictions or ConfusionMatrixDisplay.from_estimator.\n",
            "  warnings.warn(msg, category=FutureWarning)\n"
          ]
        },
        {
          "output_type": "display_data",
          "data": {
            "text/plain": [
              "<Figure size 432x288 with 2 Axes>"
            ],
            "image/png": "[encoded data removed]"
          },
          "metadata": {
            "needs_background": "light"
          }
        }
      ]
    },
    {
      "cell_type": "markdown",
      "source": [
        "### SVC"
      ],
      "metadata": {
        "id": "t2VO40CMM316"
      }
    },
    {
      "cell_type": "code",
      "source": [
        "svc= SVC(gamma='auto',C=4.0,degree=5,kernel='rbf')\n",
        " \n",
        "svc.fit(X_train, y_train)\n",
        "predictions = svc.predict(X_test )\n",
        "predictions=np.round(predictions)\n",
        "\n",
        "\n",
        "target_names =  ['Nevocytic Nevus', 'Dermatofibroma', 'Pigmented Benign Keratosis', 'Solar Lentigo','Vascular Lesion','Lentigo Nos']\n",
        "print (\"Accuracy:\", ms.accuracy_score(y_test,predictions))\n",
        "print(classification_report(y_test, predictions, target_names=target_names))\n",
        "cf_matrix=plot_confusion_matrix(svc, X_test, y_test)  "
      ],
      "metadata": {
        "execution": {
          "iopub.status.busy": "2022-06-05T07:24:40.577369Z",
          "iopub.execute_input": "2022-06-05T07:24:40.577936Z",
          "iopub.status.idle": "2022-06-05T07:24:41.137958Z",
          "shell.execute_reply.started": "2022-06-05T07:24:40.577898Z",
          "shell.execute_reply": "2022-06-05T07:24:41.137298Z"
        },
        "trusted": true,
        "id": "yUrAFB-hM317",
        "outputId": "f7ba4d05-e3dd-4779-d8eb-b3e2ed4e0f14"
      },
      "execution_count": null,
      "outputs": [
        {
          "name": "stdout",
          "text": "Accuracy: 0.8864306784660767\n                            precision    recall  f1-score   support\n\n           Nevocytic Nevus       0.99      1.00      1.00       111\n            Dermatofibroma       0.88      1.00      0.94       104\nPigmented Benign Keratosis       0.86      0.78      0.82       117\n             Solar Lentigo       0.72      0.74      0.73       116\n           Vascular Lesion       0.92      0.82      0.87       114\n               Lentigo Nos       0.96      1.00      0.98       116\n\n                  accuracy                           0.89       678\n                 macro avg       0.89      0.89      0.89       678\n              weighted avg       0.89      0.89      0.89       678\n\n",
          "output_type": "stream"
        },
        {
          "name": "stderr",
          "text": "/opt/conda/lib/python3.7/site-packages/sklearn/utils/deprecation.py:87: FutureWarning: Function plot_confusion_matrix is deprecated; Function `plot_confusion_matrix` is deprecated in 1.0 and will be removed in 1.2. Use one of the class methods: ConfusionMatrixDisplay.from_predictions or ConfusionMatrixDisplay.from_estimator.\n  warnings.warn(msg, category=FutureWarning)\n",
          "output_type": "stream"
        },
        {
          "output_type": "display_data",
          "data": {
            "text/plain": "<Figure size 432x288 with 2 Axes>",
            "image/png": "[encoded data removed]"
          },
          "metadata": {
            "needs_background": "light"
          }
        }
      ]
    },
    {
      "cell_type": "markdown",
      "source": [
        "### Decision Tree"
      ],
      "metadata": {
        "id": "-pLyFudIM318"
      }
    },
    {
      "cell_type": "code",
      "source": [
        "\n",
        "from sklearn import tree\n",
        "dt =  tree.DecisionTreeClassifier(random_state=0, max_depth=10)\n",
        "predictions = dt.fit(X_train, y_train).predict(X_test)\n",
        "predictions=np.round(predictions)\n",
        "\n",
        " \n",
        "predictions = dt.predict(X_test )\n",
        "predictions=np.round(predictions)\n",
        "\n",
        "\n",
        "target_names = ['Nevocytic Nevus', 'Dermatofibroma', 'Pigmented Benign Keratosis', 'Solar Lentigo','Vascular Lesion','Lentigo Nos']\n",
        "print (\"Accuracy:\", ms.accuracy_score(y_test,predictions))\n",
        "print(classification_report(y_test, predictions, target_names=target_names))\n",
        "cf_matrix=plot_confusion_matrix(dt, X_test, y_test)  "
      ],
      "metadata": {
        "execution": {
          "iopub.status.busy": "2022-06-05T07:25:12.544994Z",
          "iopub.execute_input": "2022-06-05T07:25:12.545290Z",
          "iopub.status.idle": "2022-06-05T07:25:12.859742Z",
          "shell.execute_reply.started": "2022-06-05T07:25:12.545244Z",
          "shell.execute_reply": "2022-06-05T07:25:12.858951Z"
        },
        "trusted": true,
        "id": "k06ohqrnM319",
        "outputId": "732d4a52-53d6-485c-a284-5ec55a5a4cd2"
      },
      "execution_count": null,
      "outputs": [
        {
          "name": "stdout",
          "text": "Accuracy: 0.9351032448377581\n                            precision    recall  f1-score   support\n\n           Nevocytic Nevus       1.00      1.00      1.00       111\n            Dermatofibroma       0.95      1.00      0.98       104\nPigmented Benign Keratosis       0.93      0.91      0.92       117\n             Solar Lentigo       0.81      0.88      0.84       116\n           Vascular Lesion       0.98      0.83      0.90       114\n               Lentigo Nos       0.96      1.00      0.98       116\n\n                  accuracy                           0.94       678\n                 macro avg       0.94      0.94      0.94       678\n              weighted avg       0.94      0.94      0.93       678\n\n",
          "output_type": "stream"
        },
        {
          "name": "stderr",
          "text": "/opt/conda/lib/python3.7/site-packages/sklearn/utils/deprecation.py:87: FutureWarning: Function plot_confusion_matrix is deprecated; Function `plot_confusion_matrix` is deprecated in 1.0 and will be removed in 1.2. Use one of the class methods: ConfusionMatrixDisplay.from_predictions or ConfusionMatrixDisplay.from_estimator.\n  warnings.warn(msg, category=FutureWarning)\n",
          "output_type": "stream"
        },
        {
          "output_type": "display_data",
          "data": {
            "text/plain": "<Figure size 432x288 with 2 Axes>",
            "image/png": "[encoded data removed]"
          },
          "metadata": {
            "needs_background": "light"
          }
        }
      ]
    },
    {
      "cell_type": "markdown",
      "source": [
        "### Naieve Bayes"
      ],
      "metadata": {
        "id": "I-iRT2StM31_"
      }
    },
    {
      "cell_type": "code",
      "source": [
        "from sklearn.naive_bayes import GaussianNB\n",
        "from sklearn import tree\n",
        "bounds = ([4.3, 2.0, 1.0, 0.1], [7.9, 4.4, 6.9, 2.5])\n",
        "\n",
        "gnb =   GaussianNB()\n",
        "predictions = gnb.fit(X_train, y_train).predict(X_test)\n",
        "predictions=np.round(predictions)\n",
        "# predictions=np.round(predictions)\n",
        "\n",
        "target_names = ['Nevocytic Nevus', 'Dermatofibroma', 'Pigmented Benign Keratosis', 'Solar Lentigo','Vascular Lesion','Lentigo Nos']\n",
        "print (\"Accuracy:\", ms.accuracy_score(y_test,predictions))\n",
        "print(classification_report(y_test, predictions, target_names=target_names))\n",
        "cf_matrix=plot_confusion_matrix(gnb, X_test, y_test)  \n",
        "\n",
        " \n"
      ],
      "metadata": {
        "execution": {
          "iopub.status.busy": "2022-06-05T07:28:47.152452Z",
          "iopub.execute_input": "2022-06-05T07:28:47.153000Z",
          "iopub.status.idle": "2022-06-05T07:28:47.490016Z",
          "shell.execute_reply.started": "2022-06-05T07:28:47.152962Z",
          "shell.execute_reply": "2022-06-05T07:28:47.489329Z"
        },
        "trusted": true,
        "id": "9L4qf30yM31_",
        "outputId": "9463d577-2d8c-4219-dc78-52097796297b"
      },
      "execution_count": null,
      "outputs": [
        {
          "name": "stdout",
          "text": "Accuracy: 0.6356932153392331\n                            precision    recall  f1-score   support\n\n           Nevocytic Nevus       0.88      1.00      0.94       111\n            Dermatofibroma       0.82      0.32      0.46       104\nPigmented Benign Keratosis       0.54      0.62      0.58       117\n             Solar Lentigo       0.31      0.30      0.30       116\n           Vascular Lesion       0.64      0.55      0.59       114\n               Lentigo Nos       0.70      1.00      0.83       116\n\n                  accuracy                           0.64       678\n                 macro avg       0.65      0.63      0.62       678\n              weighted avg       0.64      0.64      0.62       678\n\n",
          "output_type": "stream"
        },
        {
          "name": "stderr",
          "text": "/opt/conda/lib/python3.7/site-packages/sklearn/utils/deprecation.py:87: FutureWarning: Function plot_confusion_matrix is deprecated; Function `plot_confusion_matrix` is deprecated in 1.0 and will be removed in 1.2. Use one of the class methods: ConfusionMatrixDisplay.from_predictions or ConfusionMatrixDisplay.from_estimator.\n  warnings.warn(msg, category=FutureWarning)\n",
          "output_type": "stream"
        },
        {
          "output_type": "display_data",
          "data": {
            "text/plain": "<Figure size 432x288 with 2 Axes>",
            "image/png": "[encoded data removed]"
          },
          "metadata": {
            "needs_background": "light"
          }
        }
      ]
    },
    {
      "cell_type": "markdown",
      "source": [
        "### Ensemble"
      ],
      "metadata": {
        "id": "mhJruEjKiNcd"
      }
    },
    {
      "cell_type": "code",
      "source": [
        ""
      ],
      "metadata": {
        "id": "8WyCvAFr4mTH"
      },
      "execution_count": null,
      "outputs": []
    },
    {
      "cell_type": "code",
      "source": [
        "\n",
        "clf1 = tree.DecisionTreeClassifier(random_state=0, max_depth=10)\n",
        "clf2 = RandomForestClassifier(n_estimators=30, random_state=77)\n",
        "clf3 = GaussianNB()\n",
        "clf4 = SVC(gamma='auto',C=5.0,degree=5,kernel='rbf')\n",
        "\n",
        "eclf1 = VotingClassifier(estimators=[\n",
        "        ('dt', clf1), ('rf', clf2), ('gnb', clf3),('svc', clf4)], voting='hard')\n",
        "predictions = eclf1.fit(X_train, y_train).predict(X_test)\n",
        "# predictions = eclf1.predict(X_test)\n",
        "predictions=np.round(predictions)\n",
        "\n",
        "target_names = ['Nevocytic Nevus', 'Dermatofibroma', 'Pigmented Benign Keratosis', 'Solar Lentigo','Vascular Lesion','Lentigo Nos']\n",
        "print (\"Accuracy:\", ms.accuracy_score(y_test,predictions))\n",
        "print(classification_report(y_test, predictions, target_names=target_names))\n",
        "cf_matrix=plot_confusion_matrix(eclf1, X_test, y_test)  "
      ],
      "metadata": {
        "execution": {
          "iopub.status.busy": "2022-06-05T07:24:10.034120Z",
          "iopub.execute_input": "2022-06-05T07:24:10.034650Z",
          "iopub.status.idle": "2022-06-05T07:24:10.368947Z",
          "shell.execute_reply.started": "2022-06-05T07:24:10.034612Z",
          "shell.execute_reply": "2022-06-05T07:24:10.368275Z"
        },
        "trusted": true,
        "outputId": "37abe83b-2c11-4340-afd0-31b4fc3f13e1",
        "id": "F_rx7EaP4m50"
      },
      "execution_count": null,
      "outputs": [
        {
          "name": "stdout",
          "text": "Accuracy: 0.9852507374631269\n                            precision    recall  f1-score   support\n\n           Nevocytic Nevus       1.00      1.00      1.00       111\n            Dermatofibroma       0.99      1.00      1.00       104\nPigmented Benign Keratosis       0.96      0.98      0.97       117\n             Solar Lentigo       0.98      0.94      0.96       116\n           Vascular Lesion       0.98      0.99      0.99       114\n               Lentigo Nos       1.00      1.00      1.00       116\n\n                  accuracy                           0.99       678\n                 macro avg       0.99      0.99      0.99       678\n              weighted avg       0.99      0.99      0.99       678\n\n",
          "output_type": "stream"
        },
        {
          "name": "stderr",
          "text": "/opt/conda/lib/python3.7/site-packages/sklearn/utils/deprecation.py:87: FutureWarning: Function plot_confusion_matrix is deprecated; Function `plot_confusion_matrix` is deprecated in 1.0 and will be removed in 1.2. Use one of the class methods: ConfusionMatrixDisplay.from_predictions or ConfusionMatrixDisplay.from_estimator.\n  warnings.warn(msg, category=FutureWarning)\n",
          "output_type": "stream"
        },
        {
          "output_type": "display_data",
          "data": {
            "text/plain": "<Figure size 432x288 with 2 Axes>",
            "image/png": "[encoded data removed]"
          },
          "metadata": {
            "needs_background": "light"
          }
        }
      ]
    },
    {
      "cell_type": "markdown",
      "source": [
        "## **ResNet**"
      ],
      "metadata": {
        "id": "6nmHnfk4M32B"
      }
    },
    {
      "cell_type": "code",
      "source": [
        "\n",
        "df=pd.read_csv('/content/drive/MyDrive/Fiverr/2016_final/Classification/balanced_resnet.csv')\n",
        "df=df.drop(columns=df.columns[0],axis=1)\n",
        "df"
      ],
      "metadata": {
        "colab": {
          "base_uri": "https://localhost:8080/",
          "height": 488
        },
        "id": "J7wTBjv2vaHi",
        "outputId": "4cb582ce-f2fe-468f-e755-8cf6bb52cdc3"
      },
      "execution_count": null,
      "outputs": [
        {
          "output_type": "execute_result",
          "data": {
            "text/plain": [
              "      Feature_1  Feature_2  Feature_3  Feature_4  Feature_5  Feature_6  \\\n",
              "0     -0.946856   0.702601  -1.178935  -0.587335  -0.221977  -0.761492   \n",
              "1      2.230442  -0.755200   1.724320  -0.007976  -0.031534  -0.365587   \n",
              "2      0.184047  -1.177195   0.499509  -0.442495   0.196998   0.624175   \n",
              "3     -0.085216   1.700044  -1.178935   0.571384  -0.107711  -0.761492   \n",
              "4      0.345604  -0.218116   0.227329  -0.949435  -0.374331  -0.464563   \n",
              "...         ...        ...        ...        ...        ...        ...   \n",
              "3005   0.668719  -0.179753   1.452139  -0.442495  -0.964703  -0.860468   \n",
              "3006  -0.462183   3.848382  -1.269661  -0.370075   0.901636  -0.860468   \n",
              "3007  -0.893003   0.913598  -1.269661  -1.021855   3.377392   0.228270   \n",
              "3008   0.830277  -1.215559   1.179959  -0.514915  -0.126755   2.801652   \n",
              "3009   1.045687  -0.525021   0.635599  -0.804595   1.053990   2.009842   \n",
              "\n",
              "      Feature_7  Feature_8  Feature_9  Feature_10  Feature_11  label  \n",
              "0     -0.880601  -0.295159   1.340636   -0.199811   -0.596924      0  \n",
              "1      0.097620   2.082771  -0.892618    0.081284   -0.714945      3  \n",
              "2     -0.374624  -0.551975  -1.010158    0.137503    0.386586      3  \n",
              "3     -0.914333   1.093552   0.929247   -0.986875    0.229224      0  \n",
              "4     -0.273429   0.560896  -0.481229   -0.368467   -1.108349      2  \n",
              "...         ...        ...        ...         ...         ...    ...  \n",
              "3005  -0.644479  -0.366497  -0.128610    1.093224    1.330755      3  \n",
              "3006  -0.981796  -0.884885   1.046786   -1.492845    0.150543      0  \n",
              "3007  -0.307161  -0.908665  -0.011071   -0.874437   -0.714945      0  \n",
              "3008   1.210769  -1.003782  -2.009245   -0.199811    0.858670      5  \n",
              "3009   0.333743   0.808201   0.341548    1.093224   -0.636264      0  \n",
              "\n",
              "[3010 rows x 12 columns]"
            ],
            "text/html": [
              "\n",
              "  <div id=\"df-13eeeca2-23e1-42ac-a321-4adce8f1b039\">\n",
              "    <div class=\"colab-df-container\">\n",
              "      <div>\n",
              "<style scoped>\n",
              "    .dataframe tbody tr th:only-of-type {\n",
              "        vertical-align: middle;\n",
              "    }\n",
              "\n",
              "    .dataframe tbody tr th {\n",
              "        vertical-align: top;\n",
              "    }\n",
              "\n",
              "    .dataframe thead th {\n",
              "        text-align: right;\n",
              "    }\n",
              "</style>\n",
              "<table border=\"1\" class=\"dataframe\">\n",
              "  <thead>\n",
              "    <tr style=\"text-align: right;\">\n",
              "      <th></th>\n",
              "      <th>Feature_1</th>\n",
              "      <th>Feature_2</th>\n",
              "      <th>Feature_3</th>\n",
              "      <th>Feature_4</th>\n",
              "      <th>Feature_5</th>\n",
              "      <th>Feature_6</th>\n",
              "      <th>Feature_7</th>\n",
              "      <th>Feature_8</th>\n",
              "      <th>Feature_9</th>\n",
              "      <th>Feature_10</th>\n",
              "      <th>Feature_11</th>\n",
              "      <th>label</th>\n",
              "    </tr>\n",
              "  </thead>\n",
              "  <tbody>\n",
              "    <tr>\n",
              "      <th>0</th>\n",
              "      <td>-0.946856</td>\n",
              "      <td>0.702601</td>\n",
              "      <td>-1.178935</td>\n",
              "      <td>-0.587335</td>\n",
              "      <td>-0.221977</td>\n",
              "      <td>-0.761492</td>\n",
              "      <td>-0.880601</td>\n",
              "      <td>-0.295159</td>\n",
              "      <td>1.340636</td>\n",
              "      <td>-0.199811</td>\n",
              "      <td>-0.596924</td>\n",
              "      <td>0</td>\n",
              "    </tr>\n",
              "    <tr>\n",
              "      <th>1</th>\n",
              "      <td>2.230442</td>\n",
              "      <td>-0.755200</td>\n",
              "      <td>1.724320</td>\n",
              "      <td>-0.007976</td>\n",
              "      <td>-0.031534</td>\n",
              "      <td>-0.365587</td>\n",
              "      <td>0.097620</td>\n",
              "      <td>2.082771</td>\n",
              "      <td>-0.892618</td>\n",
              "      <td>0.081284</td>\n",
              "      <td>-0.714945</td>\n",
              "      <td>3</td>\n",
              "    </tr>\n",
              "    <tr>\n",
              "      <th>2</th>\n",
              "      <td>0.184047</td>\n",
              "      <td>-1.177195</td>\n",
              "      <td>0.499509</td>\n",
              "      <td>-0.442495</td>\n",
              "      <td>0.196998</td>\n",
              "      <td>0.624175</td>\n",
              "      <td>-0.374624</td>\n",
              "      <td>-0.551975</td>\n",
              "      <td>-1.010158</td>\n",
              "      <td>0.137503</td>\n",
              "      <td>0.386586</td>\n",
              "      <td>3</td>\n",
              "    </tr>\n",
              "    <tr>\n",
              "      <th>3</th>\n",
              "      <td>-0.085216</td>\n",
              "      <td>1.700044</td>\n",
              "      <td>-1.178935</td>\n",
              "      <td>0.571384</td>\n",
              "      <td>-0.107711</td>\n",
              "      <td>-0.761492</td>\n",
              "      <td>-0.914333</td>\n",
              "      <td>1.093552</td>\n",
              "      <td>0.929247</td>\n",
              "      <td>-0.986875</td>\n",
              "      <td>0.229224</td>\n",
              "      <td>0</td>\n",
              "    </tr>\n",
              "    <tr>\n",
              "      <th>4</th>\n",
              "      <td>0.345604</td>\n",
              "      <td>-0.218116</td>\n",
              "      <td>0.227329</td>\n",
              "      <td>-0.949435</td>\n",
              "      <td>-0.374331</td>\n",
              "      <td>-0.464563</td>\n",
              "      <td>-0.273429</td>\n",
              "      <td>0.560896</td>\n",
              "      <td>-0.481229</td>\n",
              "      <td>-0.368467</td>\n",
              "      <td>-1.108349</td>\n",
              "      <td>2</td>\n",
              "    </tr>\n",
              "    <tr>\n",
              "      <th>...</th>\n",
              "      <td>...</td>\n",
              "      <td>...</td>\n",
              "      <td>...</td>\n",
              "      <td>...</td>\n",
              "      <td>...</td>\n",
              "      <td>...</td>\n",
              "      <td>...</td>\n",
              "      <td>...</td>\n",
              "      <td>...</td>\n",
              "      <td>...</td>\n",
              "      <td>...</td>\n",
              "      <td>...</td>\n",
              "    </tr>\n",
              "    <tr>\n",
              "      <th>3005</th>\n",
              "      <td>0.668719</td>\n",
              "      <td>-0.179753</td>\n",
              "      <td>1.452139</td>\n",
              "      <td>-0.442495</td>\n",
              "      <td>-0.964703</td>\n",
              "      <td>-0.860468</td>\n",
              "      <td>-0.644479</td>\n",
              "      <td>-0.366497</td>\n",
              "      <td>-0.128610</td>\n",
              "      <td>1.093224</td>\n",
              "      <td>1.330755</td>\n",
              "      <td>3</td>\n",
              "    </tr>\n",
              "    <tr>\n",
              "      <th>3006</th>\n",
              "      <td>-0.462183</td>\n",
              "      <td>3.848382</td>\n",
              "      <td>-1.269661</td>\n",
              "      <td>-0.370075</td>\n",
              "      <td>0.901636</td>\n",
              "      <td>-0.860468</td>\n",
              "      <td>-0.981796</td>\n",
              "      <td>-0.884885</td>\n",
              "      <td>1.046786</td>\n",
              "      <td>-1.492845</td>\n",
              "      <td>0.150543</td>\n",
              "      <td>0</td>\n",
              "    </tr>\n",
              "    <tr>\n",
              "      <th>3007</th>\n",
              "      <td>-0.893003</td>\n",
              "      <td>0.913598</td>\n",
              "      <td>-1.269661</td>\n",
              "      <td>-1.021855</td>\n",
              "      <td>3.377392</td>\n",
              "      <td>0.228270</td>\n",
              "      <td>-0.307161</td>\n",
              "      <td>-0.908665</td>\n",
              "      <td>-0.011071</td>\n",
              "      <td>-0.874437</td>\n",
              "      <td>-0.714945</td>\n",
              "      <td>0</td>\n",
              "    </tr>\n",
              "    <tr>\n",
              "      <th>3008</th>\n",
              "      <td>0.830277</td>\n",
              "      <td>-1.215559</td>\n",
              "      <td>1.179959</td>\n",
              "      <td>-0.514915</td>\n",
              "      <td>-0.126755</td>\n",
              "      <td>2.801652</td>\n",
              "      <td>1.210769</td>\n",
              "      <td>-1.003782</td>\n",
              "      <td>-2.009245</td>\n",
              "      <td>-0.199811</td>\n",
              "      <td>0.858670</td>\n",
              "      <td>5</td>\n",
              "    </tr>\n",
              "    <tr>\n",
              "      <th>3009</th>\n",
              "      <td>1.045687</td>\n",
              "      <td>-0.525021</td>\n",
              "      <td>0.635599</td>\n",
              "      <td>-0.804595</td>\n",
              "      <td>1.053990</td>\n",
              "      <td>2.009842</td>\n",
              "      <td>0.333743</td>\n",
              "      <td>0.808201</td>\n",
              "      <td>0.341548</td>\n",
              "      <td>1.093224</td>\n",
              "      <td>-0.636264</td>\n",
              "      <td>0</td>\n",
              "    </tr>\n",
              "  </tbody>\n",
              "</table>\n",
              "<p>3010 rows × 12 columns</p>\n",
              "</div>\n",
              "      <button class=\"colab-df-convert\" onclick=\"convertToInteractive('df-13eeeca2-23e1-42ac-a321-4adce8f1b039')\"\n",
              "              title=\"Convert this dataframe to an interactive table.\"\n",
              "              style=\"display:none;\">\n",
              "        \n",
              "  <svg xmlns=\"http://www.w3.org/2000/svg\" height=\"24px\"viewBox=\"0 0 24 24\"\n",
              "       width=\"24px\">\n",
              "    <path d=\"M0 0h24v24H0V0z\" fill=\"none\"/>\n",
              "    <path d=\"M18.56 5.44l.94 2.06.94-2.06 2.06-.94-2.06-.94-.94-2.06-.94 2.06-2.06.94zm-11 1L8.5 8.5l.94-2.06 2.06-.94-2.06-.94L8.5 2.5l-.94 2.06-2.06.94zm10 10l.94 2.06.94-2.06 2.06-.94-2.06-.94-.94-2.06-.94 2.06-2.06.94z\"/><path d=\"M17.41 7.96l-1.37-1.37c-.4-.4-.92-.59-1.43-.59-.52 0-1.04.2-1.43.59L10.3 9.45l-7.72 7.72c-.78.78-.78 2.05 0 2.83L4 21.41c.39.39.9.59 1.41.59.51 0 1.02-.2 1.41-.59l7.78-7.78 2.81-2.81c.8-.78.8-2.07 0-2.86zM5.41 20L4 18.59l7.72-7.72 1.47 1.35L5.41 20z\"/>\n",
              "  </svg>\n",
              "      </button>\n",
              "      \n",
              "  <style>\n",
              "    .colab-df-container {\n",
              "      display:flex;\n",
              "      flex-wrap:wrap;\n",
              "      gap: 12px;\n",
              "    }\n",
              "\n",
              "    .colab-df-convert {\n",
              "      background-color: #E8F0FE;\n",
              "      border: none;\n",
              "      border-radius: 50%;\n",
              "      cursor: pointer;\n",
              "      display: none;\n",
              "      fill: #1967D2;\n",
              "      height: 32px;\n",
              "      padding: 0 0 0 0;\n",
              "      width: 32px;\n",
              "    }\n",
              "\n",
              "    .colab-df-convert:hover {\n",
              "      background-color: #E2EBFA;\n",
              "      box-shadow: 0px 1px 2px rgba(60, 64, 67, 0.3), 0px 1px 3px 1px rgba(60, 64, 67, 0.15);\n",
              "      fill: #174EA6;\n",
              "    }\n",
              "\n",
              "    [theme=dark] .colab-df-convert {\n",
              "      background-color: #3B4455;\n",
              "      fill: #D2E3FC;\n",
              "    }\n",
              "\n",
              "    [theme=dark] .colab-df-convert:hover {\n",
              "      background-color: #434B5C;\n",
              "      box-shadow: 0px 1px 3px 1px rgba(0, 0, 0, 0.15);\n",
              "      filter: drop-shadow(0px 1px 2px rgba(0, 0, 0, 0.3));\n",
              "      fill: #FFFFFF;\n",
              "    }\n",
              "  </style>\n",
              "\n",
              "      <script>\n",
              "        const buttonEl =\n",
              "          document.querySelector('#df-13eeeca2-23e1-42ac-a321-4adce8f1b039 button.colab-df-convert');\n",
              "        buttonEl.style.display =\n",
              "          google.colab.kernel.accessAllowed ? 'block' : 'none';\n",
              "\n",
              "        async function convertToInteractive(key) {\n",
              "          const element = document.querySelector('#df-13eeeca2-23e1-42ac-a321-4adce8f1b039');\n",
              "          const dataTable =\n",
              "            await google.colab.kernel.invokeFunction('convertToInteractive',\n",
              "                                                     [key], {});\n",
              "          if (!dataTable) return;\n",
              "\n",
              "          const docLinkHtml = 'Like what you see? Visit the ' +\n",
              "            '<a target=\"_blank\" href=https://colab.research.google.com/notebooks/data_table.ipynb>data table notebook</a>'\n",
              "            + ' to learn more about interactive tables.';\n",
              "          element.innerHTML = '';\n",
              "          dataTable['output_type'] = 'display_data';\n",
              "          await google.colab.output.renderOutput(dataTable, element);\n",
              "          const docLink = document.createElement('div');\n",
              "          docLink.innerHTML = docLinkHtml;\n",
              "          element.appendChild(docLink);\n",
              "        }\n",
              "      </script>\n",
              "    </div>\n",
              "  </div>\n",
              "  "
            ]
          },
          "metadata": {},
          "execution_count": 191
        }
      ]
    },
    {
      "cell_type": "code",
      "source": [
        ""
      ],
      "metadata": {
        "id": "SUJ1x9iH0yuC"
      },
      "execution_count": null,
      "outputs": []
    },
    {
      "cell_type": "code",
      "source": [
        "import numpy as np\n",
        "import matplotlib.pyplot as plt\n",
        "# creating the dataset\n",
        "data = {'Nevocytic Nevus':df.groupby('quality').size()[0], 'Dermatofibroma':df.groupby('quality').size()[1], 'Pigmented Benign Keratosis':df.groupby('quality').size()[2],\n",
        "\t\t'Solar Lentigo':df.groupby('quality').size()[3],'Vascular Lesion':df.groupby('quality').size()[4],'Lentigo Nos':df.groupby('quality').size()[5]}\n",
        "courses = list(data.keys())\n",
        "values = list(data.values())\n",
        "\n",
        "fig = plt.figure(figsize = (6, 4))\n",
        "\n",
        "# creating the bar plot\n",
        "plt.bar(courses, values, color =['coral','gold','seagreen','lightcoral','dodgerblue','violet'],\n",
        "\t\twidth = 0.7)\n",
        "plt.xticks(rotation=75)\n",
        "plt.xlabel(\"Diseases\")\n",
        "plt.ylabel(\"No. of instances\")\n",
        "# plt.title(\"\")\n",
        "plt.yticks(  rotation='vertical')\n",
        "plt.show()\n"
      ],
      "metadata": {
        "colab": {
          "base_uri": "https://localhost:8080/",
          "height": 408
        },
        "outputId": "e2e48d7a-2f11-47ed-f84b-f1d09657fb6e",
        "id": "sUznGxS-0zSn"
      },
      "execution_count": null,
      "outputs": [
        {
          "output_type": "display_data",
          "data": {
            "text/plain": [
              "<Figure size 432x288 with 1 Axes>"
            ],
            "image/png": "[encoded data removed]"
          },
          "metadata": {
            "needs_background": "light"
          }
        }
      ]
    },
    {
      "cell_type": "code",
      "source": [
        "label_resnet=df['label']\n",
        "df_resnet_bal = df.drop('label', axis = 1).values"
      ],
      "metadata": {
        "id": "X88gQUgG176R"
      },
      "execution_count": null,
      "outputs": []
    },
    {
      "cell_type": "code",
      "source": [
        "from sklearn.model_selection import train_test_split\n",
        "\n",
        "X_train, X_test, y_train, y_test = train_test_split(df_resnet_bal, label_resnet ,\n",
        "                                                    test_size=0.225, random_state=44)\n",
        "\n",
        "print('Training on ',X_train.shape[0],' images')\n",
        "print('Testing on ',X_test.shape[0],' images')\n",
        "\n",
        "\n",
        " "
      ],
      "metadata": {
        "execution": {
          "iopub.status.busy": "2022-06-05T07:08:11.433052Z",
          "iopub.execute_input": "2022-06-05T07:08:11.433304Z",
          "iopub.status.idle": "2022-06-05T07:08:11.443123Z",
          "shell.execute_reply.started": "2022-06-05T07:08:11.433276Z",
          "shell.execute_reply": "2022-06-05T07:08:11.442228Z"
        },
        "trusted": true,
        "id": "C7S3U-cHM32C",
        "outputId": "70d37d80-b111-4ccf-e848-793cf58ffc02"
      },
      "execution_count": null,
      "outputs": [
        {
          "name": "stdout",
          "text": "Training on  2332  images\nTesting on  678  images\n",
          "output_type": "stream"
        }
      ]
    },
    {
      "cell_type": "markdown",
      "source": [
        "### RF"
      ],
      "metadata": {
        "id": "a_0mq2pdM32D"
      }
    },
    {
      "cell_type": "code",
      "source": [
        "\n",
        "rf = RandomForestClassifier(n_estimators=30,random_state=77)\n",
        "rf.fit(X_train, y_train)\n",
        "predictions = rf.predict(X_test )\n",
        "predictions=np.round(predictions)\n",
        "\n",
        "target_names = ['Nevocytic Nevus', 'Dermatofibroma', 'Pigmented Benign Keratosis', 'Solar Lentigo','Vascular Lesion','Lentigo Nos']\n",
        "print (\"Accuracy:\", ms.accuracy_score(y_test,predictions))\n",
        "print(classification_report(y_test, predictions, target_names=target_names))\n",
        "cf_matrix=plot_confusion_matrix(rf, X_test, y_test)  \n",
        " "
      ],
      "metadata": {
        "execution": {
          "iopub.status.busy": "2022-06-05T07:33:28.285023Z",
          "iopub.execute_input": "2022-06-05T07:33:28.285280Z",
          "iopub.status.idle": "2022-06-05T07:33:28.605668Z",
          "shell.execute_reply.started": "2022-06-05T07:33:28.285251Z",
          "shell.execute_reply": "2022-06-05T07:33:28.604996Z"
        },
        "trusted": true,
        "outputId": "32235a25-c487-42fd-f809-2657bdcc683d",
        "id": "y4MCGYxK5RYb"
      },
      "execution_count": null,
      "outputs": [
        {
          "name": "stdout",
          "text": "Accuracy: 0.9100294985250738\n                            precision    recall  f1-score   support\n\n           Nevocytic Nevus       0.98      1.00      0.99       111\n            Dermatofibroma       0.87      1.00      0.93       104\nPigmented Benign Keratosis       0.91      0.82      0.86       117\n             Solar Lentigo       0.81      0.84      0.82       116\n           Vascular Lesion       0.93      0.82      0.87       114\n               Lentigo Nos       0.96      1.00      0.98       116\n\n                  accuracy                           0.91       678\n                 macro avg       0.91      0.91      0.91       678\n              weighted avg       0.91      0.91      0.91       678\n\n",
          "output_type": "stream"
        },
        {
          "name": "stderr",
          "text": "/opt/conda/lib/python3.7/site-packages/sklearn/utils/deprecation.py:87: FutureWarning: Function plot_confusion_matrix is deprecated; Function `plot_confusion_matrix` is deprecated in 1.0 and will be removed in 1.2. Use one of the class methods: ConfusionMatrixDisplay.from_predictions or ConfusionMatrixDisplay.from_estimator.\n  warnings.warn(msg, category=FutureWarning)\n",
          "output_type": "stream"
        },
        {
          "output_type": "display_data",
          "data": {
            "text/plain": "<Figure size 432x288 with 2 Axes>",
            "image/png": "[encoded data removed]"
          },
          "metadata": {
            "needs_background": "light"
          }
        }
      ]
    },
    {
      "cell_type": "markdown",
      "source": [
        "### SVC"
      ],
      "metadata": {
        "id": "tmrEYYSLM32F"
      }
    },
    {
      "cell_type": "code",
      "source": [
        "from sklearn.metrics import confusion_matrix\n",
        "from sklearn.metrics import plot_confusion_matrix\n",
        "from sklearn.svm import SVC\n",
        "svc= SVC(gamma='auto',C=4.0,degree=5,kernel='rbf')\n",
        " \n",
        "svc.fit(X_train, y_train)\n",
        "predictions = svc.predict(X_test )\n",
        "predictions=np.round(predictions)\n",
        "\n",
        "\n",
        "target_names = ['Nevocytic Nevus', 'Dermatofibroma', 'Pigmented Benign Keratosis', 'Solar Lentigo','Vascular Lesion','Lentigo Nos']\n",
        "print (\"Accuracy:\", ms.accuracy_score(y_test,predictions))\n",
        "print(classification_report(y_test, predictions, target_names=target_names))\n",
        "cf_matrix=plot_confusion_matrix(svc, X_test, y_test)  "
      ],
      "metadata": {
        "execution": {
          "iopub.status.busy": "2022-06-05T07:32:45.861503Z",
          "iopub.execute_input": "2022-06-05T07:32:45.862247Z",
          "iopub.status.idle": "2022-06-05T07:32:46.473176Z",
          "shell.execute_reply.started": "2022-06-05T07:32:45.862209Z",
          "shell.execute_reply": "2022-06-05T07:32:46.472489Z"
        },
        "trusted": true,
        "id": "36un51XgM32G",
        "outputId": "b781d580-d6d5-48fe-88a6-cda28625b27b"
      },
      "execution_count": null,
      "outputs": [
        {
          "name": "stdout",
          "text": "Accuracy: 0.8466076696165191\n                            precision    recall  f1-score   support\n\n           Nevocytic Nevus       0.98      1.00      0.99       111\n            Dermatofibroma       0.85      0.94      0.89       104\nPigmented Benign Keratosis       0.80      0.70      0.75       117\n             Solar Lentigo       0.64      0.70      0.67       116\n           Vascular Lesion       0.91      0.75      0.82       114\n               Lentigo Nos       0.93      1.00      0.96       116\n\n                  accuracy                           0.85       678\n                 macro avg       0.85      0.85      0.85       678\n              weighted avg       0.85      0.85      0.85       678\n\n",
          "output_type": "stream"
        },
        {
          "name": "stderr",
          "text": "/opt/conda/lib/python3.7/site-packages/sklearn/utils/deprecation.py:87: FutureWarning: Function plot_confusion_matrix is deprecated; Function `plot_confusion_matrix` is deprecated in 1.0 and will be removed in 1.2. Use one of the class methods: ConfusionMatrixDisplay.from_predictions or ConfusionMatrixDisplay.from_estimator.\n  warnings.warn(msg, category=FutureWarning)\n",
          "output_type": "stream"
        },
        {
          "output_type": "display_data",
          "data": {
            "text/plain": "<Figure size 432x288 with 2 Axes>",
            "image/png": "[encoded data removed]"
          },
          "metadata": {
            "needs_background": "light"
          }
        }
      ]
    },
    {
      "cell_type": "markdown",
      "source": [
        "### Decision Tree"
      ],
      "metadata": {
        "id": "r-XR9MUmM32I"
      }
    },
    {
      "cell_type": "code",
      "source": [
        ""
      ],
      "metadata": {
        "id": "K0M3Gn_F56ep"
      },
      "execution_count": null,
      "outputs": []
    },
    {
      "cell_type": "code",
      "source": [
        ""
      ],
      "metadata": {
        "id": "XhwDBvDv1mI6"
      },
      "execution_count": null,
      "outputs": []
    },
    {
      "cell_type": "code",
      "source": [
        "\n",
        "from sklearn import tree\n",
        "dt =  tree.DecisionTreeClassifier(random_state=0, max_depth=10)\n",
        "predictions = dt.fit(X_train, y_train).predict(X_test)\n",
        "predictions=np.round(predictions)\n",
        "\n",
        " \n",
        "predictions = dt.predict(X_test )\n",
        "predictions=np.round(predictions)\n",
        "\n",
        "\n",
        "target_names = ['Nevocytic Nevus', 'Dermatofibroma', 'Pigmented Benign Keratosis', 'Solar Lentigo','Vascular Lesion','Lentigo Nos']\n",
        "print (\"Accuracy:\", ms.accuracy_score(y_test,predictions))\n",
        "print(classification_report(y_test, predictions, target_names=target_names))\n",
        "cf_matrix=plot_confusion_matrix(dt, X_test, y_test)  "
      ],
      "metadata": {
        "colab": {
          "base_uri": "https://localhost:8080/",
          "height": 577
        },
        "id": "NvjFFJ-4kLiM",
        "outputId": "7885acf1-35a4-4889-f5d2-cb05956e8927"
      },
      "execution_count": null,
      "outputs": [
        {
          "output_type": "stream",
          "name": "stdout",
          "text": [
            "Accuracy: 0.8938053097345132\n",
            "                            precision    recall  f1-score   support\n",
            "\n",
            "           Nevocytic Nevus       0.87      1.00      0.93       103\n",
            "            Dermatofibroma       0.90      0.89      0.89       108\n",
            "Pigmented Benign Keratosis       0.90      0.81      0.85       112\n",
            "             Solar Lentigo       0.78      0.90      0.83       119\n",
            "           Vascular Lesion       0.99      0.78      0.87       121\n",
            "               Lentigo Nos       0.97      1.00      0.98       115\n",
            "\n",
            "                  accuracy                           0.89       678\n",
            "                 macro avg       0.90      0.90      0.89       678\n",
            "              weighted avg       0.90      0.89      0.89       678\n",
            "\n"
          ]
        },
        {
          "output_type": "stream",
          "name": "stderr",
          "text": [
            "/usr/local/lib/python3.7/dist-packages/sklearn/utils/deprecation.py:87: FutureWarning: Function plot_confusion_matrix is deprecated; Function `plot_confusion_matrix` is deprecated in 1.0 and will be removed in 1.2. Use one of the class methods: ConfusionMatrixDisplay.from_predictions or ConfusionMatrixDisplay.from_estimator.\n",
            "  warnings.warn(msg, category=FutureWarning)\n"
          ]
        },
        {
          "output_type": "display_data",
          "data": {
            "text/plain": [
              "<Figure size 432x288 with 2 Axes>"
            ],
            "image/png": "[encoded data removed]"
          },
          "metadata": {
            "needs_background": "light"
          }
        }
      ]
    },
    {
      "cell_type": "markdown",
      "source": [
        "### Naieve Bayes"
      ],
      "metadata": {
        "id": "bf80wvlgM32K"
      }
    },
    {
      "cell_type": "code",
      "source": [
        "from sklearn.naive_bayes import GaussianNB\n",
        "from sklearn import tree\n",
        "bounds = ([4.3, 2.0, 1.0, 0.1], [7.9, 4.4, 6.9, 2.5])\n",
        "\n",
        "gnb =   GaussianNB()\n",
        "predictions = gnb.fit(X_train, y_train).predict(X_test)\n",
        "predictions=np.round(predictions)\n",
        "# predictions=np.round(predictions)\n",
        "\n",
        "target_names = ['Nevocytic Nevus', 'Dermatofibroma', 'Pigmented Benign Keratosis', 'Solar Lentigo','Vascular Lesion','Lentigo Nos']\n",
        "print (\"Accuracy:\", ms.accuracy_score(y_test,predictions))\n",
        "print(classification_report(y_test, predictions, target_names=target_names))\n",
        "cf_matrix=plot_confusion_matrix(gnb, X_test, y_test)  \n",
        "\n"
      ],
      "metadata": {
        "execution": {
          "iopub.status.busy": "2022-06-05T07:36:24.746970Z",
          "iopub.execute_input": "2022-06-05T07:36:24.747233Z",
          "iopub.status.idle": "2022-06-05T07:36:25.079808Z",
          "shell.execute_reply.started": "2022-06-05T07:36:24.747203Z",
          "shell.execute_reply": "2022-06-05T07:36:25.079148Z"
        },
        "trusted": true,
        "id": "aqcwLY6bM32L",
        "outputId": "287b5446-d55e-4a1b-f939-e6b5eeccbfe4"
      },
      "execution_count": null,
      "outputs": [
        {
          "name": "stdout",
          "text": "Accuracy: 0.5693215339233039\n                            precision    recall  f1-score   support\n\n           Nevocytic Nevus       0.83      0.90      0.86       111\n            Dermatofibroma       0.62      0.23      0.34       104\nPigmented Benign Keratosis       0.50      0.63      0.56       117\n             Solar Lentigo       0.26      0.23      0.25       116\n           Vascular Lesion       0.56      0.46      0.50       114\n               Lentigo Nos       0.63      0.94      0.75       116\n\n                  accuracy                           0.57       678\n                 macro avg       0.57      0.57      0.54       678\n              weighted avg       0.56      0.57      0.54       678\n\n",
          "output_type": "stream"
        },
        {
          "name": "stderr",
          "text": "/opt/conda/lib/python3.7/site-packages/sklearn/utils/deprecation.py:87: FutureWarning: Function plot_confusion_matrix is deprecated; Function `plot_confusion_matrix` is deprecated in 1.0 and will be removed in 1.2. Use one of the class methods: ConfusionMatrixDisplay.from_predictions or ConfusionMatrixDisplay.from_estimator.\n  warnings.warn(msg, category=FutureWarning)\n",
          "output_type": "stream"
        },
        {
          "output_type": "display_data",
          "data": {
            "text/plain": "<Figure size 432x288 with 2 Axes>",
            "image/png": "[encoded data removed]"
          },
          "metadata": {
            "needs_background": "light"
          }
        }
      ]
    },
    {
      "cell_type": "markdown",
      "source": [
        "### Ensemble"
      ],
      "metadata": {
        "id": "OJJgUM1KkJDB"
      }
    },
    {
      "cell_type": "code",
      "source": [
        ""
      ],
      "metadata": {
        "id": "smNmytLH5sxA"
      },
      "execution_count": null,
      "outputs": []
    },
    {
      "cell_type": "code",
      "source": [
        "\n",
        "clf1 = tree.DecisionTreeClassifier(random_state=0, max_depth=10)\n",
        "clf2 = RandomForestClassifier(n_estimators=30, random_state=77)\n",
        "clf3 = GaussianNB()\n",
        "clf4 = SVC(gamma='auto',C=5.0,degree=5,kernel='rbf')\n",
        "\n",
        "eclf1 = VotingClassifier(estimators=[\n",
        "        ('dt', clf1), ('rf', clf2), ('gnb', clf3),('svc', clf4)], voting='hard')\n",
        "predictions = eclf1.fit(X_train, y_train).predict(X_test)\n",
        "# predictions = eclf1.predict(X_test)\n",
        "predictions=np.round(predictions)\n",
        "\n",
        "target_names = ['Nevocytic Nevus', 'Dermatofibroma', 'Pigmented Benign Keratosis', 'Solar Lentigo','Vascular Lesion','Lentigo Nos']\n",
        "print (\"Accuracy:\", ms.accuracy_score(y_test,predictions))\n",
        "print(classification_report(y_test, predictions, target_names=target_names))\n",
        "cf_matrix=plot_confusion_matrix(eclf1, X_test, y_test)  "
      ],
      "metadata": {
        "execution": {
          "iopub.status.busy": "2022-06-05T07:40:50.358062Z",
          "iopub.execute_input": "2022-06-05T07:40:50.358323Z",
          "iopub.status.idle": "2022-06-05T07:40:50.689293Z",
          "shell.execute_reply.started": "2022-06-05T07:40:50.358293Z",
          "shell.execute_reply": "2022-06-05T07:40:50.688479Z"
        },
        "trusted": true,
        "id": "Gct207bHM32Q",
        "outputId": "a1aecd00-458e-42f6-8b12-b6ccf9c63ea5"
      },
      "execution_count": null,
      "outputs": [
        {
          "name": "stdout",
          "text": "Accuracy: 0.9601769911504425\n                            precision    recall  f1-score   support\n\n           Nevocytic Nevus       0.98      1.00      0.99       111\n            Dermatofibroma       0.93      1.00      0.96       104\nPigmented Benign Keratosis       0.95      0.88      0.92       117\n             Solar Lentigo       0.95      0.91      0.93       116\n           Vascular Lesion       0.95      0.98      0.97       114\n               Lentigo Nos       1.00      1.00      1.00       116\n\n                  accuracy                           0.96       678\n                 macro avg       0.96      0.96      0.96       678\n              weighted avg       0.96      0.96      0.96       678\n\n",
          "output_type": "stream"
        },
        {
          "name": "stderr",
          "text": "/opt/conda/lib/python3.7/site-packages/sklearn/utils/deprecation.py:87: FutureWarning: Function plot_confusion_matrix is deprecated; Function `plot_confusion_matrix` is deprecated in 1.0 and will be removed in 1.2. Use one of the class methods: ConfusionMatrixDisplay.from_predictions or ConfusionMatrixDisplay.from_estimator.\n  warnings.warn(msg, category=FutureWarning)\n",
          "output_type": "stream"
        },
        {
          "output_type": "display_data",
          "data": {
            "text/plain": "<Figure size 432x288 with 2 Axes>",
            "image/png": "[encoded data removed]"
          },
          "metadata": {
            "needs_background": "light"
          }
        }
      ]
    },
    {
      "cell_type": "markdown",
      "source": [
        "## **SegNet**"
      ],
      "metadata": {
        "id": "4MsLryzQM32M"
      }
    },
    {
      "cell_type": "code",
      "source": [
        "\n",
        "df=pd.read_csv('/content/drive/MyDrive/Fiverr/2016_final/Classification/balanced_segnet.csv')\n",
        "df=df.drop(columns=df.columns[0],axis=1)\n",
        "df"
      ],
      "metadata": {
        "colab": {
          "base_uri": "https://localhost:8080/",
          "height": 488
        },
        "id": "iAvkUvbSvfpU",
        "outputId": "bfaf5903-38eb-4bab-bb8b-321f9a77c328"
      },
      "execution_count": null,
      "outputs": [
        {
          "output_type": "execute_result",
          "data": {
            "text/plain": [
              "      Feature_1  Feature_2  Feature_3  Feature_4  Feature_5  Feature_6  \\\n",
              "0      1.799622  -1.215559   1.089233  -0.587335  -0.355287  -0.761492   \n",
              "1     -0.677593  -0.755200   0.136602  -0.442495  -0.640951   0.129294   \n",
              "2     -0.785298  -0.563384   0.091239  -0.442495  -0.088667  -0.761492   \n",
              "3     -0.031363   0.050427   0.045876  -0.007976   0.368396   1.712913   \n",
              "4     -0.516036   2.064494  -0.816028   0.354124  -0.069622  -0.860468   \n",
              "...         ...        ...        ...        ...        ...        ...   \n",
              "3005  -0.623741  -0.103026  -1.133571  -0.732175  -0.336242   0.327246   \n",
              "3006  -1.000708   1.009506  -1.133571  -0.225236  -0.583818   1.811890   \n",
              "3007  -1.862348  -0.601748  -0.180941  -0.442495  -0.564774   0.525199   \n",
              "3008   2.230442  -1.023743   1.996500  -0.297655  -0.336242  -0.761492   \n",
              "3009  -1.108413  -0.026300  -1.178935  -0.587335  -0.431464  -0.959445   \n",
              "\n",
              "      Feature_7  Feature_8  Feature_9  Feature_10  Feature_11  label  \n",
              "0     -0.948064   0.085310  -0.716309    0.306160   -0.400222      4  \n",
              "1     -0.307161  -0.903909  -0.539999    0.531035    0.465266      5  \n",
              "2      0.030157  -1.503147   0.047699   -1.155532    0.937351      3  \n",
              "3      2.728698   0.660769  -1.010158   -0.930656   -1.265710      2  \n",
              "4     -0.880601  -0.390276   1.281866   -0.368467    0.386586      1  \n",
              "...         ...        ...        ...         ...         ...    ...  \n",
              "3005   0.131352  -0.485393   0.282779   -1.043094   -1.344391      1  \n",
              "3006   0.333743  -0.675628   1.164326   -0.593343    1.252074      4  \n",
              "3007   0.401206  -2.340179   2.339723    0.418597    2.589647      5  \n",
              "3008  -0.307161   0.988923  -2.596943    0.868348   -0.714945      5  \n",
              "3009  -0.914333   0.180427   0.811707    0.081284   -0.950987      2  \n",
              "\n",
              "[3010 rows x 12 columns]"
            ],
            "text/html": [
              "\n",
              "  <div id=\"df-2df633e2-4e22-4650-abbf-f37029da02f8\">\n",
              "    <div class=\"colab-df-container\">\n",
              "      <div>\n",
              "<style scoped>\n",
              "    .dataframe tbody tr th:only-of-type {\n",
              "        vertical-align: middle;\n",
              "    }\n",
              "\n",
              "    .dataframe tbody tr th {\n",
              "        vertical-align: top;\n",
              "    }\n",
              "\n",
              "    .dataframe thead th {\n",
              "        text-align: right;\n",
              "    }\n",
              "</style>\n",
              "<table border=\"1\" class=\"dataframe\">\n",
              "  <thead>\n",
              "    <tr style=\"text-align: right;\">\n",
              "      <th></th>\n",
              "      <th>Feature_1</th>\n",
              "      <th>Feature_2</th>\n",
              "      <th>Feature_3</th>\n",
              "      <th>Feature_4</th>\n",
              "      <th>Feature_5</th>\n",
              "      <th>Feature_6</th>\n",
              "      <th>Feature_7</th>\n",
              "      <th>Feature_8</th>\n",
              "      <th>Feature_9</th>\n",
              "      <th>Feature_10</th>\n",
              "      <th>Feature_11</th>\n",
              "      <th>label</th>\n",
              "    </tr>\n",
              "  </thead>\n",
              "  <tbody>\n",
              "    <tr>\n",
              "      <th>0</th>\n",
              "      <td>1.799622</td>\n",
              "      <td>-1.215559</td>\n",
              "      <td>1.089233</td>\n",
              "      <td>-0.587335</td>\n",
              "      <td>-0.355287</td>\n",
              "      <td>-0.761492</td>\n",
              "      <td>-0.948064</td>\n",
              "      <td>0.085310</td>\n",
              "      <td>-0.716309</td>\n",
              "      <td>0.306160</td>\n",
              "      <td>-0.400222</td>\n",
              "      <td>4</td>\n",
              "    </tr>\n",
              "    <tr>\n",
              "      <th>1</th>\n",
              "      <td>-0.677593</td>\n",
              "      <td>-0.755200</td>\n",
              "      <td>0.136602</td>\n",
              "      <td>-0.442495</td>\n",
              "      <td>-0.640951</td>\n",
              "      <td>0.129294</td>\n",
              "      <td>-0.307161</td>\n",
              "      <td>-0.903909</td>\n",
              "      <td>-0.539999</td>\n",
              "      <td>0.531035</td>\n",
              "      <td>0.465266</td>\n",
              "      <td>5</td>\n",
              "    </tr>\n",
              "    <tr>\n",
              "      <th>2</th>\n",
              "      <td>-0.785298</td>\n",
              "      <td>-0.563384</td>\n",
              "      <td>0.091239</td>\n",
              "      <td>-0.442495</td>\n",
              "      <td>-0.088667</td>\n",
              "      <td>-0.761492</td>\n",
              "      <td>0.030157</td>\n",
              "      <td>-1.503147</td>\n",
              "      <td>0.047699</td>\n",
              "      <td>-1.155532</td>\n",
              "      <td>0.937351</td>\n",
              "      <td>3</td>\n",
              "    </tr>\n",
              "    <tr>\n",
              "      <th>3</th>\n",
              "      <td>-0.031363</td>\n",
              "      <td>0.050427</td>\n",
              "      <td>0.045876</td>\n",
              "      <td>-0.007976</td>\n",
              "      <td>0.368396</td>\n",
              "      <td>1.712913</td>\n",
              "      <td>2.728698</td>\n",
              "      <td>0.660769</td>\n",
              "      <td>-1.010158</td>\n",
              "      <td>-0.930656</td>\n",
              "      <td>-1.265710</td>\n",
              "      <td>2</td>\n",
              "    </tr>\n",
              "    <tr>\n",
              "      <th>4</th>\n",
              "      <td>-0.516036</td>\n",
              "      <td>2.064494</td>\n",
              "      <td>-0.816028</td>\n",
              "      <td>0.354124</td>\n",
              "      <td>-0.069622</td>\n",
              "      <td>-0.860468</td>\n",
              "      <td>-0.880601</td>\n",
              "      <td>-0.390276</td>\n",
              "      <td>1.281866</td>\n",
              "      <td>-0.368467</td>\n",
              "      <td>0.386586</td>\n",
              "      <td>1</td>\n",
              "    </tr>\n",
              "    <tr>\n",
              "      <th>...</th>\n",
              "      <td>...</td>\n",
              "      <td>...</td>\n",
              "      <td>...</td>\n",
              "      <td>...</td>\n",
              "      <td>...</td>\n",
              "      <td>...</td>\n",
              "      <td>...</td>\n",
              "      <td>...</td>\n",
              "      <td>...</td>\n",
              "      <td>...</td>\n",
              "      <td>...</td>\n",
              "      <td>...</td>\n",
              "    </tr>\n",
              "    <tr>\n",
              "      <th>3005</th>\n",
              "      <td>-0.623741</td>\n",
              "      <td>-0.103026</td>\n",
              "      <td>-1.133571</td>\n",
              "      <td>-0.732175</td>\n",
              "      <td>-0.336242</td>\n",
              "      <td>0.327246</td>\n",
              "      <td>0.131352</td>\n",
              "      <td>-0.485393</td>\n",
              "      <td>0.282779</td>\n",
              "      <td>-1.043094</td>\n",
              "      <td>-1.344391</td>\n",
              "      <td>1</td>\n",
              "    </tr>\n",
              "    <tr>\n",
              "      <th>3006</th>\n",
              "      <td>-1.000708</td>\n",
              "      <td>1.009506</td>\n",
              "      <td>-1.133571</td>\n",
              "      <td>-0.225236</td>\n",
              "      <td>-0.583818</td>\n",
              "      <td>1.811890</td>\n",
              "      <td>0.333743</td>\n",
              "      <td>-0.675628</td>\n",
              "      <td>1.164326</td>\n",
              "      <td>-0.593343</td>\n",
              "      <td>1.252074</td>\n",
              "      <td>4</td>\n",
              "    </tr>\n",
              "    <tr>\n",
              "      <th>3007</th>\n",
              "      <td>-1.862348</td>\n",
              "      <td>-0.601748</td>\n",
              "      <td>-0.180941</td>\n",
              "      <td>-0.442495</td>\n",
              "      <td>-0.564774</td>\n",
              "      <td>0.525199</td>\n",
              "      <td>0.401206</td>\n",
              "      <td>-2.340179</td>\n",
              "      <td>2.339723</td>\n",
              "      <td>0.418597</td>\n",
              "      <td>2.589647</td>\n",
              "      <td>5</td>\n",
              "    </tr>\n",
              "    <tr>\n",
              "      <th>3008</th>\n",
              "      <td>2.230442</td>\n",
              "      <td>-1.023743</td>\n",
              "      <td>1.996500</td>\n",
              "      <td>-0.297655</td>\n",
              "      <td>-0.336242</td>\n",
              "      <td>-0.761492</td>\n",
              "      <td>-0.307161</td>\n",
              "      <td>0.988923</td>\n",
              "      <td>-2.596943</td>\n",
              "      <td>0.868348</td>\n",
              "      <td>-0.714945</td>\n",
              "      <td>5</td>\n",
              "    </tr>\n",
              "    <tr>\n",
              "      <th>3009</th>\n",
              "      <td>-1.108413</td>\n",
              "      <td>-0.026300</td>\n",
              "      <td>-1.178935</td>\n",
              "      <td>-0.587335</td>\n",
              "      <td>-0.431464</td>\n",
              "      <td>-0.959445</td>\n",
              "      <td>-0.914333</td>\n",
              "      <td>0.180427</td>\n",
              "      <td>0.811707</td>\n",
              "      <td>0.081284</td>\n",
              "      <td>-0.950987</td>\n",
              "      <td>2</td>\n",
              "    </tr>\n",
              "  </tbody>\n",
              "</table>\n",
              "<p>3010 rows × 12 columns</p>\n",
              "</div>\n",
              "      <button class=\"colab-df-convert\" onclick=\"convertToInteractive('df-2df633e2-4e22-4650-abbf-f37029da02f8')\"\n",
              "              title=\"Convert this dataframe to an interactive table.\"\n",
              "              style=\"display:none;\">\n",
              "        \n",
              "  <svg xmlns=\"http://www.w3.org/2000/svg\" height=\"24px\"viewBox=\"0 0 24 24\"\n",
              "       width=\"24px\">\n",
              "    <path d=\"M0 0h24v24H0V0z\" fill=\"none\"/>\n",
              "    <path d=\"M18.56 5.44l.94 2.06.94-2.06 2.06-.94-2.06-.94-.94-2.06-.94 2.06-2.06.94zm-11 1L8.5 8.5l.94-2.06 2.06-.94-2.06-.94L8.5 2.5l-.94 2.06-2.06.94zm10 10l.94 2.06.94-2.06 2.06-.94-2.06-.94-.94-2.06-.94 2.06-2.06.94z\"/><path d=\"M17.41 7.96l-1.37-1.37c-.4-.4-.92-.59-1.43-.59-.52 0-1.04.2-1.43.59L10.3 9.45l-7.72 7.72c-.78.78-.78 2.05 0 2.83L4 21.41c.39.39.9.59 1.41.59.51 0 1.02-.2 1.41-.59l7.78-7.78 2.81-2.81c.8-.78.8-2.07 0-2.86zM5.41 20L4 18.59l7.72-7.72 1.47 1.35L5.41 20z\"/>\n",
              "  </svg>\n",
              "      </button>\n",
              "      \n",
              "  <style>\n",
              "    .colab-df-container {\n",
              "      display:flex;\n",
              "      flex-wrap:wrap;\n",
              "      gap: 12px;\n",
              "    }\n",
              "\n",
              "    .colab-df-convert {\n",
              "      background-color: #E8F0FE;\n",
              "      border: none;\n",
              "      border-radius: 50%;\n",
              "      cursor: pointer;\n",
              "      display: none;\n",
              "      fill: #1967D2;\n",
              "      height: 32px;\n",
              "      padding: 0 0 0 0;\n",
              "      width: 32px;\n",
              "    }\n",
              "\n",
              "    .colab-df-convert:hover {\n",
              "      background-color: #E2EBFA;\n",
              "      box-shadow: 0px 1px 2px rgba(60, 64, 67, 0.3), 0px 1px 3px 1px rgba(60, 64, 67, 0.15);\n",
              "      fill: #174EA6;\n",
              "    }\n",
              "\n",
              "    [theme=dark] .colab-df-convert {\n",
              "      background-color: #3B4455;\n",
              "      fill: #D2E3FC;\n",
              "    }\n",
              "\n",
              "    [theme=dark] .colab-df-convert:hover {\n",
              "      background-color: #434B5C;\n",
              "      box-shadow: 0px 1px 3px 1px rgba(0, 0, 0, 0.15);\n",
              "      filter: drop-shadow(0px 1px 2px rgba(0, 0, 0, 0.3));\n",
              "      fill: #FFFFFF;\n",
              "    }\n",
              "  </style>\n",
              "\n",
              "      <script>\n",
              "        const buttonEl =\n",
              "          document.querySelector('#df-2df633e2-4e22-4650-abbf-f37029da02f8 button.colab-df-convert');\n",
              "        buttonEl.style.display =\n",
              "          google.colab.kernel.accessAllowed ? 'block' : 'none';\n",
              "\n",
              "        async function convertToInteractive(key) {\n",
              "          const element = document.querySelector('#df-2df633e2-4e22-4650-abbf-f37029da02f8');\n",
              "          const dataTable =\n",
              "            await google.colab.kernel.invokeFunction('convertToInteractive',\n",
              "                                                     [key], {});\n",
              "          if (!dataTable) return;\n",
              "\n",
              "          const docLinkHtml = 'Like what you see? Visit the ' +\n",
              "            '<a target=\"_blank\" href=https://colab.research.google.com/notebooks/data_table.ipynb>data table notebook</a>'\n",
              "            + ' to learn more about interactive tables.';\n",
              "          element.innerHTML = '';\n",
              "          dataTable['output_type'] = 'display_data';\n",
              "          await google.colab.output.renderOutput(dataTable, element);\n",
              "          const docLink = document.createElement('div');\n",
              "          docLink.innerHTML = docLinkHtml;\n",
              "          element.appendChild(docLink);\n",
              "        }\n",
              "      </script>\n",
              "    </div>\n",
              "  </div>\n",
              "  "
            ]
          },
          "metadata": {},
          "execution_count": 190
        }
      ]
    },
    {
      "cell_type": "code",
      "source": [
        ""
      ],
      "metadata": {
        "id": "1fOHee-V02O4"
      },
      "execution_count": null,
      "outputs": []
    },
    {
      "cell_type": "code",
      "source": [
        "import numpy as np\n",
        "import matplotlib.pyplot as plt\n",
        "# creating the dataset\n",
        "data = {'Nevocytic Nevus':df.groupby('quality').size()[0], 'Dermatofibroma':df.groupby('quality').size()[1], 'Pigmented Benign Keratosis':df.groupby('quality').size()[2],\n",
        "\t\t'Solar Lentigo':df.groupby('quality').size()[3],'Vascular Lesion':df.groupby('quality').size()[4],'Lentigo Nos':df.groupby('quality').size()[5]}\n",
        "courses = list(data.keys())\n",
        "values = list(data.values())\n",
        "\n",
        "fig = plt.figure(figsize = (6, 4))\n",
        "\n",
        "# creating the bar plot\n",
        "plt.bar(courses, values, color =['coral','gold','seagreen','lightcoral','dodgerblue','violet'],\n",
        "\t\twidth = 0.7)\n",
        "plt.xticks(rotation=75)\n",
        "plt.xlabel(\"Diseases\")\n",
        "plt.ylabel(\"No. of instances\")\n",
        "# plt.title(\"\")\n",
        "plt.yticks(  rotation='vertical')\n",
        "plt.show()\n"
      ],
      "metadata": {
        "colab": {
          "base_uri": "https://localhost:8080/",
          "height": 408
        },
        "outputId": "e2e48d7a-2f11-47ed-f84b-f1d09657fb6e",
        "id": "W-lL8qRY02y2"
      },
      "execution_count": null,
      "outputs": [
        {
          "output_type": "display_data",
          "data": {
            "text/plain": [
              "<Figure size 432x288 with 1 Axes>"
            ],
            "image/png": "[encoded data removed]"
          },
          "metadata": {
            "needs_background": "light"
          }
        }
      ]
    },
    {
      "cell_type": "code",
      "source": [
        "label_segnet=df['label']\n",
        "df_segnet_final = df.drop('label', axis = 1).values"
      ],
      "metadata": {
        "id": "hO7sPAQv06N6"
      },
      "execution_count": null,
      "outputs": []
    },
    {
      "cell_type": "code",
      "source": [
        "from sklearn.model_selection import train_test_split\n",
        "\n",
        "X_train, X_test, y_train, y_test = train_test_split(df_segnet_final, label_segnet ,\n",
        "                                                    test_size=0.225, random_state=44)\n",
        "print('Training on ',X_train.shape[0],' images')\n",
        "print('Testing on ',X_test.shape[0],' images')"
      ],
      "metadata": {
        "execution": {
          "iopub.status.busy": "2022-06-05T07:08:39.501008Z",
          "iopub.execute_input": "2022-06-05T07:08:39.501251Z",
          "iopub.status.idle": "2022-06-05T07:08:39.510763Z",
          "shell.execute_reply.started": "2022-06-05T07:08:39.501223Z",
          "shell.execute_reply": "2022-06-05T07:08:39.509923Z"
        },
        "trusted": true,
        "id": "Hh2IeNXAM32O",
        "outputId": "fabf06e3-7a2f-42ee-9122-735553cfb191"
      },
      "execution_count": null,
      "outputs": [
        {
          "name": "stdout",
          "text": "Training on  2332  images\nTesting on  678  images\n",
          "output_type": "stream"
        }
      ]
    },
    {
      "cell_type": "markdown",
      "source": [
        "### Random Forest"
      ],
      "metadata": {
        "id": "zwaA21RjM32P"
      }
    },
    {
      "cell_type": "code",
      "source": [
        ""
      ],
      "metadata": {
        "id": "A-oMLMUy5jzf"
      },
      "execution_count": null,
      "outputs": []
    },
    {
      "cell_type": "code",
      "source": [
        "rf = RandomForestClassifier(n_estimators=30,random_state=77)\n",
        "rf.fit(X_train, y_train)\n",
        "predictions = rf.predict(X_test)\n",
        "predictions=np.round(predictions)\n",
        "\n",
        "target_names = ['Nevocytic Nevus', 'Dermatofibroma', 'Pigmented Benign Keratosis', 'Solar Lentigo','Vascular Lesion','Lentigo Nos']\n",
        "print (\"Accuracy:\", ms.accuracy_score(y_test,predictions))\n",
        "print(classification_report(y_test, predictions, target_names=target_names))\n",
        "cf_matrix=plot_confusion_matrix(rf, X_test, y_test)  "
      ],
      "metadata": {
        "colab": {
          "base_uri": "https://localhost:8080/",
          "height": 577
        },
        "id": "OFE7VaM7hnxa",
        "outputId": "513a46e0-bd90-444b-f120-88c84cc416ef"
      },
      "execution_count": null,
      "outputs": [
        {
          "output_type": "stream",
          "name": "stdout",
          "text": [
            "Accuracy: 0.855457227138643\n",
            "                            precision    recall  f1-score   support\n",
            "\n",
            "           Nevocytic Nevus       0.89      1.00      0.94       103\n",
            "            Dermatofibroma       0.94      0.70      0.80       108\n",
            "Pigmented Benign Keratosis       0.76      0.80      0.78       112\n",
            "             Solar Lentigo       0.69      0.85      0.76       119\n",
            "           Vascular Lesion       0.97      0.79      0.87       121\n",
            "               Lentigo Nos       0.97      1.00      0.99       115\n",
            "\n",
            "                  accuracy                           0.86       678\n",
            "                 macro avg       0.87      0.86      0.86       678\n",
            "              weighted avg       0.87      0.86      0.86       678\n",
            "\n"
          ]
        },
        {
          "output_type": "stream",
          "name": "stderr",
          "text": [
            "/usr/local/lib/python3.7/dist-packages/sklearn/utils/deprecation.py:87: FutureWarning: Function plot_confusion_matrix is deprecated; Function `plot_confusion_matrix` is deprecated in 1.0 and will be removed in 1.2. Use one of the class methods: ConfusionMatrixDisplay.from_predictions or ConfusionMatrixDisplay.from_estimator.\n",
            "  warnings.warn(msg, category=FutureWarning)\n"
          ]
        },
        {
          "output_type": "display_data",
          "data": {
            "text/plain": [
              "<Figure size 432x288 with 2 Axes>"
            ],
            "image/png": "[encoded data removed]"
          },
          "metadata": {
            "needs_background": "light"
          }
        }
      ]
    },
    {
      "cell_type": "markdown",
      "source": [
        "### SVC"
      ],
      "metadata": {
        "id": "iVS2G2BkM32S"
      }
    },
    {
      "cell_type": "code",
      "source": [
        "from sklearn.metrics import confusion_matrix\n",
        "from sklearn.metrics import plot_confusion_matrix\n",
        "from sklearn.svm import SVC\n",
        "svc= SVC(gamma='auto',C=4.0,degree=5,kernel='rbf')\n",
        " \n",
        "svc.fit(X_train, y_train)\n",
        "predictions = svc.predict(X_test )\n",
        "predictions=np.round(predictions)\n",
        "\n",
        "\n",
        "target_names = ['Nevocytic Nevus', 'Dermatofibroma', 'Pigmented Benign Keratosis', 'Solar Lentigo','Vascular Lesion','Lentigo Nos']\n",
        "print (\"Accuracy:\", ms.accuracy_score(y_test,predictions))\n",
        "print(classification_report(y_test, predictions, target_names=target_names))\n",
        "cf_matrix=plot_confusion_matrix(svc, X_test, y_test)  "
      ],
      "metadata": {
        "execution": {
          "iopub.status.busy": "2022-06-05T08:05:41.502288Z",
          "iopub.execute_input": "2022-06-05T08:05:41.502557Z",
          "iopub.status.idle": "2022-06-05T08:05:42.195629Z",
          "shell.execute_reply.started": "2022-06-05T08:05:41.502527Z",
          "shell.execute_reply": "2022-06-05T08:05:42.194917Z"
        },
        "trusted": true,
        "id": "ziZ6r2A5M32S",
        "outputId": "53fdde2c-d3a9-4029-89a9-5f35c72e793d"
      },
      "execution_count": null,
      "outputs": [
        {
          "name": "stdout",
          "text": "Accuracy: 0.827433628318584\n                            precision    recall  f1-score   support\n\n           Nevocytic Nevus       0.97      1.00      0.98       111\n            Dermatofibroma       0.84      0.93      0.89       104\nPigmented Benign Keratosis       0.77      0.70      0.74       117\n             Solar Lentigo       0.62      0.62      0.62       116\n           Vascular Lesion       0.86      0.73      0.79       114\n               Lentigo Nos       0.89      1.00      0.94       116\n\n                  accuracy                           0.83       678\n                 macro avg       0.83      0.83      0.83       678\n              weighted avg       0.83      0.83      0.82       678\n\n",
          "output_type": "stream"
        },
        {
          "name": "stderr",
          "text": "/opt/conda/lib/python3.7/site-packages/sklearn/utils/deprecation.py:87: FutureWarning: Function plot_confusion_matrix is deprecated; Function `plot_confusion_matrix` is deprecated in 1.0 and will be removed in 1.2. Use one of the class methods: ConfusionMatrixDisplay.from_predictions or ConfusionMatrixDisplay.from_estimator.\n  warnings.warn(msg, category=FutureWarning)\n",
          "output_type": "stream"
        },
        {
          "output_type": "display_data",
          "data": {
            "text/plain": "<Figure size 432x288 with 2 Axes>",
            "image/png": "[encoded data removed]"
          },
          "metadata": {
            "needs_background": "light"
          }
        }
      ]
    },
    {
      "cell_type": "markdown",
      "source": [
        "### Decision Tree"
      ],
      "metadata": {
        "id": "RTydxA1_M32U"
      }
    },
    {
      "cell_type": "code",
      "source": [
        "\n",
        "from sklearn import tree\n",
        "dt =  tree.DecisionTreeClassifier(random_state=0, max_depth=10)\n",
        "predictions = dt.fit(X_train, y_train).predict(X_test)\n",
        "predictions=np.round(predictions)\n",
        "\n",
        "target_names = ['Nevocytic Nevus', 'Dermatofibroma', 'Pigmented Benign Keratosis', 'Solar Lentigo','Vascular Lesion','Lentigo Nos']\n",
        "print (\"Accuracy:\", ms.accuracy_score(y_test,predictions))\n",
        "print(classification_report(y_test, predictions, target_names=target_names))\n",
        "cf_matrix=plot_confusion_matrix(dt, X_test, y_test)  "
      ],
      "metadata": {
        "execution": {
          "iopub.status.busy": "2022-06-05T08:06:21.475004Z",
          "iopub.execute_input": "2022-06-05T08:06:21.475253Z",
          "iopub.status.idle": "2022-06-05T08:06:21.790748Z",
          "shell.execute_reply.started": "2022-06-05T08:06:21.475225Z",
          "shell.execute_reply": "2022-06-05T08:06:21.789951Z"
        },
        "trusted": true,
        "id": "teth_Xd5M32V",
        "outputId": "728a0056-f06d-4cf7-c56c-1c145edbba72"
      },
      "execution_count": null,
      "outputs": [
        {
          "name": "stdout",
          "text": "Accuracy: 0.9085545722713865\n                            precision    recall  f1-score   support\n\n           Nevocytic Nevus       0.98      1.00      0.99       111\n            Dermatofibroma       0.87      1.00      0.93       104\nPigmented Benign Keratosis       0.91      0.82      0.86       117\n             Solar Lentigo       0.81      0.83      0.82       116\n           Vascular Lesion       0.92      0.82      0.87       114\n               Lentigo Nos       0.96      1.00      0.98       116\n\n                  accuracy                           0.91       678\n                 macro avg       0.91      0.91      0.91       678\n              weighted avg       0.91      0.91      0.91       678\n\n",
          "output_type": "stream"
        },
        {
          "name": "stderr",
          "text": "/opt/conda/lib/python3.7/site-packages/sklearn/utils/deprecation.py:87: FutureWarning: Function plot_confusion_matrix is deprecated; Function `plot_confusion_matrix` is deprecated in 1.0 and will be removed in 1.2. Use one of the class methods: ConfusionMatrixDisplay.from_predictions or ConfusionMatrixDisplay.from_estimator.\n  warnings.warn(msg, category=FutureWarning)\n",
          "output_type": "stream"
        },
        {
          "output_type": "display_data",
          "data": {
            "text/plain": "<Figure size 432x288 with 2 Axes>",
            "image/png": "[encoded data removed]"
          },
          "metadata": {
            "needs_background": "light"
          }
        }
      ]
    },
    {
      "cell_type": "markdown",
      "source": [
        "### Naieve Bayes"
      ],
      "metadata": {
        "id": "RL2f1LdMM32W"
      }
    },
    {
      "cell_type": "code",
      "source": [
        "from sklearn.naive_bayes import GaussianNB\n",
        "from sklearn import tree\n",
        "bounds = ([4.3, 2.0, 1.0, 0.1], [7.9, 4.4, 6.9, 2.5])\n",
        "\n",
        "gnb =   GaussianNB()\n",
        "predictions = gnb.fit(X_train, y_train).predict(X_test)\n",
        "predictions=np.round(predictions)\n",
        "# predictions=np.round(predictions)\n",
        "\n",
        "target_names =['Nevocytic Nevus', 'Dermatofibroma', 'Pigmented Benign Keratosis', 'Solar Lentigo','Vascular Lesion','Lentigo Nos']\n",
        "print (\"Accuracy:\", ms.accuracy_score(y_test,predictions))\n",
        "print(classification_report(y_test, predictions, target_names=target_names))\n",
        "cf_matrix=plot_confusion_matrix(gnb, X_test, y_test)  \n"
      ],
      "metadata": {
        "execution": {
          "iopub.status.busy": "2022-06-05T08:07:57.374008Z",
          "iopub.execute_input": "2022-06-05T08:07:57.374261Z",
          "iopub.status.idle": "2022-06-05T08:07:58.044317Z",
          "shell.execute_reply.started": "2022-06-05T08:07:57.374233Z",
          "shell.execute_reply": "2022-06-05T08:07:58.043661Z"
        },
        "trusted": true,
        "id": "BE_wsHtMM32X",
        "outputId": "152f703f-e8cf-4583-83eb-7e0fb04cb667"
      },
      "execution_count": null,
      "outputs": [
        {
          "name": "stdout",
          "text": "Accuracy: 0.6061946902654868\n                            precision    recall  f1-score   support\n\n           Nevocytic Nevus       0.78      1.00      0.88       111\n            Dermatofibroma       0.55      0.52      0.53       104\nPigmented Benign Keratosis       0.55      0.63      0.59       117\n             Solar Lentigo       0.38      0.23      0.29       116\n           Vascular Lesion       0.57      0.25      0.35       114\n               Lentigo Nos       0.64      1.00      0.78       116\n\n                  accuracy                           0.61       678\n                 macro avg       0.58      0.61      0.57       678\n              weighted avg       0.58      0.61      0.57       678\n\n",
          "output_type": "stream"
        },
        {
          "name": "stderr",
          "text": "/opt/conda/lib/python3.7/site-packages/sklearn/utils/deprecation.py:87: FutureWarning: Function plot_confusion_matrix is deprecated; Function `plot_confusion_matrix` is deprecated in 1.0 and will be removed in 1.2. Use one of the class methods: ConfusionMatrixDisplay.from_predictions or ConfusionMatrixDisplay.from_estimator.\n  warnings.warn(msg, category=FutureWarning)\n",
          "output_type": "stream"
        },
        {
          "output_type": "display_data",
          "data": {
            "text/plain": "<Figure size 432x288 with 2 Axes>",
            "image/png": "[encoded data removed]"
          },
          "metadata": {
            "needs_background": "light"
          }
        }
      ]
    },
    {
      "cell_type": "markdown",
      "source": [
        "### Emsemble"
      ],
      "metadata": {
        "id": "Ck3T3_UvhpVd"
      }
    },
    {
      "cell_type": "code",
      "source": [
        ""
      ],
      "metadata": {
        "id": "_rVt0iF75acF"
      },
      "execution_count": null,
      "outputs": []
    },
    {
      "cell_type": "code",
      "source": [
        "\n",
        "clf1 = tree.DecisionTreeClassifier(random_state=0, max_depth=10)\n",
        "clf2 = RandomForestClassifier(n_estimators=30, random_state=77)\n",
        "clf3 = GaussianNB()\n",
        "clf4 = SVC(gamma='auto',C=5.0,degree=5,kernel='rbf')\n",
        "\n",
        "eclf1 = VotingClassifier(estimators=[\n",
        "        ('dt', clf1), ('rf', clf2), ('gnb', clf3),('svc', clf4)], voting='hard')\n",
        "predictions = eclf1.fit(X_train, y_train).predict(X_test)\n",
        "# predictions = eclf1.predict(X_test)\n",
        "predictions=np.round(predictions)\n",
        "\n",
        "target_names = ['Nevocytic Nevus', 'Dermatofibroma', 'Pigmented Benign Keratosis', 'Solar Lentigo','Vascular Lesion','Lentigo Nos']\n",
        "print (\"Accuracy:\", ms.accuracy_score(y_test,predictions))\n",
        "print(classification_report(y_test, predictions, target_names=target_names))\n",
        "cf_matrix=plot_confusion_matrix(eclf1, X_test, y_test)  "
      ],
      "metadata": {
        "execution": {
          "iopub.status.busy": "2022-06-05T07:29:49.475277Z",
          "iopub.execute_input": "2022-06-05T07:29:49.475702Z",
          "iopub.status.idle": "2022-06-05T07:29:49.911720Z",
          "shell.execute_reply.started": "2022-06-05T07:29:49.475655Z",
          "shell.execute_reply": "2022-06-05T07:29:49.911028Z"
        },
        "trusted": true,
        "id": "HzUmDYV0M32E",
        "outputId": "b8da93a0-cce5-4bb1-8db0-2c87356ea41d"
      },
      "execution_count": null,
      "outputs": [
        {
          "name": "stdout",
          "text": "Accuracy: 0.9306784660766961\n                            precision    recall  f1-score   support\n\n           Nevocytic Nevus       0.97      1.00      0.99       111\n            Dermatofibroma       0.85      1.00      0.92       104\nPigmented Benign Keratosis       0.86      0.89      0.87       117\n             Solar Lentigo       0.92      0.80      0.86       116\n           Vascular Lesion       0.99      0.90      0.94       114\n               Lentigo Nos       1.00      1.00      1.00       116\n\n                  accuracy                           0.93       678\n                 macro avg       0.93      0.93      0.93       678\n              weighted avg       0.93      0.93      0.93       678\n\n",
          "output_type": "stream"
        },
        {
          "name": "stderr",
          "text": "/opt/conda/lib/python3.7/site-packages/sklearn/utils/deprecation.py:87: FutureWarning: Function plot_confusion_matrix is deprecated; Function `plot_confusion_matrix` is deprecated in 1.0 and will be removed in 1.2. Use one of the class methods: ConfusionMatrixDisplay.from_predictions or ConfusionMatrixDisplay.from_estimator.\n  warnings.warn(msg, category=FutureWarning)\n",
          "output_type": "stream"
        },
        {
          "output_type": "display_data",
          "data": {
            "text/plain": "<Figure size 432x288 with 2 Axes>",
            "image/png": "[encoded data removed]"
          },
          "metadata": {
            "needs_background": "light"
          }
        }
      ]
    },
    {
      "cell_type": "markdown",
      "source": [
        "### ---------------------------------------------------------------------------------------"
      ],
      "metadata": {
        "id": "kP445XBhM32Y"
      }
    },
    {
      "cell_type": "code",
      "source": [
        ""
      ],
      "metadata": {
        "id": "W1CsTFUN1XYu"
      },
      "execution_count": null,
      "outputs": []
    },
    {
      "cell_type": "code",
      "source": [
        ""
      ],
      "metadata": {
        "id": "I-uNg42l1bv8"
      },
      "execution_count": null,
      "outputs": []
    }
  ]
}